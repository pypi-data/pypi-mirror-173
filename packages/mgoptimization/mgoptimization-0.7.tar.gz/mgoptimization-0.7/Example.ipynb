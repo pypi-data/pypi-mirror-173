{
 "cells": [
  {
   "cell_type": "code",
   "execution_count": null,
   "metadata": {},
   "outputs": [],
   "source": [
    "import mgoptimization.hybrids_pv as hyb\n",
    "import mgoptimization.pso_optimizer as pso\n",
    "import os"
   ]
  },
  {
   "cell_type": "code",
   "execution_count": null,
   "metadata": {},
   "outputs": [],
   "source": [
    "long = 8\n",
    "lat = 10"
   ]
  },
  {
   "cell_type": "code",
   "execution_count": null,
   "metadata": {},
   "outputs": [],
   "source": [
    "pv_data_folder = 'FOLDER_TO_SAVE_PV_DATA_IN'"
   ]
  },
  {
   "cell_type": "code",
   "execution_count": null,
   "metadata": {},
   "outputs": [],
   "source": [
    "token = 'RENEWABLE NINJA TOKEN'"
   ]
  },
  {
   "cell_type": "code",
   "execution_count": null,
   "metadata": {},
   "outputs": [],
   "source": [
    "get_pv_data(lat, long, token, pv_data_folder)"
   ]
  },
  {
   "cell_type": "code",
   "execution_count": null,
   "metadata": {},
   "outputs": [],
   "source": [
    "hourly_ghi, hourly_temp = read_environmental_data(os.path.join(pv_data_folder, 'pv_data_lat_{}_long_{}.csv'.format(lat, long)))"
   ]
  },
  {
   "cell_type": "code",
   "execution_count": null,
   "metadata": {},
   "outputs": [],
   "source": [
    "demand = 10000\n",
    "tier = 5\n",
    "diesel_price = 0.4"
   ]
  },
  {
   "cell_type": "code",
   "execution_count": null,
   "metadata": {},
   "outputs": [],
   "source": [
    "load_curve = calc_load_curve(tier, demand)"
   ]
  },
  {
   "cell_type": "code",
   "execution_count": null,
   "metadata": {},
   "outputs": [],
   "source": [
    "result = optimizer(diesel_price=diesel_price,\n",
    "                   hourly_ghi=hourly_ghi,\n",
    "                   hourly_temp=hourly_temp,\n",
    "                   load_curve=load_curve,\n",
    "                   iterations=100,\n",
    "                   n_particles=100,\n",
    "                   verbose=True)\n",
    "\n",
    "print('Optimum PV capacity is found to be {} kW'.format(round(result['pv_capacity'], 1)))\n",
    "print('Optimum diesel capacity is found to be {} kW'.format(round(result['diesel_gen_capacity'], 1)))\n",
    "print('Optimum battery capacity is found to be {} kWh'.format(round(result['battery_capacity'], 1)))"
   ]
  },
  {
   "cell_type": "code",
   "execution_count": null,
   "metadata": {},
   "outputs": [],
   "source": [
    "import matplotlib.pyplot as plt\n",
    "import numpy as np"
   ]
  },
  {
   "cell_type": "code",
   "execution_count": null,
   "metadata": {},
   "outputs": [],
   "source": [
    "load = np.array(load_curve[2400:2448])\n",
    "pv_gen = np.array(result['hourly_pv_gen'][2400:2448])\n",
    "diesel_gen = np.array(result['hourly_diesel_gen'][2400:2448])\n",
    "battery_soc = np.array(result['battery_hourly_soc'][2400:2448])\n",
    "battery_usage = np.array(result['hourly_battery_usage'][2400:2448])\n",
    "\n",
    "plt.plot(load, label='Load')\n",
    "plt.plot(pv_gen, label='PV gen')\n",
    "plt.plot(diesel_gen, 'o', label='Diesel gen')\n",
    "plt.plot(battery_soc, label='Battery SOC')\n",
    "plt.plot(battery_usage, 'o', label='Battery discharge')\n",
    "plt.legend(loc='lower right')"
   ]
  }
 ],
 "metadata": {
  "kernelspec": {
   "display_name": "Python 3 (ipykernel)",
   "language": "python",
   "name": "python3"
  },
  "language_info": {
   "codemirror_mode": {
    "name": "ipython",
    "version": 3
   },
   "file_extension": ".py",
   "mimetype": "text/x-python",
   "name": "python",
   "nbconvert_exporter": "python",
   "pygments_lexer": "ipython3",
   "version": "3.10.6"
  }
 },
 "nbformat": 4,
 "nbformat_minor": 4
}
