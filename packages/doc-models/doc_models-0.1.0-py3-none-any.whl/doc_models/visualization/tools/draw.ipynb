{
 "cells": [
  {
   "cell_type": "code",
   "execution_count": null,
   "metadata": {},
   "outputs": [],
   "source": [
    "%autoreload 2"
   ]
  },
  {
   "cell_type": "code",
   "execution_count": null,
   "metadata": {},
   "outputs": [],
   "source": [
    "from pathlib import Path\n",
    "import cv2\n",
    "from PIL import Image\n",
    "from doc_models.components import Document\n",
    "from doc_models.visualization import img_draw\n",
    "from doc_models.visualization.drawer import ImgDraw\n",
    "from doc_models.visualization.types import Font\n",
    "from doc_models.visualization.colors import BGRColors"
   ]
  },
  {
   "cell_type": "code",
   "execution_count": null,
   "metadata": {},
   "outputs": [],
   "source": [
    "img_base_dir='/home/dan/my-github-packages/pdf-extract/images'\n",
    "pdf_file='/home/dan/my-github-packages/pdf-extract/tests/data/aapl10k.pdf'"
   ]
  },
  {
   "cell_type": "code",
   "execution_count": null,
   "metadata": {},
   "outputs": [],
   "source": [
    "img_base_dir = \"/home/dan/my-github-packages/pdf-extract/aapl10k_images\"\n",
    "pdf_file = \"/home/dan/my-github-packages/pdf-extract/tests/data/aapl10k.pdf\"\n",
    "\n",
    "doc = Document(pdf_file, ocr_engines=None)"
   ]
  },
  {
   "cell_type": "code",
   "execution_count": null,
   "metadata": {},
   "outputs": [],
   "source": [
    "draw = ImgDraw(\n",
    "    doc=doc,\n",
    "    img_base_dir=img_base_dir,\n",
    ")\n",
    "draw.line_clusters( thickness=3)"
   ]
  },
  {
   "cell_type": "code",
   "execution_count": null,
   "metadata": {},
   "outputs": [],
   "source": [
    "draw.save()"
   ]
  },
  {
   "cell_type": "code",
   "execution_count": null,
   "metadata": {},
   "outputs": [],
   "source": [
    "Image.fromarray(draw.get_page_imgs(3)[0].img)"
   ]
  },
  {
   "cell_type": "code",
   "execution_count": null,
   "metadata": {},
   "outputs": [],
   "source": [
    "draw.expected_line_space(pg_idx=1)"
   ]
  },
  {
   "cell_type": "code",
   "execution_count": null,
   "metadata": {},
   "outputs": [],
   "source": [
    "from PIL import Image\n",
    "from doc_models.types import BBox\n",
    "\n",
    "#Image.fromarray(pg_img.img)"
   ]
  },
  {
   "cell_type": "code",
   "execution_count": null,
   "metadata": {},
   "outputs": [],
   "source": [
    "from statistics import stdev, mean"
   ]
  },
  {
   "cell_type": "code",
   "execution_count": null,
   "metadata": {},
   "outputs": [],
   "source": [
    "def lines():\n",
    "    lines = pg_img.page.lines[5:10]\n",
    "    draw.rectangle(\n",
    "        pg_img=pg_img,\n",
    "        bbox=BBox.from_bboxes([l.bbox for l in pg_img.page.lines[5:10]]),\n",
    "        bbox_img_space = False,\n",
    "        thickness = 2,\n",
    "        color=BGRColors.RED,\n",
    "        line_type=cv2.LINE_8,\n",
    "    )"
   ]
  },
  {
   "cell_type": "code",
   "execution_count": null,
   "metadata": {},
   "outputs": [],
   "source": [
    "doc.line_spacing._font_size_common_line_spaces"
   ]
  },
  {
   "cell_type": "code",
   "execution_count": null,
   "metadata": {},
   "outputs": [],
   "source": [
    "from doc_models.visualization.colors import BGRColors\n",
    "from doc_models.types import BBox"
   ]
  },
  {
   "cell_type": "code",
   "execution_count": null,
   "metadata": {},
   "outputs": [],
   "source": [
    "doc.line_spacing._font_line_spaces_indexes"
   ]
  },
  {
   "cell_type": "code",
   "execution_count": null,
   "metadata": {},
   "outputs": [],
   "source": [
    "[p.line_clusters for p in doc.pages]"
   ]
  }
 ],
 "metadata": {
  "kernelspec": {
   "display_name": "Python 3.8.10 ('pdf-extract-eEkv0bt7-py3.8')",
   "language": "python",
   "name": "python3"
  },
  "language_info": {
   "codemirror_mode": {
    "name": "ipython",
    "version": 3
   },
   "file_extension": ".py",
   "mimetype": "text/x-python",
   "name": "python",
   "nbconvert_exporter": "python",
   "pygments_lexer": "ipython3",
   "version": "3.8.10"
  },
  "orig_nbformat": 4,
  "vscode": {
   "interpreter": {
    "hash": "fa1fa717d5de5f8cf443f2400ee34fc7522b3522ce5bd45639c4064f2485604a"
   }
  }
 },
 "nbformat": 4,
 "nbformat_minor": 2
}
