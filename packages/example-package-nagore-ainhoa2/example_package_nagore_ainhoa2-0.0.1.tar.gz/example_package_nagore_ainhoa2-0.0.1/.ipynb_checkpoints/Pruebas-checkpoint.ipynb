{
 "cells": [
  {
   "cell_type": "code",
   "execution_count": 1,
   "id": "a228266e",
   "metadata": {},
   "outputs": [],
   "source": [
    "import warnings\n",
    "import itertools\n",
    "import numpy as np\n",
    "import pandas as pd\n",
    "from math import ceil\n",
    "import seaborn as sns\n",
    "import matplotlib.pyplot as plt"
   ]
  },
  {
   "cell_type": "code",
   "execution_count": 2,
   "id": "7e3b8105",
   "metadata": {},
   "outputs": [],
   "source": [
    "df = pd.read_csv(\"datos_caracteristicas.csv\")"
   ]
  },
  {
   "cell_type": "code",
   "execution_count": 4,
   "id": "1b18e816",
   "metadata": {},
   "outputs": [
    {
     "name": "stdout",
     "output_type": "stream",
     "text": [
      "Collecting example-package-nagore-ainhoa==0.0.1\n",
      "  Using cached example_package_nagore_ainhoa-0.0.1-py3-none-any.whl (5.6 kB)\n",
      "Installing collected packages: example-package-nagore-ainhoa\n",
      "Successfully installed example-package-nagore-ainhoa-0.0.1\n"
     ]
    },
    {
     "name": "stderr",
     "output_type": "stream",
     "text": [
      "WARNING: Ignoring invalid distribution -mpy (c:\\programdata\\anaconda3\\lib\\site-packages)\n",
      "WARNING: Ignoring invalid distribution -ml (c:\\programdata\\anaconda3\\lib\\site-packages)\n",
      "WARNING: Ignoring invalid distribution -yparsing (c:\\programdata\\anaconda3\\lib\\site-packages)\n",
      "WARNING: Ignoring invalid distribution -xml (c:\\programdata\\anaconda3\\lib\\site-packages)\n",
      "WARNING: Ignoring invalid distribution -umpy (c:\\programdata\\anaconda3\\lib\\site-packages)\n",
      "WARNING: Ignoring invalid distribution -mpy (c:\\programdata\\anaconda3\\lib\\site-packages)\n",
      "WARNING: Ignoring invalid distribution -0mpy (c:\\programdata\\anaconda3\\lib\\site-packages)\n",
      "WARNING: Ignoring invalid distribution -mportlib-metadata (c:\\programdata\\anaconda3\\lib\\site-packages)\n",
      "WARNING: Ignoring invalid distribution -ml (c:\\programdata\\anaconda3\\lib\\site-packages)\n",
      "WARNING: Ignoring invalid distribution - (c:\\programdata\\anaconda3\\lib\\site-packages)\n",
      "WARNING: Ignoring invalid distribution -eaborn (c:\\programdata\\anaconda3\\lib\\site-packages)\n",
      "WARNING: Ignoring invalid distribution -andas (c:\\programdata\\anaconda3\\lib\\site-packages)\n",
      "WARNING: Ignoring invalid distribution -mpy (c:\\programdata\\anaconda3\\lib\\site-packages)\n",
      "WARNING: Ignoring invalid distribution -ml (c:\\programdata\\anaconda3\\lib\\site-packages)\n",
      "WARNING: Ignoring invalid distribution -yparsing (c:\\programdata\\anaconda3\\lib\\site-packages)\n",
      "WARNING: Ignoring invalid distribution -xml (c:\\programdata\\anaconda3\\lib\\site-packages)\n",
      "WARNING: Ignoring invalid distribution -umpy (c:\\programdata\\anaconda3\\lib\\site-packages)\n",
      "WARNING: Ignoring invalid distribution -mpy (c:\\programdata\\anaconda3\\lib\\site-packages)\n",
      "WARNING: Ignoring invalid distribution -0mpy (c:\\programdata\\anaconda3\\lib\\site-packages)\n",
      "WARNING: Ignoring invalid distribution -mportlib-metadata (c:\\programdata\\anaconda3\\lib\\site-packages)\n",
      "WARNING: Ignoring invalid distribution -ml (c:\\programdata\\anaconda3\\lib\\site-packages)\n",
      "WARNING: Ignoring invalid distribution - (c:\\programdata\\anaconda3\\lib\\site-packages)\n",
      "WARNING: Ignoring invalid distribution -eaborn (c:\\programdata\\anaconda3\\lib\\site-packages)\n",
      "WARNING: Ignoring invalid distribution -andas (c:\\programdata\\anaconda3\\lib\\site-packages)\n",
      "WARNING: Ignoring invalid distribution -mpy (c:\\programdata\\anaconda3\\lib\\site-packages)\n",
      "WARNING: Ignoring invalid distribution -ml (c:\\programdata\\anaconda3\\lib\\site-packages)\n",
      "WARNING: Ignoring invalid distribution -yparsing (c:\\programdata\\anaconda3\\lib\\site-packages)\n",
      "WARNING: Ignoring invalid distribution -xml (c:\\programdata\\anaconda3\\lib\\site-packages)\n",
      "WARNING: Ignoring invalid distribution -umpy (c:\\programdata\\anaconda3\\lib\\site-packages)\n",
      "WARNING: Ignoring invalid distribution -mpy (c:\\programdata\\anaconda3\\lib\\site-packages)\n",
      "WARNING: Ignoring invalid distribution -0mpy (c:\\programdata\\anaconda3\\lib\\site-packages)\n",
      "WARNING: Ignoring invalid distribution -mportlib-metadata (c:\\programdata\\anaconda3\\lib\\site-packages)\n",
      "WARNING: Ignoring invalid distribution -ml (c:\\programdata\\anaconda3\\lib\\site-packages)\n",
      "WARNING: Ignoring invalid distribution - (c:\\programdata\\anaconda3\\lib\\site-packages)\n",
      "WARNING: Ignoring invalid distribution -eaborn (c:\\programdata\\anaconda3\\lib\\site-packages)\n",
      "WARNING: Ignoring invalid distribution -andas (c:\\programdata\\anaconda3\\lib\\site-packages)\n",
      "WARNING: Ignoring invalid distribution -mpy (c:\\programdata\\anaconda3\\lib\\site-packages)\n",
      "WARNING: Ignoring invalid distribution -ml (c:\\programdata\\anaconda3\\lib\\site-packages)\n",
      "WARNING: Ignoring invalid distribution -yparsing (c:\\programdata\\anaconda3\\lib\\site-packages)\n",
      "WARNING: Ignoring invalid distribution -xml (c:\\programdata\\anaconda3\\lib\\site-packages)\n",
      "WARNING: Ignoring invalid distribution -umpy (c:\\programdata\\anaconda3\\lib\\site-packages)\n",
      "WARNING: Ignoring invalid distribution -mpy (c:\\programdata\\anaconda3\\lib\\site-packages)\n",
      "WARNING: Ignoring invalid distribution -0mpy (c:\\programdata\\anaconda3\\lib\\site-packages)\n",
      "WARNING: Ignoring invalid distribution -mportlib-metadata (c:\\programdata\\anaconda3\\lib\\site-packages)\n",
      "WARNING: Ignoring invalid distribution -ml (c:\\programdata\\anaconda3\\lib\\site-packages)\n",
      "WARNING: Ignoring invalid distribution - (c:\\programdata\\anaconda3\\lib\\site-packages)\n",
      "WARNING: Ignoring invalid distribution -eaborn (c:\\programdata\\anaconda3\\lib\\site-packages)\n",
      "WARNING: Ignoring invalid distribution -andas (c:\\programdata\\anaconda3\\lib\\site-packages)\n",
      "WARNING: Ignoring invalid distribution -mpy (c:\\programdata\\anaconda3\\lib\\site-packages)\n",
      "WARNING: Ignoring invalid distribution -ml (c:\\programdata\\anaconda3\\lib\\site-packages)\n",
      "WARNING: Ignoring invalid distribution -yparsing (c:\\programdata\\anaconda3\\lib\\site-packages)\n",
      "WARNING: Ignoring invalid distribution -xml (c:\\programdata\\anaconda3\\lib\\site-packages)\n",
      "WARNING: Ignoring invalid distribution -umpy (c:\\programdata\\anaconda3\\lib\\site-packages)\n",
      "WARNING: Ignoring invalid distribution -mpy (c:\\programdata\\anaconda3\\lib\\site-packages)\n",
      "WARNING: Ignoring invalid distribution -0mpy (c:\\programdata\\anaconda3\\lib\\site-packages)\n",
      "WARNING: Ignoring invalid distribution -mportlib-metadata (c:\\programdata\\anaconda3\\lib\\site-packages)\n",
      "WARNING: Ignoring invalid distribution -ml (c:\\programdata\\anaconda3\\lib\\site-packages)\n",
      "WARNING: Ignoring invalid distribution - (c:\\programdata\\anaconda3\\lib\\site-packages)\n",
      "WARNING: Ignoring invalid distribution -eaborn (c:\\programdata\\anaconda3\\lib\\site-packages)\n",
      "WARNING: Ignoring invalid distribution -andas (c:\\programdata\\anaconda3\\lib\\site-packages)\n",
      "WARNING: Ignoring invalid distribution -mpy (c:\\programdata\\anaconda3\\lib\\site-packages)\n",
      "WARNING: Ignoring invalid distribution -ml (c:\\programdata\\anaconda3\\lib\\site-packages)\n",
      "WARNING: Ignoring invalid distribution -yparsing (c:\\programdata\\anaconda3\\lib\\site-packages)\n",
      "WARNING: Ignoring invalid distribution -xml (c:\\programdata\\anaconda3\\lib\\site-packages)\n",
      "WARNING: Ignoring invalid distribution -umpy (c:\\programdata\\anaconda3\\lib\\site-packages)\n",
      "WARNING: Ignoring invalid distribution -mpy (c:\\programdata\\anaconda3\\lib\\site-packages)\n",
      "WARNING: Ignoring invalid distribution -0mpy (c:\\programdata\\anaconda3\\lib\\site-packages)\n",
      "WARNING: Ignoring invalid distribution -mportlib-metadata (c:\\programdata\\anaconda3\\lib\\site-packages)\n",
      "WARNING: Ignoring invalid distribution -ml (c:\\programdata\\anaconda3\\lib\\site-packages)\n",
      "WARNING: Ignoring invalid distribution - (c:\\programdata\\anaconda3\\lib\\site-packages)\n",
      "WARNING: Ignoring invalid distribution -eaborn (c:\\programdata\\anaconda3\\lib\\site-packages)\n",
      "WARNING: Ignoring invalid distribution -andas (c:\\programdata\\anaconda3\\lib\\site-packages)\n",
      "WARNING: Ignoring invalid distribution -mpy (c:\\programdata\\anaconda3\\lib\\site-packages)\n",
      "WARNING: Ignoring invalid distribution -ml (c:\\programdata\\anaconda3\\lib\\site-packages)\n",
      "WARNING: Ignoring invalid distribution -yparsing (c:\\programdata\\anaconda3\\lib\\site-packages)\n",
      "WARNING: Ignoring invalid distribution -xml (c:\\programdata\\anaconda3\\lib\\site-packages)\n",
      "WARNING: Ignoring invalid distribution -umpy (c:\\programdata\\anaconda3\\lib\\site-packages)\n",
      "WARNING: Ignoring invalid distribution -mpy (c:\\programdata\\anaconda3\\lib\\site-packages)\n",
      "WARNING: Ignoring invalid distribution -0mpy (c:\\programdata\\anaconda3\\lib\\site-packages)\n",
      "WARNING: Ignoring invalid distribution -mportlib-metadata (c:\\programdata\\anaconda3\\lib\\site-packages)\n",
      "WARNING: Ignoring invalid distribution -ml (c:\\programdata\\anaconda3\\lib\\site-packages)\n",
      "WARNING: Ignoring invalid distribution - (c:\\programdata\\anaconda3\\lib\\site-packages)\n",
      "WARNING: Ignoring invalid distribution -eaborn (c:\\programdata\\anaconda3\\lib\\site-packages)\n",
      "WARNING: Ignoring invalid distribution -andas (c:\\programdata\\anaconda3\\lib\\site-packages)\n"
     ]
    }
   ],
   "source": [
    "! pip install example-package-nagore-ainhoa==0.0.1"
   ]
  },
  {
   "cell_type": "code",
   "execution_count": 6,
   "id": "714640c4",
   "metadata": {},
   "outputs": [],
   "source": [
    "from example_package_nagore_ainhoa import functions\n",
    "\n",
    "eda = functions.EDA_class(\"datos_caracteristicas.csv\")"
   ]
  },
  {
   "cell_type": "code",
   "execution_count": 7,
   "id": "39d6f4ad",
   "metadata": {},
   "outputs": [
    {
     "data": {
      "text/html": [
       "<style  type=\"text/css\" >\n",
       "#T_070a9_row0_col0,#T_070a9_row0_col1,#T_070a9_row0_col2,#T_070a9_row0_col3,#T_070a9_row1_col0,#T_070a9_row1_col1,#T_070a9_row1_col2,#T_070a9_row1_col3,#T_070a9_row2_col0,#T_070a9_row2_col1,#T_070a9_row2_col2,#T_070a9_row2_col3,#T_070a9_row3_col0,#T_070a9_row3_col1,#T_070a9_row3_col2,#T_070a9_row3_col3,#T_070a9_row4_col0,#T_070a9_row4_col1,#T_070a9_row4_col2,#T_070a9_row4_col3,#T_070a9_row5_col0,#T_070a9_row5_col1,#T_070a9_row5_col2,#T_070a9_row5_col3{\n",
       "            background-color:  #fff7fb;\n",
       "            color:  #000000;\n",
       "        }</style><table id=\"T_070a9_\" ><thead>    <tr>        <th class=\"blank level0\" ></th>        <th class=\"col_heading level0 col0\" >NaN values</th>        <th class=\"col_heading level0 col1\" >NaN percentage (%)</th>        <th class=\"col_heading level0 col2\" >Zero values</th>        <th class=\"col_heading level0 col3\" >Zero percentage (%)</th>    </tr></thead><tbody>\n",
       "                <tr>\n",
       "                        <th id=\"T_070a9_level0_row0\" class=\"row_heading level0 row0\" >age</th>\n",
       "                        <td id=\"T_070a9_row0_col0\" class=\"data row0 col0\" >0</td>\n",
       "                        <td id=\"T_070a9_row0_col1\" class=\"data row0 col1\" >0.00</td>\n",
       "                        <td id=\"T_070a9_row0_col2\" class=\"data row0 col2\" >0</td>\n",
       "                        <td id=\"T_070a9_row0_col3\" class=\"data row0 col3\" >0.00</td>\n",
       "            </tr>\n",
       "            <tr>\n",
       "                        <th id=\"T_070a9_level0_row1\" class=\"row_heading level0 row1\" >sex</th>\n",
       "                        <td id=\"T_070a9_row1_col0\" class=\"data row1 col0\" >0</td>\n",
       "                        <td id=\"T_070a9_row1_col1\" class=\"data row1 col1\" >0.00</td>\n",
       "                        <td id=\"T_070a9_row1_col2\" class=\"data row1 col2\" >0</td>\n",
       "                        <td id=\"T_070a9_row1_col3\" class=\"data row1 col3\" >0.00</td>\n",
       "            </tr>\n",
       "            <tr>\n",
       "                        <th id=\"T_070a9_level0_row2\" class=\"row_heading level0 row2\" >race</th>\n",
       "                        <td id=\"T_070a9_row2_col0\" class=\"data row2 col0\" >0</td>\n",
       "                        <td id=\"T_070a9_row2_col1\" class=\"data row2 col1\" >0.00</td>\n",
       "                        <td id=\"T_070a9_row2_col2\" class=\"data row2 col2\" >0</td>\n",
       "                        <td id=\"T_070a9_row2_col3\" class=\"data row2 col3\" >0.00</td>\n",
       "            </tr>\n",
       "            <tr>\n",
       "                        <th id=\"T_070a9_level0_row3\" class=\"row_heading level0 row3\" >relate</th>\n",
       "                        <td id=\"T_070a9_row3_col0\" class=\"data row3 col0\" >0</td>\n",
       "                        <td id=\"T_070a9_row3_col1\" class=\"data row3 col1\" >0.00</td>\n",
       "                        <td id=\"T_070a9_row3_col2\" class=\"data row3 col2\" >0</td>\n",
       "                        <td id=\"T_070a9_row3_col3\" class=\"data row3 col3\" >0.00</td>\n",
       "            </tr>\n",
       "            <tr>\n",
       "                        <th id=\"T_070a9_level0_row4\" class=\"row_heading level0 row4\" >marst</th>\n",
       "                        <td id=\"T_070a9_row4_col0\" class=\"data row4 col0\" >0</td>\n",
       "                        <td id=\"T_070a9_row4_col1\" class=\"data row4 col1\" >0.00</td>\n",
       "                        <td id=\"T_070a9_row4_col2\" class=\"data row4 col2\" >0</td>\n",
       "                        <td id=\"T_070a9_row4_col3\" class=\"data row4 col3\" >0.00</td>\n",
       "            </tr>\n",
       "            <tr>\n",
       "                        <th id=\"T_070a9_level0_row5\" class=\"row_heading level0 row5\" >incwage</th>\n",
       "                        <td id=\"T_070a9_row5_col0\" class=\"data row5 col0\" >0</td>\n",
       "                        <td id=\"T_070a9_row5_col1\" class=\"data row5 col1\" >0.00</td>\n",
       "                        <td id=\"T_070a9_row5_col2\" class=\"data row5 col2\" >0</td>\n",
       "                        <td id=\"T_070a9_row5_col3\" class=\"data row5 col3\" >0.00</td>\n",
       "            </tr>\n",
       "    </tbody></table>"
      ],
      "text/plain": [
       "<pandas.io.formats.style.Styler at 0x1a439f81358>"
      ]
     },
     "metadata": {},
     "output_type": "display_data"
    },
    {
     "data": {
      "text/plain": [
       "''"
      ]
     },
     "execution_count": 7,
     "metadata": {},
     "output_type": "execute_result"
    }
   ],
   "source": [
    "eda.Nulls_Zeros()"
   ]
  },
  {
   "cell_type": "code",
   "execution_count": 8,
   "id": "b1bc7c9b",
   "metadata": {},
   "outputs": [
    {
     "name": "stdout",
     "output_type": "stream",
     "text": [
      "There is no repeated column\n",
      "There is/are 178690/344287 repeated row(s)\n",
      "There is no column with a unique value\n"
     ]
    }
   ],
   "source": [
    "eda.Duplicates_UniqueValues()"
   ]
  },
  {
   "cell_type": "code",
   "execution_count": 9,
   "id": "a7ed448f",
   "metadata": {},
   "outputs": [
    {
     "name": "stdout",
     "output_type": "stream",
     "text": [
      "\n",
      " Descriptivos: \n",
      "\n"
     ]
    },
    {
     "data": {
      "text/html": [
       "<style  type=\"text/css\" >\n",
       "</style><table id=\"T_264d5_\" ><thead>    <tr>        <th class=\"blank level0\" ></th>        <th class=\"col_heading level0 col0\" >age</th>        <th class=\"col_heading level0 col1\" >incwage</th>    </tr></thead><tbody>\n",
       "                <tr>\n",
       "                        <th id=\"T_264d5_level0_row0\" class=\"row_heading level0 row0\" >count</th>\n",
       "                        <td id=\"T_264d5_row0_col0\" class=\"data row0 col0\" >344287.0000</td>\n",
       "                        <td id=\"T_264d5_row0_col1\" class=\"data row0 col1\" >344287.0000</td>\n",
       "            </tr>\n",
       "            <tr>\n",
       "                        <th id=\"T_264d5_level0_row1\" class=\"row_heading level0 row1\" >mean</th>\n",
       "                        <td id=\"T_264d5_row1_col0\" class=\"data row1 col0\" >41.7344</td>\n",
       "                        <td id=\"T_264d5_row1_col1\" class=\"data row1 col1\" >39761.6953</td>\n",
       "            </tr>\n",
       "            <tr>\n",
       "                        <th id=\"T_264d5_level0_row2\" class=\"row_heading level0 row2\" >std</th>\n",
       "                        <td id=\"T_264d5_row2_col0\" class=\"data row2 col0\" >10.4159</td>\n",
       "                        <td id=\"T_264d5_row2_col1\" class=\"data row2 col1\" >45297.5750</td>\n",
       "            </tr>\n",
       "            <tr>\n",
       "                        <th id=\"T_264d5_level0_row3\" class=\"row_heading level0 row3\" >min</th>\n",
       "                        <td id=\"T_264d5_row3_col0\" class=\"data row3 col0\" >25.0000</td>\n",
       "                        <td id=\"T_264d5_row3_col1\" class=\"data row3 col1\" >15.0000</td>\n",
       "            </tr>\n",
       "            <tr>\n",
       "                        <th id=\"T_264d5_level0_row4\" class=\"row_heading level0 row4\" >25%</th>\n",
       "                        <td id=\"T_264d5_row4_col0\" class=\"data row4 col0\" >33.0000</td>\n",
       "                        <td id=\"T_264d5_row4_col1\" class=\"data row4 col1\" >16700.0000</td>\n",
       "            </tr>\n",
       "            <tr>\n",
       "                        <th id=\"T_264d5_level0_row5\" class=\"row_heading level0 row5\" >50%</th>\n",
       "                        <td id=\"T_264d5_row5_col0\" class=\"data row5 col0\" >41.0000</td>\n",
       "                        <td id=\"T_264d5_row5_col1\" class=\"data row5 col1\" >30000.0000</td>\n",
       "            </tr>\n",
       "            <tr>\n",
       "                        <th id=\"T_264d5_level0_row6\" class=\"row_heading level0 row6\" >75%</th>\n",
       "                        <td id=\"T_264d5_row6_col0\" class=\"data row6 col0\" >50.0000</td>\n",
       "                        <td id=\"T_264d5_row6_col1\" class=\"data row6 col1\" >50000.0000</td>\n",
       "            </tr>\n",
       "            <tr>\n",
       "                        <th id=\"T_264d5_level0_row7\" class=\"row_heading level0 row7\" >max</th>\n",
       "                        <td id=\"T_264d5_row7_col0\" class=\"data row7 col0\" >64.0000</td>\n",
       "                        <td id=\"T_264d5_row7_col1\" class=\"data row7 col1\" >1259999.0000</td>\n",
       "            </tr>\n",
       "    </tbody></table>"
      ],
      "text/plain": [
       "<pandas.io.formats.style.Styler at 0x1a439f81c88>"
      ]
     },
     "metadata": {},
     "output_type": "display_data"
    },
    {
     "data": {
      "image/png": "[encoded data removed]",
      "text/plain": [
       "<Figure size 1152x576 with 2 Axes>"
      ]
     },
     "metadata": {
      "needs_background": "light"
     },
     "output_type": "display_data"
    },
    {
     "data": {
      "image/png": "[encoded data removed]",
      "text/plain": [
       "<Figure size 1152x576 with 2 Axes>"
      ]
     },
     "metadata": {
      "needs_background": "light"
     },
     "output_type": "display_data"
    }
   ],
   "source": [
    "eda.Numeric_Variables()"
   ]
  },
  {
   "cell_type": "code",
   "execution_count": 10,
   "id": "f7e38905",
   "metadata": {},
   "outputs": [
    {
     "data": {
      "text/plain": [
       "'No hay columnas categoricas'"
      ]
     },
     "execution_count": 10,
     "metadata": {},
     "output_type": "execute_result"
    }
   ],
   "source": [
    "eda.Categorical_Variables()"
   ]
  },
  {
   "cell_type": "code",
   "execution_count": null,
   "id": "bbbc7b0d",
   "metadata": {},
   "outputs": [
    {
     "name": "stdout",
     "output_type": "stream",
     "text": [
      "\n",
      "\u001b[1mANALISIS EXPLORATORIO DE LOS DATOS\u001b[0m\n",
      "__________________________________________________________________\n",
      "\n",
      "\n",
      "01) DIMENSIONeS:\n",
      "\n",
      " The dataframe has 344287 rows and 6 columns\n",
      "\n",
      "__________________________________________________________________\n",
      "\n",
      "\n",
      "02) NANs y VALORES NULOS:\n"
     ]
    },
    {
     "data": {
      "text/html": [
       "<style  type=\"text/css\" >\n",
       "#T_3a5dd_row0_col0,#T_3a5dd_row0_col1,#T_3a5dd_row0_col2,#T_3a5dd_row0_col3,#T_3a5dd_row1_col0,#T_3a5dd_row1_col1,#T_3a5dd_row1_col2,#T_3a5dd_row1_col3,#T_3a5dd_row2_col0,#T_3a5dd_row2_col1,#T_3a5dd_row2_col2,#T_3a5dd_row2_col3,#T_3a5dd_row3_col0,#T_3a5dd_row3_col1,#T_3a5dd_row3_col2,#T_3a5dd_row3_col3,#T_3a5dd_row4_col0,#T_3a5dd_row4_col1,#T_3a5dd_row4_col2,#T_3a5dd_row4_col3,#T_3a5dd_row5_col0,#T_3a5dd_row5_col1,#T_3a5dd_row5_col2,#T_3a5dd_row5_col3{\n",
       "            background-color:  #fff7fb;\n",
       "            color:  #000000;\n",
       "        }</style><table id=\"T_3a5dd_\" ><thead>    <tr>        <th class=\"blank level0\" ></th>        <th class=\"col_heading level0 col0\" >NaN values</th>        <th class=\"col_heading level0 col1\" >NaN percentage (%)</th>        <th class=\"col_heading level0 col2\" >Zero values</th>        <th class=\"col_heading level0 col3\" >Zero percentage (%)</th>    </tr></thead><tbody>\n",
       "                <tr>\n",
       "                        <th id=\"T_3a5dd_level0_row0\" class=\"row_heading level0 row0\" >age</th>\n",
       "                        <td id=\"T_3a5dd_row0_col0\" class=\"data row0 col0\" >0</td>\n",
       "                        <td id=\"T_3a5dd_row0_col1\" class=\"data row0 col1\" >0.00</td>\n",
       "                        <td id=\"T_3a5dd_row0_col2\" class=\"data row0 col2\" >0</td>\n",
       "                        <td id=\"T_3a5dd_row0_col3\" class=\"data row0 col3\" >0.00</td>\n",
       "            </tr>\n",
       "            <tr>\n",
       "                        <th id=\"T_3a5dd_level0_row1\" class=\"row_heading level0 row1\" >sex</th>\n",
       "                        <td id=\"T_3a5dd_row1_col0\" class=\"data row1 col0\" >0</td>\n",
       "                        <td id=\"T_3a5dd_row1_col1\" class=\"data row1 col1\" >0.00</td>\n",
       "                        <td id=\"T_3a5dd_row1_col2\" class=\"data row1 col2\" >0</td>\n",
       "                        <td id=\"T_3a5dd_row1_col3\" class=\"data row1 col3\" >0.00</td>\n",
       "            </tr>\n",
       "            <tr>\n",
       "                        <th id=\"T_3a5dd_level0_row2\" class=\"row_heading level0 row2\" >race</th>\n",
       "                        <td id=\"T_3a5dd_row2_col0\" class=\"data row2 col0\" >0</td>\n",
       "                        <td id=\"T_3a5dd_row2_col1\" class=\"data row2 col1\" >0.00</td>\n",
       "                        <td id=\"T_3a5dd_row2_col2\" class=\"data row2 col2\" >0</td>\n",
       "                        <td id=\"T_3a5dd_row2_col3\" class=\"data row2 col3\" >0.00</td>\n",
       "            </tr>\n",
       "            <tr>\n",
       "                        <th id=\"T_3a5dd_level0_row3\" class=\"row_heading level0 row3\" >relate</th>\n",
       "                        <td id=\"T_3a5dd_row3_col0\" class=\"data row3 col0\" >0</td>\n",
       "                        <td id=\"T_3a5dd_row3_col1\" class=\"data row3 col1\" >0.00</td>\n",
       "                        <td id=\"T_3a5dd_row3_col2\" class=\"data row3 col2\" >0</td>\n",
       "                        <td id=\"T_3a5dd_row3_col3\" class=\"data row3 col3\" >0.00</td>\n",
       "            </tr>\n",
       "            <tr>\n",
       "                        <th id=\"T_3a5dd_level0_row4\" class=\"row_heading level0 row4\" >marst</th>\n",
       "                        <td id=\"T_3a5dd_row4_col0\" class=\"data row4 col0\" >0</td>\n",
       "                        <td id=\"T_3a5dd_row4_col1\" class=\"data row4 col1\" >0.00</td>\n",
       "                        <td id=\"T_3a5dd_row4_col2\" class=\"data row4 col2\" >0</td>\n",
       "                        <td id=\"T_3a5dd_row4_col3\" class=\"data row4 col3\" >0.00</td>\n",
       "            </tr>\n",
       "            <tr>\n",
       "                        <th id=\"T_3a5dd_level0_row5\" class=\"row_heading level0 row5\" >incwage</th>\n",
       "                        <td id=\"T_3a5dd_row5_col0\" class=\"data row5 col0\" >0</td>\n",
       "                        <td id=\"T_3a5dd_row5_col1\" class=\"data row5 col1\" >0.00</td>\n",
       "                        <td id=\"T_3a5dd_row5_col2\" class=\"data row5 col2\" >0</td>\n",
       "                        <td id=\"T_3a5dd_row5_col3\" class=\"data row5 col3\" >0.00</td>\n",
       "            </tr>\n",
       "    </tbody></table>"
      ],
      "text/plain": [
       "<pandas.io.formats.style.Styler at 0x1a43980a390>"
      ]
     },
     "metadata": {},
     "output_type": "display_data"
    },
    {
     "name": "stdout",
     "output_type": "stream",
     "text": [
      "\n",
      "\n",
      "__________________________________________________________________\n",
      "\n",
      "\n",
      "03) DUPLICADOS Y VALORES UNICOS: \n",
      "\n",
      "There is no repeated column\n",
      "There is/are 178690/344287 repeated row(s)\n",
      "There is no column with a unique value\n",
      "\n",
      "__________________________________________________________________\n",
      "\n",
      "\n",
      "04) VARIABLES NUMERICAS:\n",
      "\n",
      "\n",
      " Descriptivos: \n",
      "\n"
     ]
    },
    {
     "data": {
      "text/html": [
       "<style  type=\"text/css\" >\n",
       "</style><table id=\"T_946a6_\" ><thead>    <tr>        <th class=\"blank level0\" ></th>        <th class=\"col_heading level0 col0\" >age</th>        <th class=\"col_heading level0 col1\" >incwage</th>    </tr></thead><tbody>\n",
       "                <tr>\n",
       "                        <th id=\"T_946a6_level0_row0\" class=\"row_heading level0 row0\" >count</th>\n",
       "                        <td id=\"T_946a6_row0_col0\" class=\"data row0 col0\" >344287.0000</td>\n",
       "                        <td id=\"T_946a6_row0_col1\" class=\"data row0 col1\" >344287.0000</td>\n",
       "            </tr>\n",
       "            <tr>\n",
       "                        <th id=\"T_946a6_level0_row1\" class=\"row_heading level0 row1\" >mean</th>\n",
       "                        <td id=\"T_946a6_row1_col0\" class=\"data row1 col0\" >41.7344</td>\n",
       "                        <td id=\"T_946a6_row1_col1\" class=\"data row1 col1\" >39761.6953</td>\n",
       "            </tr>\n",
       "            <tr>\n",
       "                        <th id=\"T_946a6_level0_row2\" class=\"row_heading level0 row2\" >std</th>\n",
       "                        <td id=\"T_946a6_row2_col0\" class=\"data row2 col0\" >10.4159</td>\n",
       "                        <td id=\"T_946a6_row2_col1\" class=\"data row2 col1\" >45297.5750</td>\n",
       "            </tr>\n",
       "            <tr>\n",
       "                        <th id=\"T_946a6_level0_row3\" class=\"row_heading level0 row3\" >min</th>\n",
       "                        <td id=\"T_946a6_row3_col0\" class=\"data row3 col0\" >25.0000</td>\n",
       "                        <td id=\"T_946a6_row3_col1\" class=\"data row3 col1\" >15.0000</td>\n",
       "            </tr>\n",
       "            <tr>\n",
       "                        <th id=\"T_946a6_level0_row4\" class=\"row_heading level0 row4\" >25%</th>\n",
       "                        <td id=\"T_946a6_row4_col0\" class=\"data row4 col0\" >33.0000</td>\n",
       "                        <td id=\"T_946a6_row4_col1\" class=\"data row4 col1\" >16700.0000</td>\n",
       "            </tr>\n",
       "            <tr>\n",
       "                        <th id=\"T_946a6_level0_row5\" class=\"row_heading level0 row5\" >50%</th>\n",
       "                        <td id=\"T_946a6_row5_col0\" class=\"data row5 col0\" >41.0000</td>\n",
       "                        <td id=\"T_946a6_row5_col1\" class=\"data row5 col1\" >30000.0000</td>\n",
       "            </tr>\n",
       "            <tr>\n",
       "                        <th id=\"T_946a6_level0_row6\" class=\"row_heading level0 row6\" >75%</th>\n",
       "                        <td id=\"T_946a6_row6_col0\" class=\"data row6 col0\" >50.0000</td>\n",
       "                        <td id=\"T_946a6_row6_col1\" class=\"data row6 col1\" >50000.0000</td>\n",
       "            </tr>\n",
       "            <tr>\n",
       "                        <th id=\"T_946a6_level0_row7\" class=\"row_heading level0 row7\" >max</th>\n",
       "                        <td id=\"T_946a6_row7_col0\" class=\"data row7 col0\" >64.0000</td>\n",
       "                        <td id=\"T_946a6_row7_col1\" class=\"data row7 col1\" >1259999.0000</td>\n",
       "            </tr>\n",
       "    </tbody></table>"
      ],
      "text/plain": [
       "<pandas.io.formats.style.Styler at 0x1a4385c8e48>"
      ]
     },
     "metadata": {},
     "output_type": "display_data"
    }
   ],
   "source": [
    "eda.Descriptives()"
   ]
  }
 ],
 "metadata": {
  "kernelspec": {
   "display_name": "Python 3 (ipykernel)",
   "language": "python",
   "name": "python3"
  },
  "language_info": {
   "codemirror_mode": {
    "name": "ipython",
    "version": 3
   },
   "file_extension": ".py",
   "mimetype": "text/x-python",
   "name": "python",
   "nbconvert_exporter": "python",
   "pygments_lexer": "ipython3",
   "version": "3.7.3"
  },
  "vscode": {
   "interpreter": {
    "hash": "32998414e1fed9e59e8cdf67b60a38a90120c649e93e0f88bb19427b3387f46c"
   }
  }
 },
 "nbformat": 4,
 "nbformat_minor": 5
}
