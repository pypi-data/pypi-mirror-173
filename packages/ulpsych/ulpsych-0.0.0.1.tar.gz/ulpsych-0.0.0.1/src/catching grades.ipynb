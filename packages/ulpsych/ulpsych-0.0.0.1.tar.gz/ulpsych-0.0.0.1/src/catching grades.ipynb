{
 "cells": [
  {
   "cell_type": "markdown",
   "metadata": {},
   "source": []
  },
  {
   "cell_type": "code",
   "execution_count": 1,
   "metadata": {},
   "outputs": [],
   "source": [
    "import pandas as pd\n",
    "import pathlib as pl\n",
    "import xlwings as xl"
   ]
  },
  {
   "cell_type": "code",
   "execution_count": 3,
   "metadata": {},
   "outputs": [],
   "source": [
    "root = pl.Path(r'C:\\Users\\kevin.omalley\\OneDrive - University of Limerick\\Teaching\\PS6022-2022\\Assignments\\Assignment 1')\n",
    "\n",
    "db = pd.read_excel(root/'Aoife.xlsx')"
   ]
  },
  {
   "cell_type": "code",
   "execution_count": 6,
   "metadata": {},
   "outputs": [
    {
     "data": {
      "text/plain": [
       "Index(['Display ID', 'ID', 'Last Name', 'First Name', 'grade',\n",
       "       'Submission date', 'Late submission', 'Mod', 'Grp code', 'Student',\n",
       "       'Group', 'Grader'],\n",
       "      dtype='object')"
      ]
     },
     "execution_count": 6,
     "metadata": {},
     "output_type": "execute_result"
    }
   ],
   "source": [
    "db.columns"
   ]
  },
  {
   "cell_type": "code",
   "execution_count": 13,
   "metadata": {},
   "outputs": [],
   "source": [
    "def make_sulis_list(x):\n",
    "    '''This takes the grades sheet and makes\n",
    "    a list of strings that act as folder names in the format that \n",
    "    sulis creates'''\n",
    "    t = []\n",
    "    for i, j, k in zip(x['Last Name'], x['First Name'], x['ID']):\n",
    "        t.append(f'{i}, {j}({k})')\n",
    "    return(t)"
   ]
  },
  {
   "cell_type": "code",
   "execution_count": 22,
   "metadata": {},
   "outputs": [
    {
     "name": "stdout",
     "output_type": "stream",
     "text": [
      "['IRWIN, CRAIG(21359067)', 'MCCANN, VANESSA(21205701)', 'JOYCE, JOHN(17207967)', \"O'MAHONY, LIAM(20127324)\", 'GBADEBO, HABIDEEN OLAYINKA(20156138)', 'CREGAN, SARAH(16164199)', 'HAMOUDAH, SUMAYA(17204224)', 'NOONAN, AOIFE THERESE(17222176)', 'QUINN, CATHERINE(9644814)', 'bleart']\n"
     ]
    }
   ],
   "source": [
    "l = make_sulis_list(db)\n",
    "\n",
    "l.append('bleart')\n",
    "print(l)"
   ]
  },
  {
   "cell_type": "code",
   "execution_count": 30,
   "metadata": {},
   "outputs": [
    {
     "name": "stdout",
     "output_type": "stream",
     "text": [
      "IRWIN, CRAIG(21359067) got 70.0\n",
      "MCCANN, VANESSA(21205701) got 70.0\n",
      "JOYCE, JOHN(17207967) got 69.5\n",
      "O'MAHONY, LIAM(20127324) got 68.0\n",
      "GBADEBO, HABIDEEN OLAYINKA(20156138) got 65.0\n",
      "CREGAN, SARAH(16164199) got 74.5\n",
      "HAMOUDAH, SUMAYA(17204224) got 74.5\n",
      "NOONAN, AOIFE THERESE(17222176) got 87.0\n",
      "QUINN, CATHERINE(9644814) got 84.5\n"
     ]
    }
   ],
   "source": [
    "assignment = pl.Path(\n",
    "    r'C:\\Users\\kevin.omalley\\OneDrive - University of Limerick\\Teaching\\PS6022-2022\\Assignments\\Assignment 1\\Research design and implimentation'\n",
    "    )\n",
    "\n",
    "for i in l:\n",
    "    if pl.Path(assignment/i).exists():\n",
    "        cont = [z for z in pl.Path(assignment/i/'Feedback Attachment(s)').iterdir()]\n",
    "        wb = xl.Book(cont[0])\n",
    "        sheets = wb.sheets\n",
    "        sheet = sheets[0]\n",
    "        val = sheet.range('G2').value\n",
    "        wb.close()\n",
    "\n",
    "        print(f'{i} got {val}')\n",
    "        \n"
   ]
  }
 ],
 "metadata": {
  "kernelspec": {
   "display_name": "research",
   "language": "python",
   "name": "research"
  },
  "language_info": {
   "codemirror_mode": {
    "name": "ipython",
    "version": 3
   },
   "file_extension": ".py",
   "mimetype": "text/x-python",
   "name": "python",
   "nbconvert_exporter": "python",
   "pygments_lexer": "ipython3",
   "version": "3.9.6"
  },
  "orig_nbformat": 4
 },
 "nbformat": 4,
 "nbformat_minor": 2
}
