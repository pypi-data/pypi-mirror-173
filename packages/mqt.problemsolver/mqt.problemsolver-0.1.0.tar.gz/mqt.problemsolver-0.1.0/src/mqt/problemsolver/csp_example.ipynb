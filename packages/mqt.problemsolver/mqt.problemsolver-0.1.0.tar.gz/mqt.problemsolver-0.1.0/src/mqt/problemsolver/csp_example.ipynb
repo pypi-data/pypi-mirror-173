{
 "cells": [
  {
   "cell_type": "markdown",
   "id": "902eac3a",
   "metadata": {},
   "source": [
    "# Import and Problem Visualization"
   ]
  },
  {
   "cell_type": "code",
   "execution_count": 1,
   "id": "51ddbd1f",
   "metadata": {},
   "outputs": [
    {
     "name": "stdout",
     "output_type": "stream",
     "text": [
      "     |  s0  |  s1  | \n",
      "------------------\n",
      "  s2  |  a  |  b  |\n",
      "------------------\n",
      "  s3  |  c  |  d  |\n",
      "------------------\n",
      "\n"
     ]
    }
   ],
   "source": [
    "from mqt.problemsolver.csp import CSP\n",
    "csp = CSP()\n",
    "csp.print()"
   ]
  },
  {
   "cell_type": "markdown",
   "id": "d82d8ae3",
   "metadata": {},
   "source": [
    "# Definition of Problem Instance"
   ]
  },
  {
   "cell_type": "code",
   "execution_count": 2,
   "id": "85392fc9",
   "metadata": {},
   "outputs": [],
   "source": [
    "sum_s0=3\n",
    "sum_s1=5\n",
    "sum_s2=3\n",
    "sum_s3=5"
   ]
  },
  {
   "cell_type": "markdown",
   "id": "207c8a93",
   "metadata": {},
   "source": [
    "# Create List of Constraints"
   ]
  },
  {
   "cell_type": "code",
   "execution_count": 3,
   "id": "e30de0b3",
   "metadata": {},
   "outputs": [
    {
     "data": {
      "text/plain": [
       "[{'type': 'addition_equality',\n",
       "  'operand_one': 'a',\n",
       "  'operand_two': 'c',\n",
       "  'sum': 3},\n",
       " {'type': 'addition_equality',\n",
       "  'operand_one': 'b',\n",
       "  'operand_two': 'd',\n",
       "  'sum': 5},\n",
       " {'type': 'addition_equality',\n",
       "  'operand_one': 'a',\n",
       "  'operand_two': 'b',\n",
       "  'sum': 3},\n",
       " {'type': 'addition_equality',\n",
       "  'operand_one': 'c',\n",
       "  'operand_two': 'd',\n",
       "  'sum': 5},\n",
       " {'type': 'inequality', 'operand_one': 'a', 'operand_two': 'c'},\n",
       " {'type': 'inequality', 'operand_one': 'b', 'operand_two': 'd'},\n",
       " {'type': 'inequality', 'operand_one': 'a', 'operand_two': 'b'},\n",
       " {'type': 'inequality', 'operand_one': 'c', 'operand_two': 'd'}]"
      ]
     },
     "execution_count": 3,
     "metadata": {},
     "output_type": "execute_result"
    }
   ],
   "source": [
    "list_of_constraints = csp.get_kakuro_constraints(sum_s0=sum_s0, sum_s1=sum_s1, sum_s2=sum_s2, sum_s3=sum_s3)\n",
    "list_of_constraints"
   ]
  },
  {
   "cell_type": "markdown",
   "id": "ce718f3a",
   "metadata": {},
   "source": [
    "# Get available quantum algorithms"
   ]
  },
  {
   "cell_type": "code",
   "execution_count": 4,
   "id": "1a518ef9",
   "metadata": {},
   "outputs": [
    {
     "data": {
      "text/plain": [
       "['Grover']"
      ]
     },
     "execution_count": 4,
     "metadata": {},
     "output_type": "execute_result"
    }
   ],
   "source": [
    "available_quantum_algorithms = csp.get_available_quantum_algorithms()\n",
    "available_quantum_algorithms"
   ]
  },
  {
   "cell_type": "markdown",
   "id": "3e1ae22f",
   "metadata": {},
   "source": [
    "# Solve the problem accordingly"
   ]
  },
  {
   "cell_type": "code",
   "execution_count": 5,
   "id": "4ab0a958",
   "metadata": {},
   "outputs": [
    {
     "name": "stdout",
     "output_type": "stream",
     "text": [
      "Algorithm:  Grover\n"
     ]
    },
    {
     "name": "stderr",
     "output_type": "stream",
     "text": [
      "/Users/nils/miniforge3/envs/MQTProblemSolver39/lib/python3.9/site-packages/numpy/linalg/linalg.py:2154: RuntimeWarning: divide by zero encountered in det\n",
      "  r = _umath_linalg.det(a, signature=signature)\n",
      "/Users/nils/miniforge3/envs/MQTProblemSolver39/lib/python3.9/site-packages/numpy/linalg/linalg.py:2154: RuntimeWarning: invalid value encountered in det\n",
      "  r = _umath_linalg.det(a, signature=signature)\n"
     ]
    },
    {
     "name": "stdout",
     "output_type": "stream",
     "text": [
      "Solution:  (0, 3, 3, 2)\n"
     ]
    }
   ],
   "source": [
    "for algo in available_quantum_algorithms:\n",
    "    print(\"Algorithm: \", algo)\n",
    "    res = csp.solve(constraints=list_of_constraints, quantum_algorithm=\"Grover\")\n",
    "    print(\"Solution: \", res)"
   ]
  },
  {
   "cell_type": "markdown",
   "id": "cdab1686",
   "metadata": {},
   "source": [
    "# Visualize solution"
   ]
  },
  {
   "cell_type": "code",
   "execution_count": 6,
   "id": "63237a51",
   "metadata": {},
   "outputs": [
    {
     "name": "stdout",
     "output_type": "stream",
     "text": [
      "     |  3  |  5  | \n",
      "------------------\n",
      "  3  |  0  |  3  |\n",
      "------------------\n",
      "  5  |  3  |  2  |\n",
      "------------------\n",
      "\n"
     ]
    }
   ],
   "source": [
    "csp.print(sum_s0=sum_s0, sum_s1=sum_s1, sum_s2=sum_s2, sum_s3=sum_s3, a=res[0], b=res[1], c=res[2], d=res[3])"
   ]
  }
 ],
 "metadata": {
  "kernelspec": {
   "display_name": "Python 3 (ipykernel)",
   "language": "python",
   "name": "python3"
  },
  "language_info": {
   "codemirror_mode": {
    "name": "ipython",
    "version": 3
   },
   "file_extension": ".py",
   "mimetype": "text/x-python",
   "name": "python",
   "nbconvert_exporter": "python",
   "pygments_lexer": "ipython3",
   "version": "3.9.13"
  }
 },
 "nbformat": 4,
 "nbformat_minor": 5
}
