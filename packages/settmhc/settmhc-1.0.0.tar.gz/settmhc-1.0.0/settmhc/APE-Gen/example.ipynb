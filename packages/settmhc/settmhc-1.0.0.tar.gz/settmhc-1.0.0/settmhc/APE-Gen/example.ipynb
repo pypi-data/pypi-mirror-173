{
 "cells": [
  {
   "cell_type": "markdown",
   "metadata": {},
   "source": [
    "# APE-Gen Example"
   ]
  },
  {
   "cell_type": "code",
   "execution_count": 1,
   "metadata": {
    "collapsed": false
   },
   "outputs": [
    {
     "name": "stdout",
     "output_type": "stream",
     "text": [
      "/Users/jayveeabella/kavrakilab/APE-Gen/example\n"
     ]
    },
    {
     "data": {
      "text/plain": [
       "'/Users/jayveeabella/kavrakilab/APE-Gen/example'"
      ]
     },
     "execution_count": 1,
     "metadata": {},
     "output_type": "execute_result"
    }
   ],
   "source": [
    "%mkdir -p example\n",
    "%cd example\n",
    "%pwd"
   ]
  },
  {
   "cell_type": "markdown",
   "metadata": {},
   "source": [
    "## 1. Input Preparation"
   ]
  },
  {
   "cell_type": "markdown",
   "metadata": {},
   "source": [
    "### Obtaining a receptor structure from PDB"
   ]
  },
  {
   "cell_type": "code",
   "execution_count": 2,
   "metadata": {
    "collapsed": true
   },
   "outputs": [],
   "source": [
    "# Run this cell if ...\n",
    "# call get_pMHC_pdb script"
   ]
  },
  {
   "cell_type": "markdown",
   "metadata": {},
   "source": [
    "### Obtaining a receptor structure through sequence"
   ]
  },
  {
   "cell_type": "code",
   "execution_count": 3,
   "metadata": {
    "collapsed": false
   },
   "outputs": [
    {
     "name": "stdout",
     "output_type": "stream",
     "text": [
      "\u001b[0m\u001b[01;34m0\u001b[0m/                             target_sequence.B99990002.pdb\r\n",
      "1DUZ.pdb                       target_sequence.D00000001\r\n",
      "3I6L.pdb                       target_sequence.D00000002\r\n",
      "A0201_alpha.txt                target_sequence.ini\r\n",
      "best_model.pdb                 target_sequence.pir\r\n",
      "P01892.fasta                   target_sequence-receptor_template.ali\r\n",
      "P01892.fasta.1                 target_sequence.rsr\r\n",
      "P01892.fasta.2                 target_sequence.sch\r\n",
      "receptor_template.pdb          target_sequence.V99990001\r\n",
      "receptor_template.seq          target_sequence.V99990002\r\n",
      "target_sequence.B99990001.pdb\r\n"
     ]
    }
   ],
   "source": [
    "from subprocess import call\n",
    "call([\"wget 'https://www.uniprot.org/uniprot/P01892.fasta'\"], shell=True)\n",
    "%pwd\n",
    "%ls"
   ]
  },
  {
   "cell_type": "code",
   "execution_count": 6,
   "metadata": {
    "collapsed": false
   },
   "outputs": [
    {
     "name": "stdout",
     "output_type": "stream",
     "text": [
      "<list_iterator object at 0x7fb7473a0048>\n",
      "\u001b[0m\u001b[01;34m0\u001b[0m/                             target_sequence.B99990002.pdb\r\n",
      "1DUZ.pdb                       target_sequence.D00000001\r\n",
      "3I6L.pdb                       target_sequence.D00000002\r\n",
      "A0201_alpha.txt                target_sequence.ini\r\n",
      "best_model.pdb                 target_sequence.pir\r\n",
      "P01892.fasta                   target_sequence-receptor_template.ali\r\n",
      "P01892.fasta.1                 target_sequence.rsr\r\n",
      "P01892.fasta.2                 target_sequence.sch\r\n",
      "receptor_template.pdb          target_sequence.V99990001\r\n",
      "receptor_template.seq          target_sequence.V99990002\r\n",
      "target_sequence.B99990001.pdb\r\n"
     ]
    }
   ],
   "source": [
    "import get_pMHC_pdb\n",
    "get_pMHC_pdb.main([\"3I6L\"])\n",
    "%ls"
   ]
  },
  {
   "cell_type": "code",
   "execution_count": 7,
   "metadata": {
    "collapsed": false
   },
   "outputs": [
    {
     "name": "stdout",
     "output_type": "stream",
     "text": [
      "Removing signal and transmembrane portions of alpha chain seq\n",
      "Length of original alpha chain seq: 365\n",
      "Length of processed alpha chain seq: 270\n",
      "Length of alpha chain in template: 274\n",
      "Preparing receptor template\n",
      "Preparing target sequence\n",
      "Aligning target sequence with receptor template\n",
      "Aligning took 22.750502109527588 seconds.\n",
      "Creating model\n",
      "0 atoms in HETATM/BLK residues constrained\n",
      "to protein atoms within 2.30 angstroms\n",
      "and protein CA atoms within 10.00 angstroms\n",
      "0 atoms in residues without defined topology\n",
      "constrained to be rigid bodies\n",
      ">> Model assessment by DOPE potential\n",
      "DOPE score               : -40488.113281\n",
      ">> Model assessment by DOPE potential\n",
      "DOPE score               : -40846.265625\n",
      "\n",
      ">> Summary of successfully produced models:\n",
      "Filename                          molpdf     DOPE score    GA341 score\n",
      "----------------------------------------------------------------------\n",
      "target_sequence.B99990001.pdb     2269.25073   -40488.11328        1.00000\n",
      "target_sequence.B99990002.pdb     2202.93115   -40846.26562        1.00000\n",
      "\n",
      "Top model: target_sequence.B99990002.pdb (DOPE score -40846.2656250000000000000000000000000000000000000000000000000000000000000000000000000000000000000000000000)\n",
      "Homology modelling took 121.1713240146637 seconds.\n"
     ]
    }
   ],
   "source": [
    "import model_receptor\n",
    "model_receptor.main([\"P01892.fasta\", \"3I6L.pdb\"])"
   ]
  },
  {
   "cell_type": "markdown",
   "metadata": {},
   "source": [
    "## 2. Generate Models"
   ]
  },
  {
   "cell_type": "code",
   "execution_count": 3,
   "metadata": {
    "collapsed": false
   },
   "outputs": [
    {
     "name": "stdout",
     "output_type": "stream",
     "text": [
      "Preparing peptide and MHC\n",
      "Peptide sequence: LLWTLVVLL\n",
      "Receptor class: HLA-A*02:01\n",
      "Aligning peptide anchors to MHC pockets\n",
      "Sampling peptide backbone\n",
      "Found RCD folder. Skipping this step\n",
      "Loading sampled conformations\n",
      "Num full confs: 39\n",
      "Saving filtered peptide confs\n",
      "Found peptide_confs.pdb, Please move to recompute.\n",
      "Num filtered confs: 16\n",
      "Average filtered energy: -21.0134997437\n",
      "Saving complete peptide-HLA complexes\n",
      "Found full_system_confs/ folder. Please move to recompute.\n",
      "energy of selected binding mode: -23.2795639 38\n",
      "Scoring/Minimizing with OpenMM ...\n",
      "Found full_system_confs/openmm-minimized folder. Please move to recompute.\n"
     ]
    },
    {
     "ename": "SystemExit",
     "evalue": "0",
     "output_type": "error",
     "traceback": [
      "An exception has occurred, use %tb to see the full traceback.\n",
      "\u001b[0;31mSystemExit\u001b[0m\u001b[0;31m:\u001b[0m 0\n"
     ]
    },
    {
     "name": "stderr",
     "output_type": "stream",
     "text": [
      "/home/jabella/miniconda2/envs/py3/lib/python3.6/site-packages/IPython/core/interactiveshell.py:3333: UserWarning: To exit: use 'exit', 'quit', or Ctrl-D.\n",
      "  warn(\"To exit: use 'exit', 'quit', or Ctrl-D.\", stacklevel=1)\n"
     ]
    }
   ],
   "source": [
    "import APE_Gen\n",
    "APE_Gen.main([\"LLWTLVVLL\", \"HLA-A*02:01\", \"-o\"])"
   ]
  },
  {
   "cell_type": "markdown",
   "metadata": {},
   "source": [
    "## 3. Postprocessing / Visualization"
   ]
  },
  {
   "cell_type": "code",
   "execution_count": 2,
   "metadata": {
    "collapsed": false
   },
   "outputs": [
    {
     "data": {
      "application/vnd.jupyter.widget-view+json": {
       "model_id": "86bf5a018a2545e7b14aa69f8d4eccad",
       "version_major": 2,
       "version_minor": 0
      },
      "text/plain": [
       "NGLWidget()"
      ]
     },
     "metadata": {},
     "output_type": "display_data"
    }
   ],
   "source": [
    "import nglview\n",
    "import glob\n",
    "import mdtraj as md\n",
    "from matplotlib.colors import to_hex\n",
    "import matplotlib as mpl\n",
    "\n",
    "widget = nglview.NGLWidget()\n",
    "widget.clear_representations()\n",
    "\n",
    "structure = glob.glob(\"0/*.pdb\")[0]\n",
    "s = md.load(structure)\n",
    "\n",
    "#widget.add_structure(s[0])\n",
    "widget.add_trajectory(s)\n",
    "#comp.add_licorice()\n",
    "\n",
    "widget"
   ]
  },
  {
   "cell_type": "code",
   "execution_count": null,
   "metadata": {
    "collapsed": true
   },
   "outputs": [],
   "source": []
  },
  {
   "cell_type": "code",
   "execution_count": null,
   "metadata": {
    "collapsed": true
   },
   "outputs": [],
   "source": []
  },
  {
   "cell_type": "code",
   "execution_count": null,
   "metadata": {
    "collapsed": true
   },
   "outputs": [],
   "source": []
  },
  {
   "cell_type": "code",
   "execution_count": null,
   "metadata": {
    "collapsed": true
   },
   "outputs": [],
   "source": []
  }
 ],
 "metadata": {
  "kernelspec": {
   "display_name": "Python 3.8.13 ('pytorch')",
   "language": "python",
   "name": "python3"
  },
  "language_info": {
   "codemirror_mode": {
    "name": "ipython",
    "version": 3
   },
   "file_extension": ".py",
   "mimetype": "text/x-python",
   "name": "python",
   "nbconvert_exporter": "python",
   "pygments_lexer": "ipython3",
   "version": "3.8.13"
  },
  "vscode": {
   "interpreter": {
    "hash": "87c93705ad57c24726ee4563fdea5a135693b7dd06a86070f06c613171ed6071"
   }
  }
 },
 "nbformat": 4,
 "nbformat_minor": 2
}
