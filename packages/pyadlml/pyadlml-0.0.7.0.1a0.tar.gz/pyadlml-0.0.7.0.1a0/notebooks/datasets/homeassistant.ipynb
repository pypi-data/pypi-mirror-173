{
 "cells": [
  {
   "cell_type": "markdown",
   "metadata": {},
   "source": [
    "# Home assistant\n",
    "\n",
    "This notebook describes how to load data from an existing home assistant database."
   ]
  },
  {
   "cell_type": "code",
   "execution_count": 1,
   "metadata": {},
   "outputs": [],
   "source": [
    "import sys\n",
    "sys.path.append(\"../..\")\n",
    "import pandas as pd"
   ]
  },
  {
   "cell_type": "markdown",
   "metadata": {},
   "source": [
    "set the path to your favorite database"
   ]
  },
  {
   "cell_type": "code",
   "execution_count": 2,
   "metadata": {},
   "outputs": [],
   "source": [
    "path_to_db = '/home/chris/code/adlml/datasets/tuebingen_2019/home-assistant_v2.db'\n",
    "db_url = 'sqlite:////' + path_to_db"
   ]
  },
  {
   "cell_type": "code",
   "execution_count": 3,
   "metadata": {},
   "outputs": [],
   "source": [
    "# Devices to include\n",
    "device_list = [\n",
    "    'binary_sensor.ping_chris_laptop',\n",
    "    'binary_sensor.ping_chris_pc',\n",
    "    'binary_sensor.ping_chris_smartphone',\n",
    "    'binary_sensor.pir_motion_floor',\n",
    "    'binary_sensor.pir_motion_mirror',\n",
    "    'binary_sensor.pir_motion_monitor_left',\n",
    "    'binary_sensor.pir_motion_monitor_right',\n",
    "    'binary_sensor.us_distance_floor',\n",
    "    'binary_sensor.us_distance_mirror',\n",
    "    'binary_sensor.us_distance_monitor_left',\n",
    "    'binary_sensor.us_distance_monitor_right',\n",
    "    'switch.chris_computer',\n",
    "    'light.storu_shelf_front',\n",
    "    'light.storu_desk',\n",
    "    'light.storu_coffee',\n",
    "    'light.wall',\n",
    "    'light.storu_mirror', \n",
    "    'switch.senseo_one_cup',\n",
    "    'switch.printer',\n",
    "    'switch.fan',\n",
    "    'switch.storu_mirror_light',\n",
    "    'light.mirror',\n",
    "]"
   ]
  },
  {
   "cell_type": "code",
   "execution_count": 4,
   "metadata": {},
   "outputs": [],
   "source": [
    "from pyadlml.dataset import load_homeassistant, load_homeassistant_devices"
   ]
  },
  {
   "cell_type": "code",
   "execution_count": 7,
   "metadata": {},
   "outputs": [],
   "source": [
    "df = load_homeassistant(db_url)"
   ]
  },
  {
   "cell_type": "code",
   "execution_count": 8,
   "metadata": {},
   "outputs": [
    {
     "name": "stdout",
     "output_type": "stream",
     "text": [
      "                                     entity_id          state  \\\n",
      "0        binary_sensor.pir_motion_monitor_left             on   \n",
      "1              binary_sensor.pir_motion_mirror            off   \n",
      "2              binary_sensor.pir_motion_mirror             on   \n",
      "3        binary_sensor.pir_motion_monitor_left            off   \n",
      "4               binary_sensor.pir_motion_floor            off   \n",
      "...                                        ...            ...   \n",
      "1199316                                sun.sun  above_horizon   \n",
      "1199317                                sun.sun  above_horizon   \n",
      "1199318                                sun.sun  above_horizon   \n",
      "1199319                                sun.sun  above_horizon   \n",
      "1199320                                sun.sun  above_horizon   \n",
      "\n",
      "                       last_changed  \n",
      "0        2019-07-23 07:21:59.954940  \n",
      "1        2019-07-23 07:21:47.404236  \n",
      "2        2019-07-23 07:21:44.105560  \n",
      "3        2019-07-23 07:21:42.751026  \n",
      "4        2019-07-23 07:21:15.367036  \n",
      "...                             ...  \n",
      "1199316  2019-05-05 10:35:41.198544  \n",
      "1199317  2019-05-05 10:35:41.198544  \n",
      "1199318  2019-05-05 10:35:41.198544  \n",
      "1199319  2019-05-05 10:35:41.198544  \n",
      "1199320  2019-05-05 10:35:41.198544  \n",
      "\n",
      "[1199321 rows x 3 columns]\n"
     ]
    }
   ],
   "source": [
    "print(df)"
   ]
  },
  {
   "cell_type": "code",
   "execution_count": 6,
   "metadata": {
    "scrolled": false
   },
   "outputs": [
    {
     "data": {
      "text/html": [
       "<div>\n",
       "<style scoped>\n",
       "    .dataframe tbody tr th:only-of-type {\n",
       "        vertical-align: middle;\n",
       "    }\n",
       "\n",
       "    .dataframe tbody tr th {\n",
       "        vertical-align: top;\n",
       "    }\n",
       "\n",
       "    .dataframe thead th {\n",
       "        text-align: right;\n",
       "    }\n",
       "</style>\n",
       "<table border=\"1\" class=\"dataframe\">\n",
       "  <thead>\n",
       "    <tr style=\"text-align: right;\">\n",
       "      <th></th>\n",
       "      <th>time</th>\n",
       "      <th>device</th>\n",
       "      <th>val</th>\n",
       "    </tr>\n",
       "  </thead>\n",
       "  <tbody>\n",
       "    <tr>\n",
       "      <th>0</th>\n",
       "      <td>2019-07-23 07:21:59.954940</td>\n",
       "      <td>binary_sensor.pir_motion_monitor_left</td>\n",
       "      <td>1</td>\n",
       "    </tr>\n",
       "    <tr>\n",
       "      <th>1</th>\n",
       "      <td>2019-07-23 07:21:47.404236</td>\n",
       "      <td>binary_sensor.pir_motion_mirror</td>\n",
       "      <td>0</td>\n",
       "    </tr>\n",
       "    <tr>\n",
       "      <th>2</th>\n",
       "      <td>2019-07-23 07:21:44.105560</td>\n",
       "      <td>binary_sensor.pir_motion_mirror</td>\n",
       "      <td>1</td>\n",
       "    </tr>\n",
       "    <tr>\n",
       "      <th>3</th>\n",
       "      <td>2019-07-23 07:21:42.751026</td>\n",
       "      <td>binary_sensor.pir_motion_monitor_left</td>\n",
       "      <td>0</td>\n",
       "    </tr>\n",
       "    <tr>\n",
       "      <th>4</th>\n",
       "      <td>2019-07-23 07:21:15.367036</td>\n",
       "      <td>binary_sensor.pir_motion_floor</td>\n",
       "      <td>0</td>\n",
       "    </tr>\n",
       "    <tr>\n",
       "      <th>...</th>\n",
       "      <td>...</td>\n",
       "      <td>...</td>\n",
       "      <td>...</td>\n",
       "    </tr>\n",
       "    <tr>\n",
       "      <th>1199285</th>\n",
       "      <td>2019-05-05 10:35:42.396775</td>\n",
       "      <td>binary_sensor.us_distance_floor</td>\n",
       "      <td>0</td>\n",
       "    </tr>\n",
       "    <tr>\n",
       "      <th>1199286</th>\n",
       "      <td>2019-05-05 10:35:42.394492</td>\n",
       "      <td>binary_sensor.pir_motion_floor</td>\n",
       "      <td>0</td>\n",
       "    </tr>\n",
       "    <tr>\n",
       "      <th>1199287</th>\n",
       "      <td>2019-05-05 10:35:42.390893</td>\n",
       "      <td>binary_sensor.us_distance_mirror</td>\n",
       "      <td>0</td>\n",
       "    </tr>\n",
       "    <tr>\n",
       "      <th>1199289</th>\n",
       "      <td>2019-05-05 10:35:42.380761</td>\n",
       "      <td>binary_sensor.us_distance_monitor_left</td>\n",
       "      <td>0</td>\n",
       "    </tr>\n",
       "    <tr>\n",
       "      <th>1199290</th>\n",
       "      <td>2019-05-05 10:35:42.362319</td>\n",
       "      <td>switch.chris_computer</td>\n",
       "      <td>1</td>\n",
       "    </tr>\n",
       "  </tbody>\n",
       "</table>\n",
       "<p>231970 rows × 3 columns</p>\n",
       "</div>"
      ],
      "text/plain": [
       "                              time                                  device  \\\n",
       "0       2019-07-23 07:21:59.954940   binary_sensor.pir_motion_monitor_left   \n",
       "1       2019-07-23 07:21:47.404236         binary_sensor.pir_motion_mirror   \n",
       "2       2019-07-23 07:21:44.105560         binary_sensor.pir_motion_mirror   \n",
       "3       2019-07-23 07:21:42.751026   binary_sensor.pir_motion_monitor_left   \n",
       "4       2019-07-23 07:21:15.367036          binary_sensor.pir_motion_floor   \n",
       "...                            ...                                     ...   \n",
       "1199285 2019-05-05 10:35:42.396775         binary_sensor.us_distance_floor   \n",
       "1199286 2019-05-05 10:35:42.394492          binary_sensor.pir_motion_floor   \n",
       "1199287 2019-05-05 10:35:42.390893        binary_sensor.us_distance_mirror   \n",
       "1199289 2019-05-05 10:35:42.380761  binary_sensor.us_distance_monitor_left   \n",
       "1199290 2019-05-05 10:35:42.362319                   switch.chris_computer   \n",
       "\n",
       "         val  \n",
       "0          1  \n",
       "1          0  \n",
       "2          1  \n",
       "3          0  \n",
       "4          0  \n",
       "...      ...  \n",
       "1199285    0  \n",
       "1199286    0  \n",
       "1199287    0  \n",
       "1199289    0  \n",
       "1199290    1  \n",
       "\n",
       "[231970 rows x 3 columns]"
      ]
     },
     "execution_count": 6,
     "metadata": {},
     "output_type": "execute_result"
    }
   ],
   "source": [
    "# Example for loading a homeassistant database with devices filtered and in the right representation\n",
    "load_homeassistant_devices(db_url, device_list)"
   ]
  },
  {
   "cell_type": "code",
   "execution_count": 15,
   "metadata": {},
   "outputs": [
    {
     "data": {
      "text/html": [
       "<div>\n",
       "<style scoped>\n",
       "    .dataframe tbody tr th:only-of-type {\n",
       "        vertical-align: middle;\n",
       "    }\n",
       "\n",
       "    .dataframe tbody tr th {\n",
       "        vertical-align: top;\n",
       "    }\n",
       "\n",
       "    .dataframe thead th {\n",
       "        text-align: right;\n",
       "    }\n",
       "</style>\n",
       "<table border=\"1\" class=\"dataframe\">\n",
       "  <thead>\n",
       "    <tr style=\"text-align: right;\">\n",
       "      <th></th>\n",
       "      <th>time</th>\n",
       "      <th>device</th>\n",
       "      <th>val</th>\n",
       "    </tr>\n",
       "  </thead>\n",
       "  <tbody>\n",
       "    <tr>\n",
       "      <th>0</th>\n",
       "      <td>2019-07-23 07:21:15.367036</td>\n",
       "      <td>binary_sensor.pir_motion_floor</td>\n",
       "      <td>0</td>\n",
       "    </tr>\n",
       "    <tr>\n",
       "      <th>1</th>\n",
       "      <td>2019-07-23 07:21:42.751026</td>\n",
       "      <td>binary_sensor.pir_motion_monitor_left</td>\n",
       "      <td>0</td>\n",
       "    </tr>\n",
       "    <tr>\n",
       "      <th>2</th>\n",
       "      <td>2019-07-23 07:21:44.105560</td>\n",
       "      <td>binary_sensor.pir_motion_mirror</td>\n",
       "      <td>1</td>\n",
       "    </tr>\n",
       "    <tr>\n",
       "      <th>3</th>\n",
       "      <td>2019-07-23 07:21:47.404236</td>\n",
       "      <td>binary_sensor.pir_motion_mirror</td>\n",
       "      <td>0</td>\n",
       "    </tr>\n",
       "    <tr>\n",
       "      <th>4</th>\n",
       "      <td>2019-07-23 07:21:59.954940</td>\n",
       "      <td>binary_sensor.pir_motion_monitor_left</td>\n",
       "      <td>1</td>\n",
       "    </tr>\n",
       "  </tbody>\n",
       "</table>\n",
       "</div>"
      ],
      "text/plain": [
       "                        time                                 device  val\n",
       "0 2019-07-23 07:21:15.367036         binary_sensor.pir_motion_floor    0\n",
       "1 2019-07-23 07:21:42.751026  binary_sensor.pir_motion_monitor_left    0\n",
       "2 2019-07-23 07:21:44.105560        binary_sensor.pir_motion_mirror    1\n",
       "3 2019-07-23 07:21:47.404236        binary_sensor.pir_motion_mirror    0\n",
       "4 2019-07-23 07:21:59.954940  binary_sensor.pir_motion_monitor_left    1"
      ]
     },
     "execution_count": 15,
     "metadata": {},
     "output_type": "execute_result"
    }
   ],
   "source": [
    "# Example for loading a homeassistant database with devices filtered from a specific time until now\n",
    "load_homeassistant_devices(db_url, device_list, start_time='2019-07-23 07:21:15.000000')"
   ]
  },
  {
   "cell_type": "code",
   "execution_count": 9,
   "metadata": {},
   "outputs": [],
   "source": [
    "tmp =  pd.Timestamp('2019-07-23 07:21:15.367036')"
   ]
  },
  {
   "cell_type": "code",
   "execution_count": 16,
   "metadata": {},
   "outputs": [
    {
     "data": {
      "text/html": [
       "<div>\n",
       "<style scoped>\n",
       "    .dataframe tbody tr th:only-of-type {\n",
       "        vertical-align: middle;\n",
       "    }\n",
       "\n",
       "    .dataframe tbody tr th {\n",
       "        vertical-align: top;\n",
       "    }\n",
       "\n",
       "    .dataframe thead th {\n",
       "        text-align: right;\n",
       "    }\n",
       "</style>\n",
       "<table border=\"1\" class=\"dataframe\">\n",
       "  <thead>\n",
       "    <tr style=\"text-align: right;\">\n",
       "      <th></th>\n",
       "      <th>time</th>\n",
       "      <th>device</th>\n",
       "      <th>val</th>\n",
       "    </tr>\n",
       "  </thead>\n",
       "  <tbody>\n",
       "    <tr>\n",
       "      <th>0</th>\n",
       "      <td>2019-07-23 07:21:15.367036</td>\n",
       "      <td>binary_sensor.pir_motion_floor</td>\n",
       "      <td>0</td>\n",
       "    </tr>\n",
       "    <tr>\n",
       "      <th>1</th>\n",
       "      <td>2019-07-23 07:21:42.751026</td>\n",
       "      <td>binary_sensor.pir_motion_monitor_left</td>\n",
       "      <td>0</td>\n",
       "    </tr>\n",
       "    <tr>\n",
       "      <th>2</th>\n",
       "      <td>2019-07-23 07:21:44.105560</td>\n",
       "      <td>binary_sensor.pir_motion_mirror</td>\n",
       "      <td>1</td>\n",
       "    </tr>\n",
       "    <tr>\n",
       "      <th>3</th>\n",
       "      <td>2019-07-23 07:21:47.404236</td>\n",
       "      <td>binary_sensor.pir_motion_mirror</td>\n",
       "      <td>0</td>\n",
       "    </tr>\n",
       "  </tbody>\n",
       "</table>\n",
       "</div>"
      ],
      "text/plain": [
       "                        time                                 device  val\n",
       "0 2019-07-23 07:21:15.367036         binary_sensor.pir_motion_floor    0\n",
       "1 2019-07-23 07:21:42.751026  binary_sensor.pir_motion_monitor_left    0\n",
       "2 2019-07-23 07:21:44.105560        binary_sensor.pir_motion_mirror    1\n",
       "3 2019-07-23 07:21:47.404236        binary_sensor.pir_motion_mirror    0"
      ]
     },
     "execution_count": 16,
     "metadata": {},
     "output_type": "execute_result"
    }
   ],
   "source": [
    "load_homeassistant_devices(db_url, device_list, start_time='2019-07-23 07:21:15.000000', end_time='2019-07-23 07:21:47.404236')"
   ]
  }
 ],
 "metadata": {
  "kernelspec": {
   "display_name": "Python 3",
   "language": "python",
   "name": "python3"
  },
  "language_info": {
   "codemirror_mode": {
    "name": "ipython",
    "version": 3
   },
   "file_extension": ".py",
   "mimetype": "text/x-python",
   "name": "python",
   "nbconvert_exporter": "python",
   "pygments_lexer": "ipython3",
   "version": "3.9.5"
  }
 },
 "nbformat": 4,
 "nbformat_minor": 2
}
