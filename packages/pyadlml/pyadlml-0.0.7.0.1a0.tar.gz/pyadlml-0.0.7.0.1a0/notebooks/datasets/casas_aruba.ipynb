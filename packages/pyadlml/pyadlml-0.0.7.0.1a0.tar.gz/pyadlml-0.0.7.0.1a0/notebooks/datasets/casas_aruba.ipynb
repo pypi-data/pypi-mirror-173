{
 "cells": [
  {
   "cell_type": "markdown",
   "metadata": {},
   "source": [
    "# CASAS Aruba\n",
    "\n",
    "WSU CASAS smart home project:  \n",
    "    D. Cook. Learning setting-generalized activity models for smart spaces. IEEE Intelligent Systems, 2011.\n",
    "\n",
    "\n",
    "### Description\n",
    "This dataset contains sensor data that was collected in the home of\n",
    "a volunteer adult.  The resident in the home was a woman.  The woman's\n",
    "children and grandchildren visited on a regular basis.\n",
    "\n",
    "#### Data cleaning\n",
    "The data was in a very desolate state. Therefore this script fixes typos spaces and mislabeling of devices. The cleaned data is used for analysis."
   ]
  },
  {
   "cell_type": "raw",
   "metadata": {},
   "source": [
    "from pyadlml.dataset.casas_aruba import _fix_data\n",
    "data_path = \"/home/chris/code/adlml/datasets/casas_aruba/data\"\n",
    "_fix_data(data_path)"
   ]
  },
  {
   "cell_type": "code",
   "execution_count": 1,
   "metadata": {},
   "outputs": [],
   "source": [
    "import sys\n",
    "sys.path.append(\"../..\")\n",
    "import pandas as pd\n",
    "import matplotlib.pyplot as plt"
   ]
  },
  {
   "cell_type": "code",
   "execution_count": 2,
   "metadata": {},
   "outputs": [
    {
     "data": {
      "text/html": [
       "        <script type=\"text/javascript\">\n",
       "        window.PlotlyConfig = {MathJaxConfig: 'local'};\n",
       "        if (window.MathJax) {MathJax.Hub.Config({SVG: {font: \"STIX-Web\"}});}\n",
       "        if (typeof require !== 'undefined') {\n",
       "        require.undef(\"plotly\");\n",
       "        requirejs.config({\n",
       "            paths: {\n",
       "                'plotly': ['https://cdn.plot.ly/plotly-latest.min']\n",
       "            }\n",
       "        });\n",
       "        require(['plotly'], function(Plotly) {\n",
       "            window._Plotly = Plotly;\n",
       "        });\n",
       "        }\n",
       "        </script>\n",
       "        "
      ]
     },
     "metadata": {},
     "output_type": "display_data"
    }
   ],
   "source": [
    "import plotly\n",
    "plotly.offline.init_notebook_mode(connected=True)"
   ]
  },
  {
   "cell_type": "code",
   "execution_count": 3,
   "metadata": {},
   "outputs": [
    {
     "name": "stderr",
     "output_type": "stream",
     "text": [
      "/home/chris/Desktop/code/adlml/pyadlml/notebooks/datasets/../../pyadlml/dataset/_datasets/casas_aruba.py:132: SettingWithCopyWarning:\n",
      "\n",
      "\n",
      "A value is trying to be set on a copy of a slice from a DataFrame.\n",
      "Try using .loc[row_indexer,col_indexer] = value instead\n",
      "\n",
      "See the caveats in the documentation: https://pandas.pydata.org/pandas-docs/stable/user_guide/indexing.html#returning-a-view-versus-a-copy\n",
      "\n",
      "/home/chris/Desktop/code/adlml/pyadlml/notebooks/datasets/../../pyadlml/dataset/_datasets/casas_aruba.py:139: SettingWithCopyWarning:\n",
      "\n",
      "\n",
      "A value is trying to be set on a copy of a slice from a DataFrame.\n",
      "Try using .loc[row_indexer,col_indexer] = value instead\n",
      "\n",
      "See the caveats in the documentation: https://pandas.pydata.org/pandas-docs/stable/user_guide/indexing.html#returning-a-view-versus-a-copy\n",
      "\n",
      "/home/chris/Desktop/code/adlml/pyadlml/notebooks/datasets/../../pyadlml/dataset/_core/devices.py:443: VisibleDeprecationWarning:\n",
      "\n",
      "Creating an ndarray from ragged nested sequences (which is a list-or-tuple of lists-or-tuples-or ndarrays with different lengths or shapes) is deprecated. If you meant to do this, you must specify 'dtype=object' when creating the ndarray.\n",
      "\n"
     ]
    }
   ],
   "source": [
    "from pyadlml.dataset import set_data_home, fetch_casas_aruba\n",
    "set_data_home('/home/chris/code/adlml/data_home')\n",
    "\n",
    "data = fetch_casas_aruba(keep_original=True, cache=True)"
   ]
  },
  {
   "cell_type": "code",
   "execution_count": 4,
   "metadata": {},
   "outputs": [
    {
     "data": {
      "text/html": [
       "<div>\n",
       "<style scoped>\n",
       "    .dataframe tbody tr th:only-of-type {\n",
       "        vertical-align: middle;\n",
       "    }\n",
       "\n",
       "    .dataframe tbody tr th {\n",
       "        vertical-align: top;\n",
       "    }\n",
       "\n",
       "    .dataframe thead th {\n",
       "        text-align: right;\n",
       "    }\n",
       "</style>\n",
       "<table border=\"1\" class=\"dataframe\">\n",
       "  <thead>\n",
       "    <tr style=\"text-align: right;\">\n",
       "      <th></th>\n",
       "      <th>start_time</th>\n",
       "      <th>end_time</th>\n",
       "      <th>activity</th>\n",
       "    </tr>\n",
       "  </thead>\n",
       "  <tbody>\n",
       "    <tr>\n",
       "      <th>0</th>\n",
       "      <td>2010-11-04 00:03:50.209589</td>\n",
       "      <td>2010-11-04 05:40:43.642664</td>\n",
       "      <td>Sleeping</td>\n",
       "    </tr>\n",
       "    <tr>\n",
       "      <th>1</th>\n",
       "      <td>2010-11-04 05:40:51.303739</td>\n",
       "      <td>2010-11-04 05:43:30.279021</td>\n",
       "      <td>Bed_to_Toilet</td>\n",
       "    </tr>\n",
       "    <tr>\n",
       "      <th>2</th>\n",
       "      <td>2010-11-04 05:43:45.732400</td>\n",
       "      <td>2010-11-04 08:01:12.282970</td>\n",
       "      <td>Sleeping</td>\n",
       "    </tr>\n",
       "    <tr>\n",
       "      <th>3</th>\n",
       "      <td>2010-11-04 08:11:09.966157</td>\n",
       "      <td>2010-11-04 08:27:02.801314</td>\n",
       "      <td>Meal_Preparation</td>\n",
       "    </tr>\n",
       "    <tr>\n",
       "      <th>4</th>\n",
       "      <td>2010-11-04 08:33:52.929406</td>\n",
       "      <td>2010-11-04 08:35:45.822482</td>\n",
       "      <td>Meal_Preparation</td>\n",
       "    </tr>\n",
       "  </tbody>\n",
       "</table>\n",
       "</div>"
      ],
      "text/plain": [
       "                  start_time                   end_time          activity\n",
       "0 2010-11-04 00:03:50.209589 2010-11-04 05:40:43.642664          Sleeping\n",
       "1 2010-11-04 05:40:51.303739 2010-11-04 05:43:30.279021     Bed_to_Toilet\n",
       "2 2010-11-04 05:43:45.732400 2010-11-04 08:01:12.282970          Sleeping\n",
       "3 2010-11-04 08:11:09.966157 2010-11-04 08:27:02.801314  Meal_Preparation\n",
       "4 2010-11-04 08:33:52.929406 2010-11-04 08:35:45.822482  Meal_Preparation"
      ]
     },
     "execution_count": 4,
     "metadata": {},
     "output_type": "execute_result"
    }
   ],
   "source": [
    "data.df_activities.head()"
   ]
  },
  {
   "cell_type": "code",
   "execution_count": 5,
   "metadata": {},
   "outputs": [
    {
     "data": {
      "text/html": [
       "<div>\n",
       "<style scoped>\n",
       "    .dataframe tbody tr th:only-of-type {\n",
       "        vertical-align: middle;\n",
       "    }\n",
       "\n",
       "    .dataframe tbody tr th {\n",
       "        vertical-align: top;\n",
       "    }\n",
       "\n",
       "    .dataframe thead th {\n",
       "        text-align: right;\n",
       "    }\n",
       "</style>\n",
       "<table border=\"1\" class=\"dataframe\">\n",
       "  <thead>\n",
       "    <tr style=\"text-align: right;\">\n",
       "      <th></th>\n",
       "      <th>time</th>\n",
       "      <th>device</th>\n",
       "      <th>value</th>\n",
       "    </tr>\n",
       "  </thead>\n",
       "  <tbody>\n",
       "    <tr>\n",
       "      <th>0</th>\n",
       "      <td>2010-11-04 00:03:50.209589</td>\n",
       "      <td>M003</td>\n",
       "      <td>True</td>\n",
       "    </tr>\n",
       "    <tr>\n",
       "      <th>1</th>\n",
       "      <td>2010-11-04 00:03:57.399391</td>\n",
       "      <td>M003</td>\n",
       "      <td>False</td>\n",
       "    </tr>\n",
       "    <tr>\n",
       "      <th>2</th>\n",
       "      <td>2010-11-04 00:15:08.984841</td>\n",
       "      <td>T002</td>\n",
       "      <td>21.5</td>\n",
       "    </tr>\n",
       "    <tr>\n",
       "      <th>3</th>\n",
       "      <td>2010-11-04 00:30:19.185547</td>\n",
       "      <td>T003</td>\n",
       "      <td>21.0</td>\n",
       "    </tr>\n",
       "    <tr>\n",
       "      <th>4</th>\n",
       "      <td>2010-11-04 00:30:19.385336</td>\n",
       "      <td>T004</td>\n",
       "      <td>21.0</td>\n",
       "    </tr>\n",
       "  </tbody>\n",
       "</table>\n",
       "</div>"
      ],
      "text/plain": [
       "                        time device  value\n",
       "0 2010-11-04 00:03:50.209589   M003   True\n",
       "1 2010-11-04 00:03:57.399391   M003  False\n",
       "2 2010-11-04 00:15:08.984841   T002   21.5\n",
       "3 2010-11-04 00:30:19.185547   T003   21.0\n",
       "4 2010-11-04 00:30:19.385336   T004   21.0"
      ]
     },
     "execution_count": 5,
     "metadata": {},
     "output_type": "execute_result"
    }
   ],
   "source": [
    "data.df_devices.head()"
   ]
  },
  {
   "cell_type": "markdown",
   "metadata": {},
   "source": [
    "## Activities: Person 1\n"
   ]
  },
  {
   "cell_type": "code",
   "execution_count": 6,
   "metadata": {},
   "outputs": [
    {
     "data": {
      "image/png": "[encoded data removed]",
      "text/plain": [
       "<Figure size 1440x576 with 2 Axes>"
      ]
     },
     "metadata": {
      "needs_background": "light"
     },
     "output_type": "display_data"
    }
   ],
   "source": [
    "from pyadlml.dataset.plot.act_and_devs import plot_activities_vs_devices\n",
    "time_selected = ['2010-11-01 00:00:00', '2010-11-10 00:00:00']\n",
    "\n",
    "# plot properties\n",
    "\n",
    "plot_activities_vs_devices(data.df_devices, data.df_activities, time_selected=time_selected);"
   ]
  },
  {
   "cell_type": "code",
   "execution_count": 7,
   "metadata": {},
   "outputs": [
    {
     "ename": "ImportError",
     "evalue": "cannot import name 'ridge_line' from 'pyadlml.dataset.plot.activities' (/home/chris/Desktop/code/adlml/pyadlml/notebooks/datasets/../../pyadlml/dataset/plot/activities.py)",
     "output_type": "error",
     "traceback": [
      "\u001b[0;31m---------------------------------------------------------------------------\u001b[0m",
      "\u001b[0;31mImportError\u001b[0m                               Traceback (most recent call last)",
      "\u001b[0;32m<ipython-input-7-c6b5a7c8b012>\u001b[0m in \u001b[0;36m<module>\u001b[0;34m\u001b[0m\n\u001b[0;32m----> 1\u001b[0;31m \u001b[0;32mfrom\u001b[0m \u001b[0mpyadlml\u001b[0m\u001b[0;34m.\u001b[0m\u001b[0mdataset\u001b[0m\u001b[0;34m.\u001b[0m\u001b[0mplot\u001b[0m\u001b[0;34m.\u001b[0m\u001b[0mactivities\u001b[0m \u001b[0;32mimport\u001b[0m \u001b[0mridge_line\u001b[0m\u001b[0;34m\u001b[0m\u001b[0;34m\u001b[0m\u001b[0m\n\u001b[0m\u001b[1;32m      2\u001b[0m \u001b[0mridge_line\u001b[0m\u001b[0;34m(\u001b[0m\u001b[0mdata\u001b[0m\u001b[0;34m.\u001b[0m\u001b[0mdf_activities\u001b[0m\u001b[0;34m,\u001b[0m \u001b[0midle\u001b[0m\u001b[0;34m=\u001b[0m\u001b[0midle\u001b[0m\u001b[0;34m)\u001b[0m\u001b[0;34m;\u001b[0m\u001b[0;34m\u001b[0m\u001b[0;34m\u001b[0m\u001b[0m\n",
      "\u001b[0;31mImportError\u001b[0m: cannot import name 'ridge_line' from 'pyadlml.dataset.plot.activities' (/home/chris/Desktop/code/adlml/pyadlml/notebooks/datasets/../../pyadlml/dataset/plot/activities.py)"
     ]
    }
   ],
   "source": [
    "from pyadlml.dataset.plot.activities import ridge_line\n",
    "ridge_line(data.df_activities, idle=idle);"
   ]
  },
  {
   "cell_type": "code",
   "execution_count": null,
   "metadata": {},
   "outputs": [],
   "source": [
    "from pyadlml.dataset.plot.activities import hist_counts\n",
    "\n",
    "idle = True\n",
    "hist_counts(data.df_activities, idle=idle, y_scale='log');"
   ]
  },
  {
   "cell_type": "markdown",
   "metadata": {},
   "source": [
    "The most performed activity is *use toilet* and *go to bed*. There is an exponential decay between the amount of the most and least performed activity."
   ]
  },
  {
   "cell_type": "code",
   "execution_count": null,
   "metadata": {},
   "outputs": [],
   "source": [
    "from pyadlml.dataset.plot.activities import boxplot_duration\n",
    "\n",
    "boxplot_duration(data.df_activities);"
   ]
  },
  {
   "cell_type": "code",
   "execution_count": null,
   "metadata": {},
   "outputs": [],
   "source": [
    "from pyadlml.dataset.plot.activities import hist_cum_duration\n",
    "\n",
    "idle = True\n",
    "y_scale = 'log'\n",
    "hist_cum_duration(data.df_activities, y_scale=y_scale, idle=idle);"
   ]
  },
  {
   "cell_type": "raw",
   "metadata": {},
   "source": [
    "from pyadlml.dataset.plot.activities import ridge_line\n",
    "idle = False\n",
    "\n",
    "ridge_line(data.df_activities, n=100, idle=False)"
   ]
  },
  {
   "cell_type": "markdown",
   "metadata": {},
   "source": [
    "#### Transition Heatmap"
   ]
  },
  {
   "cell_type": "code",
   "execution_count": null,
   "metadata": {
    "scrolled": false
   },
   "outputs": [],
   "source": [
    "from pyadlml.dataset.plot.activities import heatmap_transitions\n",
    "\n",
    "z_scale = 'log' \n",
    "heatmap_transitions(data.df_activities, z_scale=z_scale);"
   ]
  },
  {
   "cell_type": "markdown",
   "metadata": {},
   "source": [
    "## Devices"
   ]
  },
  {
   "cell_type": "code",
   "execution_count": null,
   "metadata": {},
   "outputs": [],
   "source": [
    "from pyadlml.dataset.plot.devices import hist_on_off\n",
    "hist_on_off(data.df_devices);"
   ]
  },
  {
   "cell_type": "markdown",
   "metadata": {},
   "source": [
    "As these are exclusevily motion sensors, all of them are *off* most of the time. "
   ]
  },
  {
   "cell_type": "code",
   "execution_count": null,
   "metadata": {},
   "outputs": [],
   "source": [
    "from pyadlml.dataset.plot.devices import boxplot_on_duration\n",
    "boxplot_on_duration(data.df_devices);"
   ]
  },
  {
   "cell_type": "markdown",
   "metadata": {},
   "source": [
    "As expected they have a mean on-time of $3$ seconds. Interestingley are the $3$ outlier groups "
   ]
  },
  {
   "cell_type": "code",
   "execution_count": null,
   "metadata": {},
   "outputs": [],
   "source": [
    "from pyadlml.dataset.plot.devices import heatmap_trigger_one_day\n",
    "heatmap_trigger_one_day(data.df_devices, t_res='10m');#, z_scale='log');"
   ]
  },
  {
   "cell_type": "code",
   "execution_count": null,
   "metadata": {
    "scrolled": true
   },
   "outputs": [],
   "source": [
    "from pyadlml.dataset.plot.devices import heatmap_trigger_time\n",
    "\n",
    "t_window = '5s'\n",
    "z_scale = 'log'\n",
    "\n",
    "heatmap_trigger_time(data.df_devices, t_window=t_window, z_scale=z_scale)"
   ]
  },
  {
   "cell_type": "code",
   "execution_count": null,
   "metadata": {
    "scrolled": false
   },
   "outputs": [],
   "source": [
    "from pyadlml.dataset.plot.devices import heatmap_cross_correlation\n",
    "heatmap_cross_correlation(data.df_devices, numbers=False, grid=False)"
   ]
  },
  {
   "cell_type": "code",
   "execution_count": null,
   "metadata": {},
   "outputs": [],
   "source": [
    "from pyadlml.dataset.plot.devices import hist_trigger_time_diff\n",
    "hist_trigger_time_diff(data.df_devices);"
   ]
  },
  {
   "cell_type": "markdown",
   "metadata": {},
   "source": [
    "We can see that about $33\\%$ of the triggers preceed each other in a timeslice lower than $1$ second and about $80\\%$ of the triggers in a timeslice lower than $1$ minute. In the paper (cite kasteren) a timeslice of $60$ seconds was used."
   ]
  },
  {
   "cell_type": "code",
   "execution_count": null,
   "metadata": {
    "scrolled": false,
    "tags": []
   },
   "outputs": [],
   "source": [
    "from pyadlml.dataset.plot.devices import hist_counts\n",
    "hist_counts(data.df_devices, y_scale='log');"
   ]
  },
  {
   "cell_type": "markdown",
   "metadata": {},
   "source": [
    "# Activites ~ Devices\n",
    "\n",
    "\n",
    "### Triggers\n",
    "Lets look at the connection between the activities and the device activations."
   ]
  },
  {
   "cell_type": "code",
   "execution_count": null,
   "metadata": {},
   "outputs": [],
   "source": [
    "from pyadlml.dataset.plot import heatmap_contingency_triggers\n",
    "\n",
    "idle = True\n",
    "z_scale = 'log'\n",
    "\n",
    "heatmap_contingency_triggers(data.df_dev_rep3, data.df_activities, idle=idle, z_scale=z_scale)"
   ]
  },
  {
   "cell_type": "markdown",
   "metadata": {},
   "source": [
    "We can see that there are sensors that heavily trigger for certain activities e.g hall-bathroom door and use toilet"
   ]
  },
  {
   "cell_type": "code",
   "execution_count": null,
   "metadata": {},
   "outputs": [],
   "source": [
    "from pyadlml.dataset.plot import heatmap_contingency_triggers_01\n",
    "\n",
    "idle = True\n",
    "z_scale = 'log'\n",
    "\n",
    "heatmap_contingency_triggers_01(data.df_dev_rep3, data.df_activities, \n",
    "                                idle=idle, z_scale=z_scale);"
   ]
  },
  {
   "cell_type": "markdown",
   "metadata": {},
   "source": [
    "Sadly the different states of a device don't convey much information. It would have been nice if an activity is only involved with a single device transition."
   ]
  },
  {
   "cell_type": "markdown",
   "metadata": {},
   "source": [
    "## Duration\n",
    "\n",
    "the overlap of the intervals is also interesting."
   ]
  },
  {
   "cell_type": "code",
   "execution_count": null,
   "metadata": {
    "scrolled": true
   },
   "outputs": [],
   "source": [
    "from pyadlml.dataset.plot import heatmap_contingency_overlaps\n",
    "\n",
    "z_scale='log'\n",
    "idle=True\n",
    "\n",
    "heatmap_contingency_overlaps(data.df_devices, data.df_activities, z_scale=z_scale, idle=idle)"
   ]
  },
  {
   "cell_type": "markdown",
   "metadata": {},
   "source": [
    "# Representations\n",
    "\n",
    "There are different ways to represent our data. One way is to discretize the data into intervals."
   ]
  },
  {
   "cell_type": "markdown",
   "metadata": {},
   "source": [
    "- RAW representation _____|^^^^^^|______  \n",
    "    is 1 whenever the sensor is 'on' and 0 otherwise \n",
    "\n",
    "- Changepoint representation ______|________|______  \n",
    "    sensor gives a 1 to timeslices where the sensor reading changes\n",
    "\n",
    "- LastFired representation ______|^^^^^^^^^  \n",
    "    last sensor that changed state gives cont. 1\n",
    "\n",
    "- Lagged representation\n",
    "    the "
   ]
  },
  {
   "cell_type": "markdown",
   "metadata": {},
   "source": [
    "## RAW - representation"
   ]
  },
  {
   "cell_type": "code",
   "execution_count": null,
   "metadata": {},
   "outputs": [],
   "source": [
    "from pyadlml.preprocessing import RawEncoder\n",
    "\n",
    "enc_raw = RawEncoder()\n",
    "raw = enc_raw.fit_transform(data.df_devices)"
   ]
  },
  {
   "cell_type": "code",
   "execution_count": null,
   "metadata": {},
   "outputs": [],
   "source": [
    "from pyadlml.preprocessing import LabelEncoder\n",
    "\n",
    "enc_lbl = LabelEncoder(raw)\n",
    "lbls = enc_lbl.fit_transform(data.df_activities)"
   ]
  },
  {
   "cell_type": "raw",
   "metadata": {},
   "source": [
    "enc_lbl.transform(data.df_activities)"
   ]
  },
  {
   "cell_type": "raw",
   "metadata": {},
   "source": [
    "raw"
   ]
  },
  {
   "cell_type": "code",
   "execution_count": null,
   "metadata": {},
   "outputs": [],
   "source": [
    "import numpy as np\n",
    "\n",
    "def check_raw_undiscretized(raw):\n",
    "    # should not contain any  nan values\n",
    "    assert not raw.isnull().values.any()\n",
    "    \n",
    "    # rows can only differ in one number\n",
    "    for i in range(1, len(raw)):\n",
    "        assert 1 == np.abs(np.sum(raw.iloc[i-1].values - raw.iloc[i].values))\n",
    "    \n",
    "check_raw_undiscretized(raw)"
   ]
  },
  {
   "cell_type": "raw",
   "metadata": {},
   "source": [
    "t_res = '60s'\n",
    "idle = True\n",
    "st='int_coverage'\n",
    "\n",
    "enc_raw = RawEncoder(t_res=t_res, sample_strat=st)\n",
    "raw = enc_raw.fit_transform(data.df_devices)\n",
    "\n",
    "enc_lbl = LabelEncoder(raw, idle=idle)\n",
    "lbls = enc_lbl.fit_transform(data.df_activities)"
   ]
  },
  {
   "cell_type": "code",
   "execution_count": null,
   "metadata": {},
   "outputs": [],
   "source": [
    "def check_raw(raw):\n",
    "    # should not contain any  nan values\n",
    "    assert not raw.isnull().values.any()\n",
    "    \n",
    "check_raw(raw)"
   ]
  },
  {
   "cell_type": "raw",
   "metadata": {},
   "source": [
    "raw"
   ]
  },
  {
   "cell_type": "code",
   "execution_count": null,
   "metadata": {
    "tags": []
   },
   "outputs": [],
   "source": [
    "from pyadlml.dataset.plot.raw import hist_activities\n",
    "\n",
    "hist_activities(enc_lbl.inverse_transform(lbls), \n",
    "                scale='log')#, figsize=(10,10))"
   ]
  },
  {
   "cell_type": "code",
   "execution_count": null,
   "metadata": {},
   "outputs": [],
   "source": [
    "from pyadlml.dataset.plot.raw import heatmap_contingency_01\n",
    "\n",
    "z_scale = 'log'\n",
    "rep = 'raw'\n",
    "\n",
    "heatmap_contingency_01(raw, enc_lbl.inverse_transform(lbls), rep=rep, z_scale=z_scale);"
   ]
  },
  {
   "cell_type": "code",
   "execution_count": null,
   "metadata": {
    "scrolled": false
   },
   "outputs": [],
   "source": [
    "from pyadlml.dataset.plot.raw import heatmap_cross_correlation\n",
    "\n",
    "heatmap_cross_correlation(raw);"
   ]
  },
  {
   "cell_type": "code",
   "execution_count": null,
   "metadata": {},
   "outputs": [],
   "source": [
    "# TODO sth. is wrong here\n",
    "#from pyadlml.dataset.plot.raw import corr_devices_01\n",
    "#corr_devices_01(raw)"
   ]
  },
  {
   "cell_type": "markdown",
   "metadata": {},
   "source": [
    "## Changepoint - representation\n",
    "Raw: _____|^^^^^^|______  \n",
    "\n",
    "CP :  ______|________|______  \n",
    "\n",
    "sensor gives a 1 to timeslices where the sensor reading changes"
   ]
  },
  {
   "cell_type": "code",
   "execution_count": null,
   "metadata": {},
   "outputs": [],
   "source": [
    "from pyadlml.preprocessing import ChangepointEncoder\n",
    "\n",
    "idle = True\n",
    "t_res = '60s'\n",
    "\n",
    "cp_enc = ChangepointEncoder(t_res=t_res)\n",
    "cp = cp_enc.fit_transform(data.df_devices)"
   ]
  },
  {
   "cell_type": "code",
   "execution_count": null,
   "metadata": {},
   "outputs": [],
   "source": [
    "from pyadlml.preprocessing import LabelEncoder\n",
    "\n",
    "enc_lbl = LabelEncoder(cp, idle=idle)\n",
    "lbls = enc_lbl.fit_transform(data.df_activities)"
   ]
  },
  {
   "cell_type": "code",
   "execution_count": null,
   "metadata": {},
   "outputs": [],
   "source": [
    "def check_changepoint(cp):\n",
    "    # should not contain any  nan values\n",
    "    assert not cp.isnull().values.any()\n",
    "\n",
    "check_changepoint(cp)"
   ]
  },
  {
   "cell_type": "code",
   "execution_count": null,
   "metadata": {},
   "outputs": [],
   "source": [
    "from pyadlml.dataset.plot.raw import heatmap_contingency_01\n",
    "\n",
    "z_scale = 'log'\n",
    "rep = 'Changepoint'\n",
    "\n",
    "heatmap_contingency_01(cp, enc_lbl.inverse_transform(lbls), rep=rep, z_scale=z_scale);"
   ]
  },
  {
   "cell_type": "code",
   "execution_count": null,
   "metadata": {
    "scrolled": false
   },
   "outputs": [],
   "source": [
    "from pyadlml.dataset.plot.raw import heatmap_cross_correlation\n",
    "\n",
    "heatmap_cross_correlation(cp);"
   ]
  },
  {
   "cell_type": "raw",
   "metadata": {},
   "source": [
    "from pyadlml.dataset.plot.raw import corr_devices_01\n",
    "corr_devices_01(cp)"
   ]
  },
  {
   "cell_type": "markdown",
   "metadata": {},
   "source": [
    "## LastFired - representation\n",
    "______|^^^^^^^^^  \n",
    "\n",
    "last sensor that changed state gives cont. 1"
   ]
  },
  {
   "cell_type": "code",
   "execution_count": null,
   "metadata": {},
   "outputs": [],
   "source": [
    "from pyadlml.preprocessing import LastFiredEncoder\n",
    "\n",
    "t_res = '60s'\n",
    "idle=True\n",
    "\n",
    "lf_enc = LastFiredEncoder(t_res=t_res)\n",
    "lf = lf_enc.fit_transform(data.df_devices)"
   ]
  },
  {
   "cell_type": "code",
   "execution_count": null,
   "metadata": {},
   "outputs": [],
   "source": [
    "from pyadlml.preprocessing import LabelEncoder\n",
    "\n",
    "enc_lbl = LabelEncoder(lf, idle=idle)\n",
    "lbls = enc_lbl.fit_transform(data.df_activities)"
   ]
  },
  {
   "cell_type": "code",
   "execution_count": null,
   "metadata": {},
   "outputs": [],
   "source": [
    "def check_lastfired(lf):\n",
    "    # should not contain any  nan values\n",
    "    assert not lf.isnull().values.any()\n",
    "    \n",
    "    # each row has to have exactly one device being on\n",
    "    for row in lf.iterrows():\n",
    "        assert 1 == row[1].values.sum()\n",
    "\n",
    "check_lastfired(lf)"
   ]
  },
  {
   "cell_type": "code",
   "execution_count": null,
   "metadata": {},
   "outputs": [],
   "source": [
    "from pyadlml.dataset.plot.raw import heatmap_contingency_01\n",
    "\n",
    "z_scale = 'log'\n",
    "rep = 'LastFired'\n",
    "\n",
    "heatmap_contingency_01(lf, enc_lbl.inverse_transform(lbls), rep=rep, z_scale=z_scale);"
   ]
  },
  {
   "cell_type": "code",
   "execution_count": null,
   "metadata": {},
   "outputs": [],
   "source": [
    "from pyadlml.dataset.plot.raw import heatmap_cross_correlation\n",
    "\n",
    "heatmap_cross_correlation(lf);"
   ]
  },
  {
   "cell_type": "raw",
   "metadata": {},
   "source": [
    "from pyadlml.dataset.plot.raw import corr_devices_01\n",
    "corr_devices_01(lf)"
   ]
  },
  {
   "cell_type": "markdown",
   "metadata": {},
   "source": [
    "## Image - representation\n",
    "\n",
    "a lot of timeseries can be represented as images. There are good algorithms for images available. There are Recurrence Plots (RP), Gramian Angular Field (GAF) (bad for binary data), Markov Transition Field (MTF): https://doi.org/10.3390/electronics9010068.\n",
    "\n",
    "\n",
    "Gramian Angular field: \n",
    "    https://medium.com/analytics-vidhya/encoding-time-series-as-images-b043becbdbf3\n",
    "    \n",
    "    https://pyts.readthedocs.io/en/stable/auto_examples/image/plot_mtf.html#sphx-glr-auto-examples-image-plot-mtf-py"
   ]
  },
  {
   "cell_type": "markdown",
   "metadata": {},
   "source": [
    "### Lagged RAW\n",
    "\n",
    "The lagged raw representation generates a 3D tensor from the raw input. A state at time $t$ is $1D$ vector. The window size determines how big the $2D$ picture is. Stack the windows in the third dimension.\n",
    "\n",
    "Also see last part of\n",
    "https://towardsdatascience.com/ml-approaches-for-time-series-4d44722e48fe"
   ]
  },
  {
   "cell_type": "code",
   "execution_count": null,
   "metadata": {},
   "outputs": [],
   "source": [
    "from pyadlml.preprocessing import LaggedRawEncoder, LaggedLabelEncoder\n",
    "\n",
    "window_size = 20\n",
    "t_res = '2min'\n",
    "sample_strat = 'int_coverage'\n",
    "idle = True\n",
    "\n",
    "enc_lgd_raw = LaggedRawEncoder(window_size, \n",
    "                               t_res=t_res, \n",
    "                               sample_strat=sample_strat)\n",
    "\n",
    "images = enc_lgd_raw.fit_transform(data.df_devices)"
   ]
  },
  {
   "cell_type": "code",
   "execution_count": null,
   "metadata": {},
   "outputs": [],
   "source": [
    "images.shape"
   ]
  },
  {
   "cell_type": "code",
   "execution_count": null,
   "metadata": {},
   "outputs": [],
   "source": [
    "enc_lgd_lbl = LaggedLabelEncoder(data.df_devices,\n",
    "                                        window_size, \n",
    "                                        t_res=t_res,\n",
    "                                        idle=idle)\n",
    "\n",
    "labels = enc_lgd_lbl.fit_transform(data.df_activities)\n",
    "labels.shape"
   ]
  },
  {
   "cell_type": "code",
   "execution_count": null,
   "metadata": {},
   "outputs": [],
   "source": [
    "from pyadlml.dataset.plot.image import mean_image\n",
    "\n",
    "mean_image(images, data.devices)"
   ]
  },
  {
   "cell_type": "code",
   "execution_count": null,
   "metadata": {},
   "outputs": [],
   "source": [
    "from pyadlml.dataset.plot.image import mean_image_per_activity\n",
    "\n",
    "X = images\n",
    "y = enc_lgd_lbl.inverse_transform(labels)\n",
    "\n",
    "mean_image_per_activity(X, y, data.devices)"
   ]
  },
  {
   "cell_type": "markdown",
   "metadata": {},
   "source": [
    "# Lagged Changepoint representation"
   ]
  },
  {
   "cell_type": "code",
   "execution_count": null,
   "metadata": {},
   "outputs": [],
   "source": [
    "from pyadlml.preprocessing import LaggedChangepointEncoder\n",
    "window_size = 20\n",
    "t_res = '2min'\n",
    "sample_strat = 'int_coverage'\n",
    "idle = True\n",
    "\n",
    "\n",
    "enc_lgd_cp = LaggedChangepointEncoder(window_size, t_res=t_res)\n",
    "images = enc_lgd_cp.fit_transform(data.df_devices)\n",
    "images.shape"
   ]
  },
  {
   "cell_type": "code",
   "execution_count": null,
   "metadata": {},
   "outputs": [],
   "source": [
    "from pyadlml.dataset.plot.image import mean_image\n",
    "\n",
    "mean_image(images, data.devices)"
   ]
  },
  {
   "cell_type": "code",
   "execution_count": null,
   "metadata": {},
   "outputs": [],
   "source": [
    "enc_lgd_lbl = LaggedLabelEncoder(data.df_devices,\n",
    "                                        window_size, \n",
    "                                        t_res=t_res,\n",
    "                                        idle=idle)\n",
    "\n",
    "labels = enc_lgd_lbl.fit_transform(data.df_activities)\n",
    "labels.shape"
   ]
  },
  {
   "cell_type": "code",
   "execution_count": null,
   "metadata": {},
   "outputs": [],
   "source": [
    "from pyadlml.dataset.plot.image import mean_image_per_activity\n",
    "\n",
    "X = images\n",
    "y = enc_lgd_lbl.inverse_transform(labels)\n",
    "\n",
    "mean_image_per_activity(X, y, data.devices)"
   ]
  },
  {
   "cell_type": "markdown",
   "metadata": {},
   "source": [
    "## Lagged Last Fired Encoder"
   ]
  },
  {
   "cell_type": "code",
   "execution_count": null,
   "metadata": {},
   "outputs": [],
   "source": [
    "from pyadlml.preprocessing import LaggedLastFiredEncoder\n",
    "window_size = 20\n",
    "t_res = '2min'\n",
    "sample_strat = 'int_coverage'\n",
    "idle=True\n",
    "\n",
    "\n",
    "enc_lgd_lf = LaggedLastFiredEncoder(window_size, t_res=t_res)\n",
    "images = enc_lgd_lf.fit_transform(data.df_devices)\n",
    "images.shape"
   ]
  },
  {
   "cell_type": "code",
   "execution_count": null,
   "metadata": {},
   "outputs": [],
   "source": [
    "from pyadlml.dataset.plot.image import mean_image\n",
    "\n",
    "mean_image(images, data.devices)"
   ]
  },
  {
   "cell_type": "code",
   "execution_count": null,
   "metadata": {},
   "outputs": [],
   "source": [
    "enc_lgd_lbl = LaggedLabelEncoder(data.df_devices,\n",
    "                                        window_size, \n",
    "                                        t_res=t_res,\n",
    "                                        idle=idle)\n",
    "\n",
    "labels = enc_lgd_lbl.fit_transform(data.df_activities)\n",
    "labels.shape"
   ]
  },
  {
   "cell_type": "code",
   "execution_count": null,
   "metadata": {},
   "outputs": [],
   "source": [
    "from pyadlml.dataset.plot.image import mean_image_per_activity\n",
    "\n",
    "X = images\n",
    "y = enc_lgd_lbl.inverse_transform(labels)\n",
    "\n",
    "mean_image_per_activity(X, y, data.devices)"
   ]
  },
  {
   "cell_type": "code",
   "execution_count": null,
   "metadata": {},
   "outputs": [],
   "source": []
  }
 ],
 "metadata": {
  "kernelspec": {
   "display_name": "pyadlml",
   "language": "python",
   "name": "pyadlml"
  },
  "language_info": {
   "codemirror_mode": {
    "name": "ipython",
    "version": 3
   },
   "file_extension": ".py",
   "mimetype": "text/x-python",
   "name": "python",
   "nbconvert_exporter": "python",
   "pygments_lexer": "ipython3",
   "version": "3.9.7"
  }
 },
 "nbformat": 4,
 "nbformat_minor": 2
}
