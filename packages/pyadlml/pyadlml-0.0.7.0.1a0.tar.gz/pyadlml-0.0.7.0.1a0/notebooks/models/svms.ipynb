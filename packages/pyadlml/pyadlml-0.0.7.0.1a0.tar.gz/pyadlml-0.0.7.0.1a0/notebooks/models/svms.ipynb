{
 "cells": [
  {
   "cell_type": "markdown",
   "metadata": {},
   "source": [
    "# Data\n",
    "\n",
    "the kasteren dataset is used"
   ]
  },
  {
   "cell_type": "code",
   "execution_count": 1,
   "metadata": {},
   "outputs": [],
   "source": [
    "import sys\n",
    "sys.path.append(\"../..\")\n",
    "import pyadlml.dataset.kasteren as kasteren\n",
    "import pandas as pd\n",
    "import numpy as np\n",
    "from sklearn.tree import DecisionTreeClassifier\n",
    "from sklearn.model_selection import RepeatedStratifiedKFold, GridSearchCV\n",
    "from imblearn.pipeline import Pipeline\n",
    "from sklearn.model_selection import cross_validate"
   ]
  },
  {
   "cell_type": "code",
   "execution_count": 2,
   "metadata": {},
   "outputs": [
    {
     "name": "stderr",
     "output_type": "stream",
     "text": [
      "/home/chris/Desktop/code/adlml/pyadlml/venv_pyadml/lib/python3.8/site-packages/pandas/core/frame.py:4125: SettingWithCopyWarning: \n",
      "A value is trying to be set on a copy of a slice from a DataFrame\n",
      "\n",
      "See the caveats in the documentation: https://pandas.pydata.org/pandas-docs/stable/user_guide/indexing.html#returning-a-view-versus-a-copy\n",
      "  return super().rename(\n",
      "../../pyadlml/dataset/devices.py:78: SettingWithCopyWarning: \n",
      "A value is trying to be set on a copy of a slice from a DataFrame.\n",
      "Try using .loc[row_indexer,col_indexer] = value instead\n",
      "\n",
      "See the caveats in the documentation: https://pandas.pydata.org/pandas-docs/stable/user_guide/indexing.html#returning-a-view-versus-a-copy\n",
      "  df_end['pairs'] = df_end.groupby(['device'])['ones'].apply(lambda x: x.cumsum())\n",
      "../../pyadlml/dataset/devices.py:79: SettingWithCopyWarning: \n",
      "A value is trying to be set on a copy of a slice from a DataFrame.\n",
      "Try using .loc[row_indexer,col_indexer] = value instead\n",
      "\n",
      "See the caveats in the documentation: https://pandas.pydata.org/pandas-docs/stable/user_guide/indexing.html#returning-a-view-versus-a-copy\n",
      "  df_start['pairs'] = df_start.groupby(['device'])['ones'].apply(lambda x: x.cumsum())\n"
     ]
    }
   ],
   "source": [
    "sensorData = \"/home/chris/code/adlml/datasets/kasteren/kasterenSenseData.txt\"\n",
    "activityData = \"/home/chris/code/adlml/datasets/kasteren/kasterenActData.txt\"\n",
    "\n",
    "data = kasteren.load(sensorData, activityData)"
   ]
  },
  {
   "cell_type": "code",
   "execution_count": 3,
   "metadata": {},
   "outputs": [],
   "source": [
    "from pyadlml.preprocessing import RawEncoder\n",
    "from pyadlml.preprocessing import LabelEncoder\n",
    "\n",
    "t_res = None\n",
    "idle = True\n",
    "st='int_coverage'\n",
    "\n",
    "enc_raw = RawEncoder(t_res=t_res, sample_strat=st)\n",
    "raw = enc_raw.fit_transform(data.df_devices)\n",
    "\n",
    "enc_lbl = LabelEncoder(raw, idle=idle)\n",
    "lbls = enc_lbl.fit_transform(data.df_activities)"
   ]
  },
  {
   "cell_type": "code",
   "execution_count": 4,
   "metadata": {
    "scrolled": false
   },
   "outputs": [
    {
     "data": {
      "text/html": [
       "<div>\n",
       "<style scoped>\n",
       "    .dataframe tbody tr th:only-of-type {\n",
       "        vertical-align: middle;\n",
       "    }\n",
       "\n",
       "    .dataframe tbody tr th {\n",
       "        vertical-align: top;\n",
       "    }\n",
       "\n",
       "    .dataframe thead th {\n",
       "        text-align: right;\n",
       "    }\n",
       "</style>\n",
       "<table border=\"1\" class=\"dataframe\">\n",
       "  <thead>\n",
       "    <tr style=\"text-align: right;\">\n",
       "      <th></th>\n",
       "      <th>Hall-Bedroom door</th>\n",
       "      <th>Hall-Toilet door</th>\n",
       "      <th>Hall-Bathroom door</th>\n",
       "      <th>ToiletFlush</th>\n",
       "      <th>Plates cupboard</th>\n",
       "      <th>Fridge</th>\n",
       "      <th>Microwave</th>\n",
       "      <th>Groceries Cupboard</th>\n",
       "      <th>Dishwasher</th>\n",
       "      <th>Pans Cupboard</th>\n",
       "      <th>Cups cupboard</th>\n",
       "      <th>Frontdoor</th>\n",
       "      <th>Freezer</th>\n",
       "      <th>Washingmachine</th>\n",
       "      <th>activities</th>\n",
       "    </tr>\n",
       "  </thead>\n",
       "  <tbody>\n",
       "    <tr>\n",
       "      <th>0</th>\n",
       "      <td>1</td>\n",
       "      <td>0</td>\n",
       "      <td>0</td>\n",
       "      <td>0</td>\n",
       "      <td>0</td>\n",
       "      <td>0</td>\n",
       "      <td>0</td>\n",
       "      <td>0</td>\n",
       "      <td>0</td>\n",
       "      <td>0</td>\n",
       "      <td>0</td>\n",
       "      <td>0</td>\n",
       "      <td>0</td>\n",
       "      <td>0</td>\n",
       "      <td>2</td>\n",
       "    </tr>\n",
       "    <tr>\n",
       "      <th>1</th>\n",
       "      <td>0</td>\n",
       "      <td>0</td>\n",
       "      <td>0</td>\n",
       "      <td>0</td>\n",
       "      <td>0</td>\n",
       "      <td>0</td>\n",
       "      <td>0</td>\n",
       "      <td>0</td>\n",
       "      <td>0</td>\n",
       "      <td>0</td>\n",
       "      <td>0</td>\n",
       "      <td>0</td>\n",
       "      <td>0</td>\n",
       "      <td>0</td>\n",
       "      <td>2</td>\n",
       "    </tr>\n",
       "    <tr>\n",
       "      <th>2</th>\n",
       "      <td>1</td>\n",
       "      <td>1</td>\n",
       "      <td>0</td>\n",
       "      <td>0</td>\n",
       "      <td>0</td>\n",
       "      <td>0</td>\n",
       "      <td>0</td>\n",
       "      <td>0</td>\n",
       "      <td>0</td>\n",
       "      <td>0</td>\n",
       "      <td>0</td>\n",
       "      <td>0</td>\n",
       "      <td>0</td>\n",
       "      <td>0</td>\n",
       "      <td>2</td>\n",
       "    </tr>\n",
       "    <tr>\n",
       "      <th>3</th>\n",
       "      <td>1</td>\n",
       "      <td>0</td>\n",
       "      <td>1</td>\n",
       "      <td>0</td>\n",
       "      <td>0</td>\n",
       "      <td>0</td>\n",
       "      <td>0</td>\n",
       "      <td>0</td>\n",
       "      <td>0</td>\n",
       "      <td>0</td>\n",
       "      <td>0</td>\n",
       "      <td>0</td>\n",
       "      <td>0</td>\n",
       "      <td>0</td>\n",
       "      <td>2</td>\n",
       "    </tr>\n",
       "    <tr>\n",
       "      <th>4</th>\n",
       "      <td>1</td>\n",
       "      <td>0</td>\n",
       "      <td>0</td>\n",
       "      <td>1</td>\n",
       "      <td>0</td>\n",
       "      <td>0</td>\n",
       "      <td>0</td>\n",
       "      <td>0</td>\n",
       "      <td>0</td>\n",
       "      <td>0</td>\n",
       "      <td>0</td>\n",
       "      <td>0</td>\n",
       "      <td>0</td>\n",
       "      <td>0</td>\n",
       "      <td>2</td>\n",
       "    </tr>\n",
       "    <tr>\n",
       "      <th>...</th>\n",
       "      <td>...</td>\n",
       "      <td>...</td>\n",
       "      <td>...</td>\n",
       "      <td>...</td>\n",
       "      <td>...</td>\n",
       "      <td>...</td>\n",
       "      <td>...</td>\n",
       "      <td>...</td>\n",
       "      <td>...</td>\n",
       "      <td>...</td>\n",
       "      <td>...</td>\n",
       "      <td>...</td>\n",
       "      <td>...</td>\n",
       "      <td>...</td>\n",
       "      <td>...</td>\n",
       "    </tr>\n",
       "    <tr>\n",
       "      <th>286</th>\n",
       "      <td>1</td>\n",
       "      <td>1</td>\n",
       "      <td>1</td>\n",
       "      <td>1</td>\n",
       "      <td>0</td>\n",
       "      <td>0</td>\n",
       "      <td>0</td>\n",
       "      <td>0</td>\n",
       "      <td>0</td>\n",
       "      <td>0</td>\n",
       "      <td>0</td>\n",
       "      <td>0</td>\n",
       "      <td>0</td>\n",
       "      <td>0</td>\n",
       "      <td>7</td>\n",
       "    </tr>\n",
       "    <tr>\n",
       "      <th>287</th>\n",
       "      <td>1</td>\n",
       "      <td>1</td>\n",
       "      <td>0</td>\n",
       "      <td>0</td>\n",
       "      <td>0</td>\n",
       "      <td>0</td>\n",
       "      <td>0</td>\n",
       "      <td>0</td>\n",
       "      <td>0</td>\n",
       "      <td>0</td>\n",
       "      <td>1</td>\n",
       "      <td>0</td>\n",
       "      <td>0</td>\n",
       "      <td>0</td>\n",
       "      <td>2</td>\n",
       "    </tr>\n",
       "    <tr>\n",
       "      <th>288</th>\n",
       "      <td>1</td>\n",
       "      <td>0</td>\n",
       "      <td>0</td>\n",
       "      <td>0</td>\n",
       "      <td>1</td>\n",
       "      <td>0</td>\n",
       "      <td>0</td>\n",
       "      <td>0</td>\n",
       "      <td>0</td>\n",
       "      <td>0</td>\n",
       "      <td>0</td>\n",
       "      <td>0</td>\n",
       "      <td>1</td>\n",
       "      <td>0</td>\n",
       "      <td>4</td>\n",
       "    </tr>\n",
       "    <tr>\n",
       "      <th>289</th>\n",
       "      <td>1</td>\n",
       "      <td>1</td>\n",
       "      <td>0</td>\n",
       "      <td>0</td>\n",
       "      <td>0</td>\n",
       "      <td>1</td>\n",
       "      <td>0</td>\n",
       "      <td>1</td>\n",
       "      <td>0</td>\n",
       "      <td>0</td>\n",
       "      <td>0</td>\n",
       "      <td>0</td>\n",
       "      <td>0</td>\n",
       "      <td>0</td>\n",
       "      <td>2</td>\n",
       "    </tr>\n",
       "    <tr>\n",
       "      <th>290</th>\n",
       "      <td>0</td>\n",
       "      <td>0</td>\n",
       "      <td>0</td>\n",
       "      <td>0</td>\n",
       "      <td>0</td>\n",
       "      <td>0</td>\n",
       "      <td>0</td>\n",
       "      <td>0</td>\n",
       "      <td>0</td>\n",
       "      <td>0</td>\n",
       "      <td>0</td>\n",
       "      <td>0</td>\n",
       "      <td>1</td>\n",
       "      <td>0</td>\n",
       "      <td>2</td>\n",
       "    </tr>\n",
       "  </tbody>\n",
       "</table>\n",
       "<p>291 rows × 15 columns</p>\n",
       "</div>"
      ],
      "text/plain": [
       "    Hall-Bedroom door Hall-Toilet door Hall-Bathroom door ToiletFlush  \\\n",
       "0                   1                0                  0           0   \n",
       "1                   0                0                  0           0   \n",
       "2                   1                1                  0           0   \n",
       "3                   1                0                  1           0   \n",
       "4                   1                0                  0           1   \n",
       "..                ...              ...                ...         ...   \n",
       "286                 1                1                  1           1   \n",
       "287                 1                1                  0           0   \n",
       "288                 1                0                  0           0   \n",
       "289                 1                1                  0           0   \n",
       "290                 0                0                  0           0   \n",
       "\n",
       "    Plates cupboard Fridge Microwave Groceries Cupboard Dishwasher  \\\n",
       "0                 0      0         0                  0          0   \n",
       "1                 0      0         0                  0          0   \n",
       "2                 0      0         0                  0          0   \n",
       "3                 0      0         0                  0          0   \n",
       "4                 0      0         0                  0          0   \n",
       "..              ...    ...       ...                ...        ...   \n",
       "286               0      0         0                  0          0   \n",
       "287               0      0         0                  0          0   \n",
       "288               1      0         0                  0          0   \n",
       "289               0      1         0                  1          0   \n",
       "290               0      0         0                  0          0   \n",
       "\n",
       "    Pans Cupboard Cups cupboard Frontdoor Freezer Washingmachine  activities  \n",
       "0               0             0         0       0              0           2  \n",
       "1               0             0         0       0              0           2  \n",
       "2               0             0         0       0              0           2  \n",
       "3               0             0         0       0              0           2  \n",
       "4               0             0         0       0              0           2  \n",
       "..            ...           ...       ...     ...            ...         ...  \n",
       "286             0             0         0       0              0           7  \n",
       "287             0             1         0       0              0           2  \n",
       "288             0             0         0       1              0           4  \n",
       "289             0             0         0       0              0           2  \n",
       "290             0             0         0       1              0           2  \n",
       "\n",
       "[291 rows x 15 columns]"
      ]
     },
     "execution_count": 4,
     "metadata": {},
     "output_type": "execute_result"
    }
   ],
   "source": [
    "# label the activities and drop the duplicates\n",
    "raw['activities'] = lbls\n",
    "raw = raw.reset_index(drop=True)\n",
    "raw = raw.drop_duplicates()\n",
    "raw = raw.reset_index(drop=True)\n",
    "raw"
   ]
  },
  {
   "cell_type": "code",
   "execution_count": 5,
   "metadata": {},
   "outputs": [],
   "source": [
    "lbls = raw['activities']"
   ]
  },
  {
   "cell_type": "code",
   "execution_count": 6,
   "metadata": {
    "tags": []
   },
   "outputs": [
    {
     "data": {
      "image/png": "[encoded data removed]",
      "text/plain": [
       "<Figure size 648x216 with 1 Axes>"
      ]
     },
     "metadata": {
      "needs_background": "light"
     },
     "output_type": "display_data"
    }
   ],
   "source": [
    "from pyadlml.dataset.plot.raw import hist_activities\n",
    "\n",
    "hist_activities(enc_lbl.inverse_transform(lbls), scale='log')"
   ]
  },
  {
   "cell_type": "markdown",
   "metadata": {},
   "source": [
    "The dataset is imbalanced as the labels aren't distributed equally between the classes. \n",
    "https://imbalanced-learn.readthedocs.io/en/stable/generated/imblearn.under_sampling.NearMiss.html#imblearn.under_sampling.NearMiss\n"
   ]
  },
  {
   "cell_type": "code",
   "execution_count": 7,
   "metadata": {},
   "outputs": [],
   "source": [
    "from imblearn.under_sampling import RandomUnderSampler\n",
    "\n",
    "st = 'not minority' # resample all but minority\n",
    "#st = 'not majority' # resample all but majority\n",
    "X = raw.iloc[:,:-1].astype(int).values\n",
    "y = lbls.values\n",
    "\n",
    "undersample = RandomUnderSampler(sampling_strategy=st)\n",
    "X_u, y_u = undersample.fit_resample(X,y)"
   ]
  },
  {
   "cell_type": "code",
   "execution_count": 8,
   "metadata": {},
   "outputs": [
    {
     "name": "stdout",
     "output_type": "stream",
     "text": [
      "(80, 14)\n"
     ]
    },
    {
     "data": {
      "image/png": "[encoded data removed]",
      "text/plain": [
       "<Figure size 648x216 with 1 Axes>"
      ]
     },
     "metadata": {
      "needs_background": "light"
     },
     "output_type": "display_data"
    }
   ],
   "source": [
    "print(X_u.shape)\n",
    "hist_activities(enc_lbl.inverse_transform(y_u), scale='log')"
   ]
  },
  {
   "cell_type": "raw",
   "metadata": {},
   "source": [
    "from pyadlml.dataset.plot.raw import heatmap_contingency_01\n",
    "\n",
    "z_scale = 'log'\n",
    "rep = 'raw'\n",
    "df = pd.DataFrame(data=X_u, columns=raw.columns[:-1])\n",
    "df.index = df.index.set_names('time')\n",
    "lbls = enc_lbl.inverse_transform(y_u)\n",
    "\n",
    "heatmap_contingency_01(df, lbls, rep=rep, z_scale=z_scale);"
   ]
  },
  {
   "cell_type": "raw",
   "metadata": {
    "scrolled": false
   },
   "source": [
    "from pyadlml.dataset.plot.raw import heatmap_cross_correlation\n",
    "\n",
    "heatmap_cross_correlation(df);"
   ]
  },
  {
   "cell_type": "code",
   "execution_count": 9,
   "metadata": {},
   "outputs": [],
   "source": [
    "from pyadlml.preprocessing import RawEncoder\n",
    "from pyadlml.preprocessing import LabelEncoder\n",
    "\n",
    "#t_res = '10s'\n",
    "t_res = None\n",
    "idle = True\n",
    "st='int_coverage'\n",
    "\n",
    "enc_raw = RawEncoder(t_res=t_res, sample_strat=st)\n",
    "raw = enc_raw.fit_transform(data.df_devices)\n",
    "\n",
    "enc_lbl = LabelEncoder(raw, idle=idle)\n",
    "lbls = enc_lbl.fit_transform(data.df_activities)"
   ]
  },
  {
   "cell_type": "code",
   "execution_count": 10,
   "metadata": {
    "scrolled": false
   },
   "outputs": [],
   "source": [
    "from pyadlml.model_selection import LeaveOneDayOut\n",
    "\n",
    "lodo = LeaveOneDayOut(num_days=1)\n",
    "ts = lodo.split(X=raw, y=lbls)\n",
    "\n",
    "X = raw\n",
    "y = lbls\n",
    "\n",
    "for train_index, test_index in ts:\n",
    "    X_train, X_test = X.iloc[train_index].values, X.iloc[test_index].values\n",
    "    y_train = y.iloc[train_index].values.ravel()\n",
    "    y_test = y.iloc[test_index].values.ravel()"
   ]
  },
  {
   "cell_type": "markdown",
   "metadata": {},
   "source": [
    "# Model: Decision Tree"
   ]
  },
  {
   "cell_type": "raw",
   "metadata": {},
   "source": [
    "from sklearn.tree import DecisionTreeClassifier\n",
    "from sklearn.model_selection import RepeatedStratifiedKFold, GridSearchCV\n",
    "from imblearn.pipeline import Pipeline\n",
    "from sklearn.model_selection import cross_validate\n",
    "\n",
    "steps = []\n",
    "\n",
    "# 1. resample the data because of the labels\n",
    "undersample = RandomUnderSampler()\n",
    "steps.append(('under', undersample))\n",
    "\n",
    "# 2. Model: decision tree\n",
    "model = DecisionTreeClassifier()\n",
    "steps.append(('model', model))\n",
    "pipe = Pipeline(steps=steps)\n",
    "\n",
    "# evaluate pipeline\n",
    "n = 10\n",
    "scoring_fcts = ['f1_macro']#, 'accuracy', 'recall']\n",
    "param_grid = {\n",
    "    'under__sampling_strategy' : ['not majority'],\n",
    "    'model__max_depth' : [2,3,4],\n",
    "    'model__min_samples_leaf': [1,2,3]\n",
    "}\n",
    "\n",
    "scores = np.zeros(n, dtype=np.float32)\n",
    "best_param = (0.0, {})\n",
    "for i in range(n):\n",
    "    cv = RepeatedStratifiedKFold(n_splits=10, n_repeats=3)\n",
    "    gscv = GridSearchCV(pipe, param_grid, refit='f1_macro', \n",
    "                        scoring=scoring_fcts, cv=cv, n_jobs=-1)\n",
    "    gscv.fit(X_train, y_train)\n",
    "    scores[i] = gscv.best_score_\n",
    "    if scores[i] > best_param[0]:\n",
    "        best_param = ((scores[i], gscv.best_params_))"
   ]
  },
  {
   "cell_type": "raw",
   "metadata": {},
   "source": [
    "print('F1 mean Score: {:.4f}, std: {:.4f}'.format(scores.mean(), scores.std()))\n",
    "print('F1 best Score: {:.4f}'.format(best_param[0]))"
   ]
  },
  {
   "cell_type": "raw",
   "metadata": {},
   "source": [
    "best_pipe = Pipeline(steps=steps)\n",
    "best_pipe = best_pipe.set_params(**best_param[1])\n",
    "best_pipe = best_pipe.fit(X_train, y_train)\n",
    "best_model = best_pipe.get_params()['model']"
   ]
  },
  {
   "cell_type": "raw",
   "metadata": {},
   "source": [
    "from sklearn import tree\n",
    "import graphviz \n",
    "from IPython.display import display\n",
    "\n",
    "dot_data = tree.export_graphviz(best_model, out_file=None)\n",
    "graph = graphviz.Source(dot_data)\n",
    "display(graph)#, width = 600, height = 300)"
   ]
  },
  {
   "cell_type": "markdown",
   "metadata": {},
   "source": [
    "# SVMs"
   ]
  },
  {
   "cell_type": "raw",
   "metadata": {
    "scrolled": true
   },
   "source": [
    "from sklearn.svm import SVC\n",
    "\n",
    "steps = []\n",
    "\n",
    "# 1. resample the data because of the labels\n",
    "undersample = RandomUnderSampler()\n",
    "steps.append(('under', undersample))\n",
    "\n",
    "# 2. Model: Support Vector machine\n",
    "model = SVC()\n",
    "steps.append(('model', model))\n",
    "pipe = Pipeline(steps=steps)\n",
    "\n",
    "# evaluate pipeline\n",
    "n = 100\n",
    "scoring_fcts = ['f1_macro']#, 'accuracy', 'recall']\n",
    "param_grid = {\n",
    "    'under__sampling_strategy' : ['not majority'],\n",
    "    'model__C' : [0.001, 0.01, 0.1, 1.0, 10.0, 100],\n",
    "    'model__kernel': ['rbf', 'sigmoid'],\n",
    "    #'model_gamma': ['auto',2.]\n",
    "}\n",
    "\n",
    "scores = np.zeros(n, dtype=np.float32)\n",
    "best_param = (0.0, {})\n",
    "for i in range(n):\n",
    "    cv = RepeatedStratifiedKFold(n_splits=10, n_repeats=3)\n",
    "    gscv = GridSearchCV(pipe, param_grid, refit='f1_macro', \n",
    "                        scoring=scoring_fcts, cv=cv, n_jobs=-1)\n",
    "    gscv.fit(X_train, y_train)\n",
    "    scores[i] = gscv.best_score_\n",
    "    if scores[i] > best_param[0]:\n",
    "        best_param = ((scores[i], gscv.best_params_))"
   ]
  },
  {
   "cell_type": "raw",
   "metadata": {},
   "source": [
    "print('F1 mean Score: {:.4f}, std: {:.4f}'.format(scores.mean(), scores.std()))\n",
    "print('F1 best Score: {:.4f}'.format(best_param[0]))"
   ]
  },
  {
   "cell_type": "raw",
   "metadata": {},
   "source": [
    "best_pipe = Pipeline(steps=steps)\n",
    "best_pipe = best_pipe.set_params(**best_param[1])\n",
    "best_pipe = best_pipe.fit(X,y)\n",
    "best_model = best_pipe.get_params()['model']"
   ]
  },
  {
   "cell_type": "markdown",
   "metadata": {},
   "source": [
    "# Naive Bayes"
   ]
  },
  {
   "cell_type": "code",
   "execution_count": 11,
   "metadata": {},
   "outputs": [],
   "source": [
    "from sklearn.naive_bayes import BernoulliNB\n",
    "\n",
    "steps = []\n",
    "\n",
    "# 1. resample the data because of the labels\n",
    "undersample = RandomUnderSampler()\n",
    "steps.append(('under', undersample))\n",
    "\n",
    "# 2. Model: Bernoulli Naive Bayes\n",
    "model = BernoulliNB()\n",
    "steps.append(('model', model))\n",
    "pipe = Pipeline(steps=steps)\n",
    "\n",
    "# evaluate pipeline\n",
    "n = 10\n",
    "scoring_fcts = ['f1_macro']#, 'accuracy', 'recall']\n",
    "param_grid = {\n",
    "    'under__sampling_strategy' : ['not majority'],\n",
    "    'model__alpha' : [0.1, 1.0, 10.0], # smoothing parameter\n",
    "    # class priors (can be used from site)\n",
    "}\n",
    "\n",
    "scores = np.zeros(n, dtype=np.float32)\n",
    "best_param = (0.0, {})\n",
    "for i in range(n):\n",
    "    cv = RepeatedStratifiedKFold(n_splits=10, n_repeats=3)\n",
    "    gscv = GridSearchCV(pipe, param_grid, refit='f1_macro', \n",
    "                        scoring=scoring_fcts, cv=cv, n_jobs=-1)\n",
    "\n",
    "    gscv.fit(X_train, y_train)\n",
    "    scores[i] = gscv.best_score_\n",
    "    if scores[i] > best_param[0]:\n",
    "        best_param = ((scores[i], gscv.best_params_))"
   ]
  },
  {
   "cell_type": "code",
   "execution_count": 12,
   "metadata": {
    "scrolled": true
   },
   "outputs": [
    {
     "name": "stdout",
     "output_type": "stream",
     "text": [
      "F1 mean Score: 0.2806, std: 0.0045\n",
      "F1 best Score: 0.2878\n"
     ]
    }
   ],
   "source": [
    "print('F1 mean Score: {:.4f}, std: {:.4f}'.format(scores.mean(), scores.std()))\n",
    "print('F1 best Score: {:.4f}'.format(best_param[0]))"
   ]
  },
  {
   "cell_type": "code",
   "execution_count": 13,
   "metadata": {},
   "outputs": [],
   "source": [
    "best_pipe = Pipeline(steps=steps)\n",
    "best_pipe = best_pipe.set_params(**best_param[1])\n",
    "best_pipe = best_pipe.fit(X_train, y_train)\n",
    "best_model = best_pipe.get_params()['model']"
   ]
  },
  {
   "cell_type": "code",
   "execution_count": 14,
   "metadata": {},
   "outputs": [
    {
     "data": {
      "text/plain": [
       "BernoulliNB(alpha=0.1)"
      ]
     },
     "execution_count": 14,
     "metadata": {},
     "output_type": "execute_result"
    }
   ],
   "source": [
    "best_model"
   ]
  },
  {
   "cell_type": "code",
   "execution_count": 15,
   "metadata": {},
   "outputs": [
    {
     "data": {
      "text/plain": [
       "0.15841584158415842"
      ]
     },
     "execution_count": 15,
     "metadata": {},
     "output_type": "execute_result"
    }
   ],
   "source": [
    "from sklearn.dummy import DummyClassifier\n",
    "\n",
    "strat='stratified'\n",
    "strat='most_frequent'\n",
    "strat='uniform'\n",
    "\n",
    "dclf = DummyClassifier(strategy=strat).fit(X_train, y_train)\n",
    "\n",
    "dclf.score(X_test, y_test)"
   ]
  },
  {
   "cell_type": "code",
   "execution_count": 16,
   "metadata": {},
   "outputs": [
    {
     "data": {
      "text/plain": [
       "array([0.04168321, 0.0813815 , 0.23779277, 0.13537118, 0.08217547,\n",
       "       0.09964272, 0.046447  , 0.27550615])"
      ]
     },
     "execution_count": 16,
     "metadata": {},
     "output_type": "execute_result"
    }
   ],
   "source": [
    "dclf.class_prior_"
   ]
  },
  {
   "cell_type": "code",
   "execution_count": 17,
   "metadata": {},
   "outputs": [
    {
     "data": {
      "text/plain": [
       "array(['get drink', 'go to bed', 'idle', 'leave house',\n",
       "       'prepare Breakfast', 'prepare Dinner', 'take shower', 'use toilet'],\n",
       "      dtype=object)"
      ]
     },
     "execution_count": 17,
     "metadata": {},
     "output_type": "execute_result"
    }
   ],
   "source": [
    "enc_lbl.inverse_transform(dclf.classes_)"
   ]
  },
  {
   "cell_type": "markdown",
   "metadata": {},
   "source": [
    "### confusion matrix"
   ]
  },
  {
   "cell_type": "code",
   "execution_count": 18,
   "metadata": {},
   "outputs": [
    {
     "data": {
      "text/plain": [
       "array([[ 5,  0,  0,  0,  0,  0,  5],\n",
       "       [ 0,  0,  0,  0,  0,  0,  5],\n",
       "       [ 0,  0,  3,  0,  0,  0,  3],\n",
       "       [ 0,  0,  0,  2,  6,  0, 12],\n",
       "       [ 0,  0,  0,  0,  0,  0,  0],\n",
       "       [ 0,  0,  0,  0,  0,  0,  9],\n",
       "       [ 2,  0,  0,  0,  0,  0, 49]])"
      ]
     },
     "execution_count": 18,
     "metadata": {},
     "output_type": "execute_result"
    }
   ],
   "source": [
    "from sklearn.metrics import confusion_matrix\n",
    "\n",
    "y_true = y_test\n",
    "y_pred = best_model.predict(X_test)\n",
    "confusion_matrix(y_true, y_pred)"
   ]
  },
  {
   "cell_type": "code",
   "execution_count": 20,
   "metadata": {},
   "outputs": [],
   "source": [
    "from sklearn.metrics import plot_confusion_matrix\n",
    "#plot_confusion_matrix(best_model, X_test, y_test)"
   ]
  },
  {
   "cell_type": "code",
   "execution_count": 21,
   "metadata": {},
   "outputs": [
    {
     "data": {
      "text/plain": [
       "array([[ 5,  0,  0,  0,  0,  0,  5],\n",
       "       [ 0,  0,  0,  0,  0,  0,  5],\n",
       "       [ 0,  0,  3,  0,  0,  0,  3],\n",
       "       [ 0,  0,  0,  2,  6,  0, 12],\n",
       "       [ 0,  0,  0,  0,  0,  0,  0],\n",
       "       [ 0,  0,  0,  0,  0,  0,  9],\n",
       "       [ 2,  0,  0,  0,  0,  0, 49]])"
      ]
     },
     "execution_count": 21,
     "metadata": {},
     "output_type": "execute_result"
    }
   ],
   "source": [
    "from sklearn.metrics import classification_report\n",
    "\n",
    "y_true = y_test\n",
    "y_pred = best_model.predict(X_test)\n",
    "confusion_matrix(y_true, y_pred)"
   ]
  },
  {
   "cell_type": "code",
   "execution_count": 28,
   "metadata": {},
   "outputs": [],
   "source": [
    "from pyadlml.model_selection import LeaveOneDayOut\n",
    "\n",
    "lodo = LeaveOneDayOut(num_days=1)\n",
    "ts = lodo.split(X=raw, y=lbls)\n",
    "\n",
    "X = raw\n",
    "y = lbls\n",
    "\n",
    "for train_index, test_index in ts:\n",
    "    X_train, X_test = X.iloc[train_index], X.iloc[test_index]\n",
    "    y_train = y.iloc[train_index]\n",
    "    y_test = y.iloc[test_index]\n",
    "    \n",
    "from sklearn.dummy import DummyClassifier\n",
    "\n",
    "strat='stratified'\n",
    "\n",
    "dclf = DummyClassifier(strategy=strat).fit(X_train, y_train)\n",
    "y_pred = dclf.predict(X_test)\n",
    "y_true = enc_lbl.inverse_transform(y_test)"
   ]
  },
  {
   "cell_type": "code",
   "execution_count": null,
   "metadata": {},
   "outputs": [],
   "source": []
  },
  {
   "cell_type": "code",
   "execution_count": 29,
   "metadata": {},
   "outputs": [],
   "source": [
    "enc_lbl = LabelEncoder(raw, idle=idle)\n",
    "lbls = enc_lbl.fit_transform(data.df_activities)"
   ]
  },
  {
   "cell_type": "code",
   "execution_count": 30,
   "metadata": {
    "scrolled": false
   },
   "outputs": [
    {
     "data": {
      "image/png": "[encoded data removed]",
      "text/plain": [
       "<Figure size 1080x360 with 3 Axes>"
      ]
     },
     "metadata": {
      "needs_background": "light"
     },
     "output_type": "display_data"
    }
   ],
   "source": [
    "from pyadlml.metrics import plot_true_vs_inf_y\n",
    "plot_true_vs_inf_y(enc_lbl, y_true, y_pred, index=y_true.index)"
   ]
  },
  {
   "cell_type": "code",
   "execution_count": 34,
   "metadata": {},
   "outputs": [
    {
     "data": {
      "text/plain": [
       "time\n",
       "2008-03-20 00:34:38            go to bed\n",
       "2008-03-20 00:34:39            go to bed\n",
       "2008-03-20 00:34:42            go to bed\n",
       "2008-03-20 00:35:10           use toilet\n",
       "2008-03-20 00:35:13           use toilet\n",
       "2008-03-20 00:35:39           use toilet\n",
       "2008-03-20 00:35:40           use toilet\n",
       "2008-03-20 00:35:43           use toilet\n",
       "2008-03-20 00:35:44           use toilet\n",
       "2008-03-20 00:35:45           use toilet\n",
       "2008-03-20 00:35:59           use toilet\n",
       "2008-03-20 00:36:17            go to bed\n",
       "2008-03-20 06:57:51            go to bed\n",
       "2008-03-20 06:57:52            go to bed\n",
       "2008-03-20 06:57:55           use toilet\n",
       "2008-03-20 06:57:56           use toilet\n",
       "2008-03-20 06:57:57           use toilet\n",
       "2008-03-20 06:57:58           use toilet\n",
       "2008-03-20 06:58:15           use toilet\n",
       "2008-03-20 06:58:31           use toilet\n",
       "2008-03-20 06:58:32           use toilet\n",
       "2008-03-20 06:58:33           use toilet\n",
       "2008-03-20 06:58:37           use toilet\n",
       "2008-03-20 06:58:43            go to bed\n",
       "2008-03-20 08:31:02            go to bed\n",
       "2008-03-20 08:31:03            go to bed\n",
       "2008-03-20 08:31:07                 idle\n",
       "2008-03-20 08:45:46           use toilet\n",
       "2008-03-20 08:45:50           use toilet\n",
       "2008-03-20 08:46:55           use toilet\n",
       "2008-03-20 08:46:56           use toilet\n",
       "2008-03-20 08:46:58           use toilet\n",
       "2008-03-20 08:47:01           use toilet\n",
       "2008-03-20 09:12:04    prepare Breakfast\n",
       "2008-03-20 09:12:08    prepare Breakfast\n",
       "2008-03-20 09:12:11    prepare Breakfast\n",
       "2008-03-20 09:12:14    prepare Breakfast\n",
       "2008-03-20 09:12:15    prepare Breakfast\n",
       "2008-03-20 09:12:18    prepare Breakfast\n",
       "2008-03-20 09:12:26    prepare Breakfast\n",
       "2008-03-20 09:12:27    prepare Breakfast\n",
       "2008-03-20 09:12:30    prepare Breakfast\n",
       "2008-03-20 09:12:33    prepare Breakfast\n",
       "2008-03-20 09:12:40    prepare Breakfast\n",
       "2008-03-20 09:12:45    prepare Breakfast\n",
       "2008-03-20 09:13:44    prepare Breakfast\n",
       "2008-03-20 09:13:47    prepare Breakfast\n",
       "2008-03-20 09:14:18    prepare Breakfast\n",
       "2008-03-20 09:14:33    prepare Breakfast\n",
       "2008-03-20 09:14:35    prepare Breakfast\n",
       "dtype: object"
      ]
     },
     "execution_count": 34,
     "metadata": {},
     "output_type": "execute_result"
    }
   ],
   "source": [
    "y_true.head(50)"
   ]
  },
  {
   "cell_type": "code",
   "execution_count": 26,
   "metadata": {},
   "outputs": [
    {
     "data": {
      "text/plain": [
       "array([5, 3, 1, 7, 2, 5, 6, 2, 7, 3, 7, 0, 7, 6, 2, 5, 7, 3, 2, 0, 5, 5,\n",
       "       7, 2, 6, 0, 5, 4, 3, 4, 2, 4, 3, 7, 5, 7, 4, 7, 4, 3, 7, 7, 1, 7,\n",
       "       7, 7, 3, 2, 4, 7, 7, 4, 6])"
      ]
     },
     "execution_count": 26,
     "metadata": {},
     "output_type": "execute_result"
    }
   ],
   "source": [
    "y_pred"
   ]
  },
  {
   "cell_type": "code",
   "execution_count": null,
   "metadata": {},
   "outputs": [],
   "source": []
  }
 ],
 "metadata": {
  "kernelspec": {
   "display_name": "Python 3.8.3 64-bit ('venv_pyadml': venv)",
   "language": "python",
   "name": "python38364bitvenvpyadmlvenvcf785501ed1e426497391a11756f67e3"
  },
  "language_info": {
   "codemirror_mode": {
    "name": "ipython",
    "version": 3
   },
   "file_extension": ".py",
   "mimetype": "text/x-python",
   "name": "python",
   "nbconvert_exporter": "python",
   "pygments_lexer": "ipython3",
   "version": "3.8.5"
  }
 },
 "nbformat": 4,
 "nbformat_minor": 2
}
