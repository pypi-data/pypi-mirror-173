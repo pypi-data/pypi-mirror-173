{
 "cells": [
  {
   "cell_type": "markdown",
   "metadata": {},
   "source": [
    "# Hidden Markov Model"
   ]
  },
  {
   "cell_type": "code",
   "execution_count": 3,
   "metadata": {},
   "outputs": [
    {
     "name": "stderr",
     "output_type": "stream",
     "text": [
      "/home/chris/Desktop/code/adlml/pyadlml/notebooks/models/sequential/../../../pyadlml/dataset/_core/devices.py:424: VisibleDeprecationWarning: Creating an ndarray from ragged nested sequences (which is a list-or-tuple of lists-or-tuples-or ndarrays with different lengths or shapes) is deprecated. If you meant to do this, you must specify 'dtype=object' when creating the ndarray.\n",
      "  results = np.array(list(dask.compute(*lazy_results)))\n",
      "/home/chris/Desktop/code/adlml/pyadlml/notebooks/models/sequential/../../../pyadlml/dataset/_core/devices.py:464: VisibleDeprecationWarning: Creating an ndarray from ragged nested sequences (which is a list-or-tuple of lists-or-tuples-or ndarrays with different lengths or shapes) is deprecated. If you meant to do this, you must specify 'dtype=object' when creating the ndarray.\n",
      "  results = np.array(list(dask.compute(*dev_df_list)))\n"
     ]
    }
   ],
   "source": [
    "import sys\n",
    "sys.path.append(\"../../..\")\n",
    "import pandas as pd\n",
    "import numpy as np\n",
    "from pyadlml.dataset import set_data_home, fetch_uci_adl_binary\n",
    "set_data_home('/home/chris/code/adlml/data_home')\n",
    "\n",
    "\n",
    "\n",
    "subject = 'OrdonezB'\n",
    "data = fetch_uci_adl_binary(cache=False, subject=subject)"
   ]
  },
  {
   "cell_type": "markdown",
   "metadata": {},
   "source": [
    "## Pipeline"
   ]
  },
  {
   "cell_type": "code",
   "execution_count": 4,
   "metadata": {},
   "outputs": [
    {
     "name": "stdout",
     "output_type": "stream",
     "text": [
      "splitting data in train and test set...\n"
     ]
    }
   ],
   "source": [
    "from pyadlml.model_selection import train_test_split\n",
    "\n",
    "print('splitting data in train and test set...')\n",
    "X_train, X_test, y_train, y_test, dev_pre_vals = train_test_split(\n",
    "    data.df_devices,\n",
    "    data.df_activities,\n",
    "    #split='leave_one_day_out', \n",
    "    split=0.7,\n",
    "    return_pre_vals=True)\n"
   ]
  },
  {
   "cell_type": "code",
   "execution_count": null,
   "metadata": {},
   "outputs": [],
   "source": []
  },
  {
   "cell_type": "code",
   "execution_count": 3,
   "metadata": {},
   "outputs": [],
   "source": [
    "from pyadlml.preprocessing import StateVectorEncoder, LabelEncoder, DropTimeIndex, CVSubset, SequenceSlicer, DfCaster\n",
    "from pyadlml.pipeline import Pipeline, TrainOnlyWrapper, EvalOnlyWrapper, TrainOrEvalOnlyWrapper\n",
    "\n",
    "steps = [\n",
    "    ('encode_devices', StateVectorEncoder(encode='changepoint')),\n",
    "    ('fit_labels', TrainOrEvalOnlyWrapper(LabelEncoder(idle=True))),\n",
    "    ('drop_time', DropTimeIndex()),\n",
    "    ('df->np', DfCaster('df->np', 'df->np')),\n",
    "    ('passthrough', 'passthrough')\n",
    "]\n",
    "\n",
    "pipe = Pipeline(steps).train()"
   ]
  },
  {
   "cell_type": "code",
   "execution_count": 4,
   "metadata": {
    "scrolled": true
   },
   "outputs": [
    {
     "name": "stdout",
     "output_type": "stream",
     "text": [
      "Xenc_train:  <class 'numpy.ndarray'> (3266, 12) float32\n",
      "yenc_train:  <class 'numpy.ndarray'> (3266,) int64\n"
     ]
    }
   ],
   "source": [
    "Xenc_train, yenc_train = pipe.fit_transform(X_train, y_train)\n",
    "\n",
    "print('Xenc_train: ', type(Xenc_train), Xenc_train.shape, Xenc_train.dtype)\n",
    "print('yenc_train: ', type(yenc_train), yenc_train.shape, yenc_train.dtype)"
   ]
  },
  {
   "cell_type": "markdown",
   "metadata": {},
   "source": [
    "## Model"
   ]
  },
  {
   "cell_type": "code",
   "execution_count": 5,
   "metadata": {},
   "outputs": [],
   "source": [
    "from pomegranate import *"
   ]
  },
  {
   "cell_type": "code",
   "execution_count": 31,
   "metadata": {},
   "outputs": [],
   "source": [
    "class HMM():\n",
    "    def __init__(self):\n",
    "        pass\n",
    "    \n",
    "    \n",
    "    def fit(self, X, y):             \n",
    "        nr_states = len(np.unique(y))\n",
    "        nr_obs = X.shape[1]\n",
    "        \n",
    "        # create state transitions        \n",
    "        trans_mat = np.ones((nr_states, nr_states))/nr_states**2\n",
    "        pi = numpy.ones((nr_states,))/nr_states\n",
    "        \n",
    "        # create multivariate bernoulli distributions for each state\n",
    "        dists = []\n",
    "        for i in range(nr_states):\n",
    "            b = BernoulliDistribution(0.5)\n",
    "            b_dists = [BernoulliDistribution(0.5).copy() for i in range(nr_obs)]\n",
    "            dists.append(IndependentComponentsDistribution(b_dists))\n",
    "        \n",
    "        # fit model\n",
    "        self.hmm_ = HiddenMarkovModel.from_matrix(trans_mat,\n",
    "            dists, starts=pi, state_names=np.unique(y).astype(str).tolist())        \n",
    "        self.hmm_.fit(X, labels=y)\n",
    "        \n",
    "    def _ycaster(func):\n",
    "        def inner(*args, **kwargs):\n",
    "            return func(*args, **kwargs)\n",
    "        return inner\n",
    "    \n",
    "    def fit_transform(self, X, y):\n",
    "        y = y.astype(str)\n",
    "        self.fit(X,y)\n",
    "        return self.transform(X, y)\n",
    "    \n",
    "    def transform(self, X, y):\n",
    "        self.hmm_.predict(X, algorithm='map')\n",
    "    \n",
    "    def predict(self, X):\n",
    "        self.hmm_.predict(X, algorithm='map')\n",
    "    \n",
    "    def predict_proba(self, X):\n",
    "        self.hmm_.predict_proba(X)"
   ]
  },
  {
   "cell_type": "code",
   "execution_count": 32,
   "metadata": {},
   "outputs": [
    {
     "data": {
      "text/plain": [
       "((3266, 12), array([ 8,  8,  8,  8, 10, 10,  8,  8,  8,  8]))"
      ]
     },
     "execution_count": 32,
     "metadata": {},
     "output_type": "execute_result"
    }
   ],
   "source": [
    "Xenc_train.shape, yenc_train[:10]"
   ]
  },
  {
   "cell_type": "code",
   "execution_count": null,
   "metadata": {
    "scrolled": true
   },
   "outputs": [],
   "source": [
    "hmm = HMM()\n",
    "hmm.fit(Xenc_train, yenc_train)"
   ]
  },
  {
   "cell_type": "code",
   "execution_count": null,
   "metadata": {},
   "outputs": [],
   "source": [
    "hmm.hmm_?"
   ]
  },
  {
   "cell_type": "code",
   "execution_count": null,
   "metadata": {},
   "outputs": [],
   "source": [
    "hmm.hmm_?"
   ]
  },
  {
   "cell_type": "code",
   "execution_count": null,
   "metadata": {
    "scrolled": true
   },
   "outputs": [],
   "source": [
    "seq = list('CGACTACTGACTACTCGCCGACGCGACTGCCGTCTATACTGCGCATACGGC')\n",
    "\n",
    "d1 = DiscreteDistribution({'A': 0.25, 'C': 0.25, 'G': 0.25, 'T': 0.25})\n",
    "d2 = DiscreteDistribution({'A': 0.10, 'C': 0.40, 'G': 0.40, 'T': 0.10})\n",
    "plt.figure( figsize=(5,3))\n",
    "d1.plot( n=100, edgecolor='b', facecolor='y', bins=7, alpha=0.3, label=\"Normal\" )\n",
    "d2.plot( n=100, edgecolor='b', facecolor='r', bins=10, alpha=0.3, label=\"second\" )\n",
    "plt.legend()\n",
    "\n",
    "# General Mixture Model Setup\n",
    "gmm = GeneralMixtureModel( [d1, d2] )\n",
    "\n",
    "# Hidden Markov Model Setup\n",
    "s1 = State(d1, name='background')\n",
    "s2 = State(d2, name='CG Island')\n",
    "\n",
    "hmm = HiddenMarkovModel('Activity')\n",
    "hmm.add_states(s1, s2)\n",
    "hmm.add_transition( hmm.start, s1, 0.5 )\n",
    "hmm.add_transition( hmm.start, s2, 0.5 )\n",
    "hmm.add_transition( s1, s1, 0.89 )\n",
    "hmm.add_transition( s1, s2, 0.10 )\n",
    "hmm.add_transition( s1, hmm.end, 0.01 )\n",
    "hmm.add_transition( s2, s1, 0.1 )\n",
    "hmm.add_transition( s2, s2, 0.9 )\n",
    "hmm.bake()\n",
    "\n",
    "plt.figure( figsize=(10,6) )\n",
    "hmm.plot()\n"
   ]
  },
  {
   "cell_type": "code",
   "execution_count": null,
   "metadata": {},
   "outputs": [],
   "source": [
    "gmm_predictions = gmm.predict( np.array(seq) )\n",
    "hmm_predictions = hmm.predict( seq )\n",
    "\n",
    "\n",
    "print(\"sequence: {}\".format( ''.join( seq ) ) )\n",
    "print(\"gmm pred: {}\".format( ''.join( map( str, gmm_predictions ) ) ) )\n",
    "print(\"hmm pred: {}\".format( ''.join( map( str, hmm_predictions ) ) ) )\n",
    "print(\"\")\n",
    "print(\"hmm state 0: {}\".format( hmm.states[0].name ))\n",
    "print(\"hmm state 1: {}\".format( hmm.states[1].name ))"
   ]
  },
  {
   "cell_type": "code",
   "execution_count": null,
   "metadata": {},
   "outputs": [],
   "source": [
    "trans, ems = hmm.forward_backward( seq )"
   ]
  },
  {
   "cell_type": "code",
   "execution_count": null,
   "metadata": {},
   "outputs": [],
   "source": [
    "import pandas as pd\n",
    "def np_arr_to_df(np_data,labels):\n",
    "    return pd.DataFrame(np_data,index=labels, columns=labels)\n",
    "    "
   ]
  },
  {
   "cell_type": "code",
   "execution_count": null,
   "metadata": {},
   "outputs": [],
   "source": [
    "df_trans = np_arr_to_df(trans, ['background', 'CG-Island', 'aasd','asdf'])\n",
    "print(df_trans)"
   ]
  },
  {
   "cell_type": "code",
   "execution_count": null,
   "metadata": {},
   "outputs": [],
   "source": []
  },
  {
   "cell_type": "code",
   "execution_count": null,
   "metadata": {},
   "outputs": [],
   "source": []
  }
 ],
 "metadata": {
  "kernelspec": {
   "display_name": "Python 3",
   "language": "python",
   "name": "python3"
  },
  "language_info": {
   "codemirror_mode": {
    "name": "ipython",
    "version": 3
   },
   "file_extension": ".py",
   "mimetype": "text/x-python",
   "name": "python",
   "nbconvert_exporter": "python",
   "pygments_lexer": "ipython3",
   "version": "3.9.5"
  }
 },
 "nbformat": 4,
 "nbformat_minor": 2
}
