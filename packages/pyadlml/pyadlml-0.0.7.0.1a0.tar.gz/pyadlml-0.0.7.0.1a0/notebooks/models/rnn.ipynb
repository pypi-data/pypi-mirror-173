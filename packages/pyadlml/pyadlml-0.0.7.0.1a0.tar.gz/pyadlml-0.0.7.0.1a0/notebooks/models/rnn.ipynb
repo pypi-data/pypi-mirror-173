{
 "cells": [
  {
   "cell_type": "markdown",
   "metadata": {},
   "source": [
    "# Recurrent Neural Networks\n",
    "\n"
   ]
  },
  {
   "cell_type": "code",
   "execution_count": 1,
   "metadata": {
    "scrolled": true
   },
   "outputs": [
    {
     "name": "stderr",
     "output_type": "stream",
     "text": [
      "/home/chris/Desktop/code/adlml/pyadlml/notebooks/models/sequential/../../../pyadlml/dataset/_core/devices.py:424: VisibleDeprecationWarning: Creating an ndarray from ragged nested sequences (which is a list-or-tuple of lists-or-tuples-or ndarrays with different lengths or shapes) is deprecated. If you meant to do this, you must specify 'dtype=object' when creating the ndarray.\n",
      "  results = np.array(list(dask.compute(*lazy_results)))\n",
      "/home/chris/Desktop/code/adlml/pyadlml/notebooks/models/sequential/../../../pyadlml/dataset/_core/devices.py:464: VisibleDeprecationWarning: Creating an ndarray from ragged nested sequences (which is a list-or-tuple of lists-or-tuples-or ndarrays with different lengths or shapes) is deprecated. If you meant to do this, you must specify 'dtype=object' when creating the ndarray.\n",
      "  results = np.array(list(dask.compute(*dev_df_list)))\n"
     ]
    }
   ],
   "source": [
    "import sys\n",
    "sys.path.append(\"../../..\")\n",
    "import pandas as pd\n",
    "import numpy as np\n",
    "from pyadlml.dataset import set_data_home, fetch_uci_adl_binary\n",
    "set_data_home('/home/chris/code/adlml/data_home')\n",
    "\n",
    "\n",
    "\n",
    "subject = 'OrdonezB'\n",
    "data = fetch_uci_adl_binary(cache=False, subject=subject)"
   ]
  },
  {
   "cell_type": "code",
   "execution_count": 2,
   "metadata": {},
   "outputs": [
    {
     "name": "stdout",
     "output_type": "stream",
     "text": [
      "splitting data in train and test set...\n"
     ]
    }
   ],
   "source": [
    "from pyadlml.model_selection import train_test_split\n",
    "\n",
    "print('splitting data in train and test set...')\n",
    "X_train, X_test, y_train, y_test, dev_pre_vals = train_test_split(\n",
    "    data.df_devices,\n",
    "    data.df_activities,\n",
    "    #split='leave_one_day_out', \n",
    "    split=0.7,\n",
    "    return_pre_vals=True)\n"
   ]
  },
  {
   "cell_type": "code",
   "execution_count": 33,
   "metadata": {
    "scrolled": true
   },
   "outputs": [
    {
     "data": {
      "text/html": [
       "<div>\n",
       "<style scoped>\n",
       "    .dataframe tbody tr th:only-of-type {\n",
       "        vertical-align: middle;\n",
       "    }\n",
       "\n",
       "    .dataframe tbody tr th {\n",
       "        vertical-align: top;\n",
       "    }\n",
       "\n",
       "    .dataframe thead th {\n",
       "        text-align: right;\n",
       "    }\n",
       "</style>\n",
       "<table border=\"1\" class=\"dataframe\">\n",
       "  <thead>\n",
       "    <tr style=\"text-align: right;\">\n",
       "      <th></th>\n",
       "      <th>time</th>\n",
       "      <th>device</th>\n",
       "      <th>value</th>\n",
       "    </tr>\n",
       "  </thead>\n",
       "  <tbody>\n",
       "    <tr>\n",
       "      <th>0</th>\n",
       "      <td>2012-11-11 21:14:21</td>\n",
       "      <td>Living Seat Pressure</td>\n",
       "      <td>True</td>\n",
       "    </tr>\n",
       "    <tr>\n",
       "      <th>1</th>\n",
       "      <td>2012-11-12 00:21:49</td>\n",
       "      <td>Living Seat Pressure</td>\n",
       "      <td>False</td>\n",
       "    </tr>\n",
       "    <tr>\n",
       "      <th>2</th>\n",
       "      <td>2012-11-12 00:22:57</td>\n",
       "      <td>Living Door PIR</td>\n",
       "      <td>True</td>\n",
       "    </tr>\n",
       "    <tr>\n",
       "      <th>3</th>\n",
       "      <td>2012-11-12 00:22:59</td>\n",
       "      <td>Living Door PIR</td>\n",
       "      <td>False</td>\n",
       "    </tr>\n",
       "    <tr>\n",
       "      <th>4</th>\n",
       "      <td>2012-11-12 00:23:14</td>\n",
       "      <td>Kitchen Door PIR</td>\n",
       "      <td>True</td>\n",
       "    </tr>\n",
       "  </tbody>\n",
       "</table>\n",
       "</div>"
      ],
      "text/plain": [
       "                 time                device  value\n",
       "0 2012-11-11 21:14:21  Living Seat Pressure   True\n",
       "1 2012-11-12 00:21:49  Living Seat Pressure  False\n",
       "2 2012-11-12 00:22:57       Living Door PIR   True\n",
       "3 2012-11-12 00:22:59       Living Door PIR  False\n",
       "4 2012-11-12 00:23:14      Kitchen Door PIR   True"
      ]
     },
     "execution_count": 33,
     "metadata": {},
     "output_type": "execute_result"
    }
   ],
   "source": [
    "X_train.head(5)"
   ]
  },
  {
   "cell_type": "code",
   "execution_count": null,
   "metadata": {},
   "outputs": [],
   "source": []
  },
  {
   "cell_type": "code",
   "execution_count": 4,
   "metadata": {
    "scrolled": true
   },
   "outputs": [
    {
     "data": {
      "text/html": [
       "<div>\n",
       "<style scoped>\n",
       "    .dataframe tbody tr th:only-of-type {\n",
       "        vertical-align: middle;\n",
       "    }\n",
       "\n",
       "    .dataframe tbody tr th {\n",
       "        vertical-align: top;\n",
       "    }\n",
       "\n",
       "    .dataframe thead th {\n",
       "        text-align: right;\n",
       "    }\n",
       "</style>\n",
       "<table border=\"1\" class=\"dataframe\">\n",
       "  <thead>\n",
       "    <tr style=\"text-align: right;\">\n",
       "      <th></th>\n",
       "      <th>start_time</th>\n",
       "      <th>end_time</th>\n",
       "      <th>activity</th>\n",
       "    </tr>\n",
       "  </thead>\n",
       "  <tbody>\n",
       "    <tr>\n",
       "      <th>0</th>\n",
       "      <td>2012-11-11 21:14:00</td>\n",
       "      <td>2012-11-12 00:22:59</td>\n",
       "      <td>Spare_Time/TV</td>\n",
       "    </tr>\n",
       "    <tr>\n",
       "      <th>1</th>\n",
       "      <td>2012-11-12 00:24:00</td>\n",
       "      <td>2012-11-12 00:43:59</td>\n",
       "      <td>Spare_Time/TV</td>\n",
       "    </tr>\n",
       "    <tr>\n",
       "      <th>2</th>\n",
       "      <td>2012-11-12 00:48:00</td>\n",
       "      <td>2012-11-12 00:49:59</td>\n",
       "      <td>Grooming</td>\n",
       "    </tr>\n",
       "    <tr>\n",
       "      <th>3</th>\n",
       "      <td>2012-11-12 00:50:00</td>\n",
       "      <td>2012-11-12 01:51:59</td>\n",
       "      <td>Spare_Time/TV</td>\n",
       "    </tr>\n",
       "    <tr>\n",
       "      <th>4</th>\n",
       "      <td>2012-11-12 01:52:00</td>\n",
       "      <td>2012-11-12 01:52:59</td>\n",
       "      <td>Grooming</td>\n",
       "    </tr>\n",
       "  </tbody>\n",
       "</table>\n",
       "</div>"
      ],
      "text/plain": [
       "           start_time            end_time       activity\n",
       "0 2012-11-11 21:14:00 2012-11-12 00:22:59  Spare_Time/TV\n",
       "1 2012-11-12 00:24:00 2012-11-12 00:43:59  Spare_Time/TV\n",
       "2 2012-11-12 00:48:00 2012-11-12 00:49:59       Grooming\n",
       "3 2012-11-12 00:50:00 2012-11-12 01:51:59  Spare_Time/TV\n",
       "4 2012-11-12 01:52:00 2012-11-12 01:52:59       Grooming"
      ]
     },
     "execution_count": 4,
     "metadata": {},
     "output_type": "execute_result"
    }
   ],
   "source": [
    "y_train.head(5)"
   ]
  },
  {
   "cell_type": "code",
   "execution_count": 5,
   "metadata": {
    "scrolled": true
   },
   "outputs": [
    {
     "data": {
      "text/plain": [
       "{'Bathroom Basin PIR': False,\n",
       " 'Bathroom Shower PIR': False,\n",
       " 'Bathroom Toilet Flush': False,\n",
       " 'Bedroom Bed Pressure': False,\n",
       " 'Bedroom Door PIR': False,\n",
       " 'Entrance Maindoor Magnetic': False,\n",
       " 'Kitchen Cupboard Magnetic': False,\n",
       " 'Kitchen Door PIR': False,\n",
       " 'Kitchen Fridge Magnetic': False,\n",
       " 'Kitchen Microwave Electric': False,\n",
       " 'Living Door PIR': False,\n",
       " 'Living Seat Pressure': False}"
      ]
     },
     "execution_count": 5,
     "metadata": {},
     "output_type": "execute_result"
    }
   ],
   "source": [
    "dev_pre_vals"
   ]
  },
  {
   "cell_type": "markdown",
   "metadata": {},
   "source": [
    "## Define Pipeline"
   ]
  },
  {
   "cell_type": "code",
   "execution_count": 6,
   "metadata": {},
   "outputs": [],
   "source": [
    "seq_type = 'many-to-many'\n",
    "#seq_type = 'many-to-one'"
   ]
  },
  {
   "cell_type": "code",
   "execution_count": 7,
   "metadata": {},
   "outputs": [],
   "source": [
    "from sklearn.base import TransformerMixin\n",
    "class AddBatchDim(TransformerMixin):\n",
    "    def fit(self, X, y):\n",
    "        return self\n",
    "\n",
    "    def fit_transform(self, X, y=None, **fit_params):\n",
    "        return self.transform(X, y=y)\n",
    "\n",
    "    def transform(self, X, y=None, **transform_params):\n",
    "        import numpy as np\n",
    "        return X[np.newaxis, ...]"
   ]
  },
  {
   "cell_type": "code",
   "execution_count": 8,
   "metadata": {
    "scrolled": true
   },
   "outputs": [],
   "source": [
    "from pyadlml.preprocessing import StateVectorEncoder, LabelEncoder, DropTimeIndex, CVSubset, SequenceSlicer, DfCaster\n",
    "from pyadlml.pipeline import Pipeline, TrainOnlyWrapper, EvalOnlyWrapper, TrainOrEvalOnlyWrapper\n",
    "\n",
    "steps = [\n",
    "    ('encode_devices', StateVectorEncoder(encode='changepoint')),\n",
    "    ('fit_labels', TrainOrEvalOnlyWrapper(LabelEncoder(idle=True))),\n",
    "    ('drop_time', DropTimeIndex()),\n",
    "    ('df->np', DfCaster('df->np', 'df->np')),\n",
    "    ('batch', TrainOrEvalOnlyWrapper(SequenceSlicer(rep=seq_type, window_size=300, stride=3))),\n",
    "    #('add', EvalOnlyWrapper(AddBatchDim())),\n",
    "    ('passthrough', 'passthrough')\n",
    "]\n",
    "\n",
    "pipe = Pipeline(steps).train()"
   ]
  },
  {
   "cell_type": "code",
   "execution_count": 9,
   "metadata": {
    "scrolled": false
   },
   "outputs": [
    {
     "name": "stdout",
     "output_type": "stream",
     "text": [
      "Xenc_train:  <class 'numpy.ndarray'> (989, 300, 12) float32\n",
      "yenc_train:  <class 'numpy.ndarray'> (989, 300) int64\n"
     ]
    }
   ],
   "source": [
    "Xenc_train, yenc_train = pipe.fit_transform(X_train, y_train)\n",
    "\n",
    "print('Xenc_train: ', type(Xenc_train), Xenc_train.shape, Xenc_train.dtype)\n",
    "print('yenc_train: ', type(yenc_train), yenc_train.shape, yenc_train.dtype)"
   ]
  },
  {
   "cell_type": "markdown",
   "metadata": {},
   "source": [
    "## Pytorch Implementation"
   ]
  },
  {
   "cell_type": "code",
   "execution_count": 13,
   "metadata": {},
   "outputs": [],
   "source": [
    "import skorch\n",
    "import torch\n",
    "from skorch import NeuralNetClassifier\n",
    "from pyadlml.dataset import TIME\n",
    "import torch.nn as nn\n",
    "import torch.nn.functional as F\n",
    "\n",
    "use_cuda=False"
   ]
  },
  {
   "cell_type": "code",
   "execution_count": 14,
   "metadata": {},
   "outputs": [],
   "source": [
    "class RNN(nn.Module):\n",
    "    \"\"\"\n",
    "    \n",
    "    Example for many-to-many and many-to-one relation\n",
    "    # many-to-one           \n",
    "        y torch.Size([1471])         -> torch.Size([1471])\n",
    "        X torch.Size([1471, 20, 12]) -> torch.Size([1475, 11])\n",
    "\n",
    "     # many-to-many\n",
    "        y torch.Size([1471, 20]     -> torch.Size([29420])\n",
    "        X torch.Size([1471, 20, 12] -> torch.Size([29420, 11])\n",
    "    \"\"\"\n",
    "    def __init__(self, input_size, n_classes, rec_layer_type='lstm', \n",
    "                 hidden_size=300, hidden_layers=1, seq='many-to-one'):\n",
    "        super().__init__()\n",
    "        # set parameters for \n",
    "        self.input_size=input_size\n",
    "        self.n_classes = n_classes\n",
    "        self.hidden_size=hidden_size\n",
    "        self.hidden_layers=hidden_layers\n",
    "        self.rec_layer_type = rec_layer_type.lower()\n",
    "        self.seq_type = seq\n",
    "        \n",
    "        self.reset_weights()\n",
    "    \n",
    "    def reset_weights(self):\n",
    "        # initialize the weights\n",
    "        rec_layer = {'lstm': nn.LSTM, 'gru': nn.GRU}[self.rec_layer_type]\n",
    "        #input and ouput are providedd as (batch, seq, feature)\n",
    "        self.rnn_ = rec_layer(self.input_size, \n",
    "                            hidden_size=self.hidden_size,\n",
    "                            batch_first=True)\n",
    "        self.out_ = nn.Linear(self.hidden_size, self.n_classes)\n",
    "    \n",
    "    def forward(self, x):\n",
    "        seq_length = x.shape[1]\n",
    "        \n",
    "        # Initialize hidden state with zeros\n",
    "        #h0 = torch.zeros(self.hidden_layers, x.size(0), self.hidden_size).requires_grad_()\n",
    "\n",
    "        # Initialize cell state\n",
    "        #c0 = torch.zeros(self.hidden_layers, x.size(0), self.hidden_size).requires_grad_()\n",
    "        \n",
    "        # forward pass through recurrent net\n",
    "        if self.rec_layer_type == 'gru':\n",
    "            out, _ = self.rnn_(x)\n",
    "        elif self.rec_layer_type == 'lstm':\n",
    "            # output (batch_size , seq length, hidden_size)\n",
    "            # hn (n_layers, batch_size, hidden_size)\n",
    "            # cn (n_layers, batch_size, hidden_size)\n",
    "            #out, _ = self.rnn_(x, (h0, c0))        \n",
    "            out, _ = self.rnn_(x)        \n",
    "            \n",
    "        # get either the whole latent state sequence or only the last\n",
    "        if self.seq_type == 'many-to-one':\n",
    "            # take output of last stacked RNN layer\n",
    "            # Note: equiv to latent_rep = h_n[-1]  \n",
    "            latent_rep = out[:,seq_length-1,:]\n",
    "        else:\n",
    "            latent_rep = out\n",
    "            # todo flatten the array \n",
    "        out = F.softmax(self.out_(latent_rep), dim=-1)        \n",
    "\n",
    "        return out"
   ]
  },
  {
   "cell_type": "code",
   "execution_count": 15,
   "metadata": {
    "scrolled": false
   },
   "outputs": [
    {
     "name": "stdout",
     "output_type": "stream",
     "text": [
      "Epoch: 0, loss: 2.39198\n",
      "Epoch: 10, loss: 2.39067\n",
      "Epoch: 20, loss: 2.37720\n",
      "Epoch: 30, loss: 2.31101\n",
      "Epoch: 40, loss: 2.24335\n",
      "Epoch: 50, loss: 2.23110\n",
      "Epoch: 60, loss: 2.23040\n",
      "Epoch: 70, loss: 2.22724\n",
      "Epoch: 80, loss: 2.22767\n",
      "Epoch: 90, loss: 2.22785\n"
     ]
    }
   ],
   "source": [
    "num_epochs = 100\n",
    "learning_rate = 0.001 # 0.001 lr\n",
    "\n",
    "input_size = 12    # number of features\n",
    "num_classes = 11   # number of output classes \n",
    "\n",
    "hidden_size = 50   # number of features in hidden state\n",
    "num_layers = 1     # number of stacked lstm layers\n",
    "\n",
    "\n",
    "# define RNN, criterion as well as optimizer\n",
    "rnn = RNN(input_size=input_size, n_classes=num_classes,\n",
    "                  rec_layer_type='lstm', hidden_size=hidden_size, \n",
    "                  hidden_layers=1, seq=seq_type)\n",
    "criterion = torch.nn.CrossEntropyLoss()\n",
    "optimizer = torch.optim.Adam(rnn.parameters(), lr=learning_rate) \n",
    "\n",
    "# Training\n",
    "for epoch in range(num_epochs):\n",
    "    outputs = rnn.forward(torch.Tensor(Xenc_train)) # forward pass\n",
    "    optimizer.zero_grad() # calculate the gradient, manually setting to 0\n",
    "\n",
    "    if seq_type == 'many-to-many':\n",
    "        # flatten both tensors in order for the criterion to be applied\n",
    "        outputs = torch.flatten(outputs, start_dim=0, end_dim=1)\n",
    "        ys = torch.flatten(torch.LongTensor(yenc_train), start_dim=0, end_dim=1)\n",
    "    else:\n",
    "        ys = torch.LongTensor(yenc_train)\n",
    "    # outputs (N, C), ys  (N)\n",
    "    loss = criterion(outputs, ys) \n",
    "    \n",
    "    # backpropagation\n",
    "    loss.backward() \n",
    "    optimizer.step()\n",
    "        \n",
    "    if epoch % 10 == 0:\n",
    "        print(\"Epoch: %d, loss: %1.5f\" % (epoch, loss.item()))"
   ]
  },
  {
   "cell_type": "code",
   "execution_count": 16,
   "metadata": {
    "scrolled": true
   },
   "outputs": [
    {
     "name": "stdout",
     "output_type": "stream",
     "text": [
      "Xenc_test:  <class 'numpy.ndarray'> (367, 300, 12) float32\n",
      "yenc_test:  <class 'numpy.ndarray'> (367, 300) int64\n"
     ]
    }
   ],
   "source": [
    "pipe.eval()\n",
    "transform_params = {'encode_devices__dev_pre_values': dev_pre_vals}\n",
    "\n",
    "Xenc_test, yenc_test = pipe.transform(X_test, y_test, **transform_params)\n",
    "\n",
    "print('Xenc_test: ', type(Xenc_test), Xenc_test.shape, Xenc_test.dtype)\n",
    "print('yenc_test: ', type(yenc_test), yenc_test.shape, yenc_test.dtype)"
   ]
  },
  {
   "cell_type": "code",
   "execution_count": 17,
   "metadata": {
    "scrolled": false
   },
   "outputs": [],
   "source": [
    "with torch.no_grad():\n",
    "    # predict with lstm\n",
    "    outputs = rnn.forward(torch.Tensor(Xenc_test)) #forward pass \n",
    "    if seq_type == 'many-to-one':    \n",
    "        y_pred = np.argmax(outputs.numpy(), axis=1)        \n",
    "        y_true = torch.LongTensor(yenc_test).to_numpy()\n",
    "    else:\n",
    "        outputs = torch.flatten(outputs, start_dim=0, end_dim=1)\n",
    "        y_pred = np.argmax(outputs.numpy(), axis=1)        \n",
    "        y_true = torch.flatten(torch.LongTensor(yenc_test), start_dim=0, end_dim=1).numpy()"
   ]
  },
  {
   "cell_type": "code",
   "execution_count": 18,
   "metadata": {},
   "outputs": [
    {
     "name": "stdout",
     "output_type": "stream",
     "text": [
      "# classes:  11\n",
      "y_true:  <class 'numpy.ndarray'> (110100,) int64\n",
      "y_pred:  <class 'numpy.ndarray'> (110100,) int64\n"
     ]
    }
   ],
   "source": [
    "print('# classes: ', len(pipe['fit_labels'].wr.classes_))\n",
    "print('y_true: ', type(y_true), y_true.shape, y_true.dtype)\n",
    "print('y_pred: ', type(y_pred), y_pred.shape, y_pred.dtype)"
   ]
  },
  {
   "cell_type": "code",
   "execution_count": 19,
   "metadata": {},
   "outputs": [
    {
     "data": {
      "image/png": "[encoded data removed]",
      "text/plain": [
       "<Figure size 432x288 with 2 Axes>"
      ]
     },
     "metadata": {
      "needs_background": "light"
     },
     "output_type": "display_data"
    }
   ],
   "source": [
    "from sklearn.metrics import confusion_matrix, ConfusionMatrixDisplay\n",
    "cm = confusion_matrix(y_true, y_pred);\n",
    "\n",
    "ConfusionMatrixDisplay(confusion_matrix=cm, \n",
    "                       display_labels=pipe['fit_labels'].wr.classes_                       \n",
    "                       )\\\n",
    ".plot(xticks_rotation='vertical');"
   ]
  },
  {
   "cell_type": "code",
   "execution_count": 20,
   "metadata": {
    "scrolled": false
   },
   "outputs": [
    {
     "name": "stdout",
     "output_type": "stream",
     "text": [
      "               precision    recall  f1-score   support\n",
      "\n",
      "    Breakfast       0.00      0.00      0.00      6954\n",
      "       Dinner       0.00      0.00      0.00      3800\n",
      "     Grooming       0.00      0.00      0.00      9136\n",
      "      Leaving       0.00      0.00      0.00      2518\n",
      "        Lunch       0.00      0.00      0.00      3307\n",
      "    Showering       0.00      0.00      0.00       419\n",
      "     Sleeping       0.00      0.00      0.00      3423\n",
      "        Snack       0.00      0.00      0.00      6052\n",
      "Spare_Time/TV       0.00      0.00      0.00     13848\n",
      "    Toileting       0.00      0.00      0.00      8340\n",
      "         idle       0.48      1.00      0.64     52303\n",
      "\n",
      "     accuracy                           0.48    110100\n",
      "    macro avg       0.04      0.09      0.06    110100\n",
      " weighted avg       0.23      0.48      0.31    110100\n",
      "\n"
     ]
    },
    {
     "name": "stderr",
     "output_type": "stream",
     "text": [
      "/home/chris/.local/lib/python3.9/site-packages/sklearn/metrics/_classification.py:1245: UndefinedMetricWarning: Precision and F-score are ill-defined and being set to 0.0 in labels with no predicted samples. Use `zero_division` parameter to control this behavior.\n",
      "  _warn_prf(average, modifier, msg_start, len(result))\n",
      "/home/chris/.local/lib/python3.9/site-packages/sklearn/metrics/_classification.py:1245: UndefinedMetricWarning: Precision and F-score are ill-defined and being set to 0.0 in labels with no predicted samples. Use `zero_division` parameter to control this behavior.\n",
      "  _warn_prf(average, modifier, msg_start, len(result))\n",
      "/home/chris/.local/lib/python3.9/site-packages/sklearn/metrics/_classification.py:1245: UndefinedMetricWarning: Precision and F-score are ill-defined and being set to 0.0 in labels with no predicted samples. Use `zero_division` parameter to control this behavior.\n",
      "  _warn_prf(average, modifier, msg_start, len(result))\n"
     ]
    }
   ],
   "source": [
    "from sklearn.metrics import classification_report\n",
    "cr = classification_report(y_true, y_pred, \n",
    "                           target_names=pipe['fit_labels'].wr.classes_)\n",
    "\n",
    "print(cr)"
   ]
  },
  {
   "cell_type": "markdown",
   "metadata": {},
   "source": [
    "# RNN with Skorch\n",
    "\n",
    "To get a pipeline ready model we use skorch. \n",
    "<hr>\n",
    "Only have to modify the loss classifiers function:"
   ]
  },
  {
   "cell_type": "raw",
   "metadata": {},
   "source": [
    "X, y = get_data()\n",
    "# put your X into a dict if not already a dict\n",
    "X = {'data': X}\n",
    "# add sample_weight to the X dict\n",
    "X['sample_weight'] = sample_weight\n",
    "\n",
    "class MyModule(nn.Module):\n",
    "    ...\n",
    "    def forward(self, data, sample_weight):\n",
    "        # when X is a dict, its keys are passed as kwargs to forward, thus\n",
    "        # our forward has to have the arguments 'data' and 'sample_weight';\n",
    "        # usually, sample_weight can be ignored here\n",
    "        ...\n",
    "\n",
    "class MyNet(NeuralNet):\n",
    "    def __init__(self, *args, criterion__reduce=False, **kwargs):\n",
    "        # make sure to set reduce=False in your criterion, since we need the loss\n",
    "        # for each sample so that it can be weighted\n",
    "        super().__init__(*args, criterion__reduce=criterion__reduce, **kwargs)\n",
    "\n",
    "    def get_loss(self, y_pred, y_true, X, *args, **kwargs):\n",
    "        # override get_loss to use the sample_weight from X\n",
    "        loss_unreduced = super().get_loss(y_pred, y_true, X, *args, **kwargs)\n",
    "        sample_weight = skorch.utils.to_tensor(X['sample_weight'], device=self.device)\n",
    "        loss_reduced = (sample_weight * loss_unreduced).mean()\n",
    "        return loss_reduced\n",
    "\n",
    "net = MyNet(MyModule, ...)\n",
    "net.fit(X, y)"
   ]
  },
  {
   "cell_type": "code",
   "execution_count": 21,
   "metadata": {},
   "outputs": [],
   "source": [
    "from skorch.utils import to_tensor\n",
    "from skorch.utils import TeeGenerator\n",
    "class RNNClassifier(NeuralNetClassifier):\n",
    "    def __init__(self, *args, batch_size=1, train_split=None,**kwargs):\n",
    "            super().__init__(*args, batch_size=batch_size, train_split=train_split, **kwargs)\n",
    "    \n",
    "    def get_loss(self, y_pred, y_true, X=None, training=False):\n",
    "        \"\"\"Return the loss for this batch.\n",
    "        Parameters\n",
    "        ----------\n",
    "        y_pred : torch tensor\n",
    "          Predicted target values\n",
    "        y_true : torch tensor\n",
    "          True target values.\n",
    "        X : input data, compatible with skorch.dataset.Dataset\n",
    "        \"\"\"\n",
    "        if self.module_.seq_type == 'many-to-many':\n",
    "            y_true = torch.flatten(to_tensor(y_true, device=self.device), start_dim=0, end_dim=1)\n",
    "            y_pred = torch.flatten(y_pred, start_dim=0, end_dim=1)\n",
    "        \n",
    "        elif self.module_.seq_type != 'many-to-one':\n",
    "            ValueError(\"the sequence type of the RNN was false defined\")\n",
    "        \n",
    "        if isinstance(self.criterion_, torch.nn.Module):\n",
    "            self.criterion_.train(training)\n",
    "        \n",
    "        return self.criterion_(y_pred, y_true)"
   ]
  },
  {
   "cell_type": "markdown",
   "metadata": {},
   "source": [
    "and define the model "
   ]
  },
  {
   "cell_type": "code",
   "execution_count": 25,
   "metadata": {},
   "outputs": [],
   "source": [
    "# Training params\n",
    "max_epochs = 10\n",
    "learning_rate = 0.001 # 0.001 lr\n",
    "batch_size=2\n",
    "\n",
    "\n",
    "# RNN Params\n",
    "input_size = 12    # number of features\n",
    "hidden_size = 10   # number of features in hidden state\n",
    "num_layers = 2     # number of stacked lstm layers\n",
    "num_classes = 11   # number of output classes \n",
    "rec_layer_type = 'lstm'\n",
    "hidden_layers=1\n",
    "seq_type='many-to-many'\n",
    "\n",
    "\n",
    "model = RNNClassifier(\n",
    "    module=RNN,\n",
    "    max_epochs=max_epochs,\n",
    "    #batch_size=1,\n",
    "    #train_split=None,\n",
    "    device=('cuda' if use_cuda else 'cpu'),\n",
    "    lr=learning_rate,\n",
    "    criterion=torch.nn.CrossEntropyLoss,\n",
    "    optimizer=torch.optim.Adam,\n",
    "    callbacks=[skorch.callbacks.ProgressBar()],\n",
    "    module__input_size=input_size,\n",
    "    module__n_classes=num_classes,\n",
    "    module__hidden_size=hidden_size,\n",
    "    module__rec_layer_type=rec_layer_type,\n",
    "    module__seq=seq_type,\n",
    "    iterator_train__shuffle=True, # TODO TEST THIS\n",
    ")"
   ]
  },
  {
   "cell_type": "code",
   "execution_count": 26,
   "metadata": {},
   "outputs": [
    {
     "data": {
      "text/plain": [
       "((989, 300, 12), (989, 300))"
      ]
     },
     "execution_count": 26,
     "metadata": {},
     "output_type": "execute_result"
    }
   ],
   "source": [
    "Xenc_train.shape, yenc_train.shape"
   ]
  },
  {
   "cell_type": "code",
   "execution_count": 27,
   "metadata": {
    "scrolled": true
   },
   "outputs": [
    {
     "data": {
      "application/vnd.jupyter.widget-view+json": {
       "model_id": "",
       "version_major": 2,
       "version_minor": 0
      },
      "text/plain": [
       "  0%|          | 0/989 [00:00<?, ?it/s]"
      ]
     },
     "metadata": {},
     "output_type": "display_data"
    },
    {
     "name": "stdout",
     "output_type": "stream",
     "text": [
      "  epoch    train_loss      dur\n",
      "-------  ------------  -------\n",
      "      1        \u001b[36m2.2155\u001b[0m  81.9286\n"
     ]
    },
    {
     "data": {
      "application/vnd.jupyter.widget-view+json": {
       "model_id": "",
       "version_major": 2,
       "version_minor": 0
      },
      "text/plain": [
       "  0%|          | 0/989 [00:00<?, ?it/s]"
      ]
     },
     "metadata": {},
     "output_type": "display_data"
    },
    {
     "name": "stdout",
     "output_type": "stream",
     "text": [
      "      2        \u001b[36m2.1067\u001b[0m  83.8594\n"
     ]
    },
    {
     "data": {
      "application/vnd.jupyter.widget-view+json": {
       "model_id": "",
       "version_major": 2,
       "version_minor": 0
      },
      "text/plain": [
       "  0%|          | 0/989 [00:00<?, ?it/s]"
      ]
     },
     "metadata": {},
     "output_type": "display_data"
    },
    {
     "name": "stdout",
     "output_type": "stream",
     "text": [
      "      3        \u001b[36m1.9569\u001b[0m  82.2977\n"
     ]
    },
    {
     "data": {
      "application/vnd.jupyter.widget-view+json": {
       "model_id": "",
       "version_major": 2,
       "version_minor": 0
      },
      "text/plain": [
       "  0%|          | 0/989 [00:00<?, ?it/s]"
      ]
     },
     "metadata": {},
     "output_type": "display_data"
    },
    {
     "name": "stdout",
     "output_type": "stream",
     "text": [
      "      4        \u001b[36m1.9049\u001b[0m  85.9134\n"
     ]
    },
    {
     "data": {
      "application/vnd.jupyter.widget-view+json": {
       "model_id": "",
       "version_major": 2,
       "version_minor": 0
      },
      "text/plain": [
       "  0%|          | 0/989 [00:00<?, ?it/s]"
      ]
     },
     "metadata": {},
     "output_type": "display_data"
    },
    {
     "name": "stdout",
     "output_type": "stream",
     "text": [
      "      5        \u001b[36m1.8917\u001b[0m  83.3628\n"
     ]
    },
    {
     "data": {
      "application/vnd.jupyter.widget-view+json": {
       "model_id": "",
       "version_major": 2,
       "version_minor": 0
      },
      "text/plain": [
       "  0%|          | 0/989 [00:00<?, ?it/s]"
      ]
     },
     "metadata": {},
     "output_type": "display_data"
    },
    {
     "name": "stdout",
     "output_type": "stream",
     "text": [
      "      6        \u001b[36m1.8824\u001b[0m  82.5277\n"
     ]
    },
    {
     "data": {
      "application/vnd.jupyter.widget-view+json": {
       "model_id": "",
       "version_major": 2,
       "version_minor": 0
      },
      "text/plain": [
       "  0%|          | 0/989 [00:00<?, ?it/s]"
      ]
     },
     "metadata": {},
     "output_type": "display_data"
    },
    {
     "name": "stdout",
     "output_type": "stream",
     "text": [
      "      7        \u001b[36m1.8743\u001b[0m  82.8012\n"
     ]
    },
    {
     "data": {
      "application/vnd.jupyter.widget-view+json": {
       "model_id": "",
       "version_major": 2,
       "version_minor": 0
      },
      "text/plain": [
       "  0%|          | 0/989 [00:00<?, ?it/s]"
      ]
     },
     "metadata": {},
     "output_type": "display_data"
    },
    {
     "name": "stdout",
     "output_type": "stream",
     "text": [
      "      8        \u001b[36m1.8673\u001b[0m  84.6639\n"
     ]
    },
    {
     "data": {
      "application/vnd.jupyter.widget-view+json": {
       "model_id": "",
       "version_major": 2,
       "version_minor": 0
      },
      "text/plain": [
       "  0%|          | 0/989 [00:00<?, ?it/s]"
      ]
     },
     "metadata": {},
     "output_type": "display_data"
    },
    {
     "name": "stdout",
     "output_type": "stream",
     "text": [
      "      9        \u001b[36m1.8608\u001b[0m  83.5099\n"
     ]
    },
    {
     "data": {
      "application/vnd.jupyter.widget-view+json": {
       "model_id": "",
       "version_major": 2,
       "version_minor": 0
      },
      "text/plain": [
       "  0%|          | 0/989 [00:00<?, ?it/s]"
      ]
     },
     "metadata": {},
     "output_type": "display_data"
    },
    {
     "name": "stdout",
     "output_type": "stream",
     "text": [
      "     10        \u001b[36m1.8531\u001b[0m  83.6879\n"
     ]
    }
   ],
   "source": [
    "model = model.fit(Xenc_train, yenc_train)"
   ]
  },
  {
   "cell_type": "code",
   "execution_count": 28,
   "metadata": {
    "scrolled": true
   },
   "outputs": [
    {
     "data": {
      "text/plain": [
       "(367, 300, 11)"
      ]
     },
     "execution_count": 28,
     "metadata": {},
     "output_type": "execute_result"
    }
   ],
   "source": [
    "y_pred_proba = model.predict_proba(Xenc_test)\n",
    "y_pred_proba.shape"
   ]
  },
  {
   "cell_type": "code",
   "execution_count": 32,
   "metadata": {
    "scrolled": true
   },
   "outputs": [
    {
     "data": {
      "text/plain": [
       "(array([10,  8,  8,  8,  8,  8,  8,  8,  8,  8, 10, 10, 10, 10, 10, 10, 10,\n",
       "        10, 10, 10, 10, 10, 10, 10,  2,  2,  5,  5,  2,  2, 10, 10, 10, 10,\n",
       "        10, 10, 10, 10,  8,  8,  8,  8,  8,  8, 10, 10, 10, 10, 10, 10, 10,\n",
       "        10,  3,  3,  3,  3, 10, 10, 10, 10,  8,  8,  8,  8,  8,  8, 10, 10,\n",
       "        10, 10, 10, 10, 10, 10, 10, 10, 10, 10, 10, 10,  8,  8,  8,  8,  8,\n",
       "         8,  8,  8,  8,  8,  7,  7,  7,  7,  7,  7,  8,  8,  8,  8,  8,  8,\n",
       "        10, 10, 10, 10, 10, 10,  2,  2,  2,  2,  9,  9,  2,  2, 10, 10, 10,\n",
       "        10,  3,  3,  3,  3,  3,  3, 10, 10, 10, 10,  2,  2,  2,  2, 10, 10,\n",
       "        10, 10,  9,  9,  9,  9,  9,  9,  9,  9,  6,  6,  6,  6,  9,  9,  9,\n",
       "         9, 10, 10, 10, 10,  0,  0,  0,  0,  0,  0,  0,  0,  0,  0,  0,  0,\n",
       "         0,  0,  0,  0,  0,  0,  2,  2,  2,  2, 10, 10, 10, 10,  2,  2,  9,\n",
       "         9,  2,  2, 10, 10, 10, 10, 10, 10, 10, 10,  8,  8,  8,  8,  8,  8,\n",
       "        10, 10, 10, 10, 10, 10, 10, 10,  8,  8,  8,  8,  8,  8,  3,  3,  3,\n",
       "         3,  7,  7,  7,  7,  7,  7, 10, 10, 10, 10, 10, 10, 10, 10, 10, 10,\n",
       "        10, 10, 10, 10,  8,  8,  8,  8,  8,  8,  8,  8,  7,  7,  7,  7,  7,\n",
       "         7,  7,  7, 10, 10,  8,  8,  8,  8,  8,  8,  9,  9,  9,  9,  9,  2,\n",
       "         2,  2,  2,  2,  9,  2,  3,  3,  8,  8,  8,  8,  8,  8,  8,  8,  9,\n",
       "         9,  8,  8,  8,  8,  8,  8,  7,  7,  7,  7]),\n",
       " 3188,\n",
       " array([[0.07862735, 0.07862715, 0.07862731, ..., 0.0786272 , 0.21372773,\n",
       "         0.07862718],\n",
       "        [0.07872958, 0.07872033, 0.07872025, ..., 0.07875752, 0.21209988,\n",
       "         0.07936651],\n",
       "        [0.07988852, 0.07986551, 0.07986555, ..., 0.08021263, 0.09081392,\n",
       "         0.19001827],\n",
       "        ...,\n",
       "        [0.07863918, 0.07863899, 0.07863932, ..., 0.07864669, 0.07869969,\n",
       "         0.21352173],\n",
       "        [0.07867111, 0.07863908, 0.07863899, ..., 0.07863904, 0.07865966,\n",
       "         0.07864594],\n",
       "        [0.07867149, 0.0786351 , 0.07863503, ..., 0.07863509, 0.07863667,\n",
       "         0.07863518]], dtype=float32))"
      ]
     },
     "execution_count": 32,
     "metadata": {},
     "output_type": "execute_result"
    }
   ],
   "source": [
    "yenc_test[0], np.argmax(y_pred_proba[0]), y_pred_proba[0],"
   ]
  },
  {
   "cell_type": "code",
   "execution_count": 30,
   "metadata": {
    "scrolled": true
   },
   "outputs": [
    {
     "data": {
      "text/plain": [
       "(367, 11)"
      ]
     },
     "execution_count": 30,
     "metadata": {},
     "output_type": "execute_result"
    }
   ],
   "source": [
    "y_pred = model.predict(Xenc_test) # applies argmax over last axis from predict_proba\n",
    "y_pred.shape"
   ]
  },
  {
   "cell_type": "code",
   "execution_count": 31,
   "metadata": {
    "scrolled": false
   },
   "outputs": [
    {
     "data": {
      "text/plain": [
       "(array([10,  8,  8,  8,  8,  8,  8,  8,  8,  8, 10, 10, 10, 10, 10, 10, 10,\n",
       "        10, 10, 10, 10, 10, 10, 10,  2,  2,  5,  5,  2,  2, 10, 10, 10, 10,\n",
       "        10, 10, 10, 10,  8,  8,  8,  8,  8,  8, 10, 10, 10, 10, 10, 10, 10,\n",
       "        10,  3,  3,  3,  3, 10, 10, 10, 10,  8,  8,  8,  8,  8,  8, 10, 10,\n",
       "        10, 10, 10, 10, 10, 10, 10, 10, 10, 10, 10, 10,  8,  8,  8,  8,  8,\n",
       "         8,  8,  8,  8,  8,  7,  7,  7,  7,  7,  7,  8,  8,  8,  8,  8,  8,\n",
       "        10, 10, 10, 10, 10, 10,  2,  2,  2,  2,  9,  9,  2,  2, 10, 10, 10,\n",
       "        10,  3,  3,  3,  3,  3,  3, 10, 10, 10, 10,  2,  2,  2,  2, 10, 10,\n",
       "        10, 10,  9,  9,  9,  9,  9,  9,  9,  9,  6,  6,  6,  6,  9,  9,  9,\n",
       "         9, 10, 10, 10, 10,  0,  0,  0,  0,  0,  0,  0,  0,  0,  0,  0,  0,\n",
       "         0,  0,  0,  0,  0,  0,  2,  2,  2,  2, 10, 10, 10, 10,  2,  2,  9,\n",
       "         9,  2,  2, 10, 10, 10, 10, 10, 10, 10, 10,  8,  8,  8,  8,  8,  8,\n",
       "        10, 10, 10, 10, 10, 10, 10, 10,  8,  8,  8,  8,  8,  8,  3,  3,  3,\n",
       "         3,  7,  7,  7,  7,  7,  7, 10, 10, 10, 10, 10, 10, 10, 10, 10, 10,\n",
       "        10, 10, 10, 10,  8,  8,  8,  8,  8,  8,  8,  8,  7,  7,  7,  7,  7,\n",
       "         7,  7,  7, 10, 10,  8,  8,  8,  8,  8,  8,  9,  9,  9,  9,  9,  2,\n",
       "         2,  2,  2,  2,  9,  2,  3,  3,  8,  8,  8,  8,  8,  8,  8,  8,  9,\n",
       "         9,  8,  8,  8,  8,  8,  8,  7,  7,  7,  7]),\n",
       " array([166, 153, 276,  52,  92, 153, 147, 299, 249, 289, 130]))"
      ]
     },
     "execution_count": 31,
     "metadata": {},
     "output_type": "execute_result"
    }
   ],
   "source": [
    "yenc_test[0], y_pred[0]"
   ]
  },
  {
   "cell_type": "code",
   "execution_count": 51,
   "metadata": {},
   "outputs": [
    {
     "data": {
      "text/plain": [
       "((367,), (367,))"
      ]
     },
     "execution_count": 51,
     "metadata": {},
     "output_type": "execute_result"
    }
   ],
   "source": [
    "y_pred.shape, yenc_test.shape"
   ]
  },
  {
   "cell_type": "code",
   "execution_count": 52,
   "metadata": {},
   "outputs": [
    {
     "data": {
      "image/png": "[encoded data removed]",
      "text/plain": [
       "<Figure size 432x288 with 2 Axes>"
      ]
     },
     "metadata": {
      "needs_background": "light"
     },
     "output_type": "display_data"
    }
   ],
   "source": [
    "cm = confusion_matrix(yenc_test, y_pred);\n",
    "\n",
    "ConfusionMatrixDisplay(\n",
    "    confusion_matrix=cm,\n",
    "    display_labels=pipe['fit_labels'].wr.classes_)\\\n",
    ".plot(xticks_rotation='vertical');"
   ]
  },
  {
   "cell_type": "code",
   "execution_count": 53,
   "metadata": {},
   "outputs": [
    {
     "name": "stdout",
     "output_type": "stream",
     "text": [
      "               precision    recall  f1-score   support\n",
      "\n",
      "    Breakfast       0.00      0.00      0.00        21\n",
      "       Dinner       0.00      0.00      0.00        12\n",
      "     Grooming       0.00      0.00      0.00        28\n",
      "      Leaving       0.00      0.00      0.00         6\n",
      "        Lunch       0.00      0.00      0.00        15\n",
      "    Showering       0.00      0.00      0.00         1\n",
      "     Sleeping       0.00      0.00      0.00        12\n",
      "        Snack       0.00      0.00      0.00        16\n",
      "Spare_Time/TV       0.38      0.47      0.42        43\n",
      "    Toileting       0.00      0.00      0.00        25\n",
      "         idle       0.57      0.95      0.71       188\n",
      "\n",
      "     accuracy                           0.54       367\n",
      "    macro avg       0.09      0.13      0.10       367\n",
      " weighted avg       0.33      0.54      0.41       367\n",
      "\n"
     ]
    },
    {
     "name": "stderr",
     "output_type": "stream",
     "text": [
      "/home/chris/.local/lib/python3.9/site-packages/sklearn/metrics/_classification.py:1245: UndefinedMetricWarning: Precision and F-score are ill-defined and being set to 0.0 in labels with no predicted samples. Use `zero_division` parameter to control this behavior.\n",
      "  _warn_prf(average, modifier, msg_start, len(result))\n",
      "/home/chris/.local/lib/python3.9/site-packages/sklearn/metrics/_classification.py:1245: UndefinedMetricWarning: Precision and F-score are ill-defined and being set to 0.0 in labels with no predicted samples. Use `zero_division` parameter to control this behavior.\n",
      "  _warn_prf(average, modifier, msg_start, len(result))\n",
      "/home/chris/.local/lib/python3.9/site-packages/sklearn/metrics/_classification.py:1245: UndefinedMetricWarning: Precision and F-score are ill-defined and being set to 0.0 in labels with no predicted samples. Use `zero_division` parameter to control this behavior.\n",
      "  _warn_prf(average, modifier, msg_start, len(result))\n"
     ]
    }
   ],
   "source": [
    "cr = classification_report(yenc_test, y_pred, target_names=pipe['fit_labels'].wr.classes_)\n",
    "\n",
    "print(cr)"
   ]
  },
  {
   "cell_type": "markdown",
   "metadata": {},
   "source": [
    "# Grid search"
   ]
  },
  {
   "cell_type": "code",
   "execution_count": 54,
   "metadata": {},
   "outputs": [],
   "source": [
    "# when the input shape changes we want to set it dynamically\n",
    "\n",
    "class InputShapeSetter(skorch.callbacks.Callback):\n",
    "    def on_train_begin(self, net, X, y):\n",
    "        net.set_params(module__input_size=X.shape[2])"
   ]
  },
  {
   "cell_type": "code",
   "execution_count": 59,
   "metadata": {},
   "outputs": [],
   "source": [
    "from pyadlml.model_selection import GridSearchCV, TimeSeriesSplit\n",
    "from pyadlml.preprocessing import StateVectorEncoder, LabelEncoder, DropTimeIndex, CVSubset, SequenceSlicer, Df2Numpy, Df2Torch\n",
    "from pyadlml.pipeline import Pipeline, TrainOnlyWrapper, EvalOnlyWrapper, TrainOrEvalOnlyWrapper\n",
    "\n",
    "input_size = 20\n",
    "num_classes = 12\n",
    "max_epochs = 10\n",
    "\n",
    "classifier = RNNClassifier(module=RNN,\n",
    "    max_epochs=max_epochs,\n",
    "    device=('cuda' if use_cuda else 'cpu'),\n",
    "    criterion=torch.nn.CrossEntropyLoss,\n",
    "    optimizer=torch.optim.Adam,    \n",
    "    module__input_size=input_size,\n",
    "    module__n_classes=num_classes,\n",
    "    module__seq='many-to-one',\n",
    "    callbacks=[InputShapeSetter()]\n",
    ")\n",
    "steps=[\n",
    "   ('sv_enc', StateVectorEncoder()),\n",
    "    ('lbl_enc', TrainOrEvalOnlyWrapper(LabelEncoder(idle=True))),\n",
    "    ('select_train', TrainOnlyWrapper(CVSubset())),\n",
    "    ('select_val', EvalOnlyWrapper(CVSubset())),\n",
    "    ('drop_time', DropTimeIndex()),\n",
    "    ('df->np', DfCaster('df->np', 'df->np')),\n",
    "    ('batcher', TrainOrEvalOnlyWrapper(SequenceSlicer(rep=seq_type, stride=3))),\n",
    "   #('dim_fix', ProdOnlyWrapper(AddBatchDim())),\n",
    "    ('classifier', classifier),\n",
    "]\n",
    "    \n",
    "pipe = Pipeline(steps).train()\n",
    "\n",
    "\n",
    "param_grid = {\n",
    "    'sv_enc__encode': ['changepoint', 'raw+changepoint'],\n",
    "    'batcher__wr__window_size': [100,300],\n",
    "    #'batcher__wr__stride': [1,5,20],\n",
    "    #'classifier__lr': [0.001, 0.01, 0.1],\n",
    "    #'classifier__module__hidden_size': [20,100, 30],\n",
    "    #'classifier__module__rec_layer_type': ['lstm', 'gru'],\n",
    "    \n",
    "}"
   ]
  },
  {
   "cell_type": "code",
   "execution_count": 60,
   "metadata": {},
   "outputs": [],
   "source": [
    "ts = TimeSeriesSplit()\n",
    "\n",
    "gscv = GridSearchCV(\n",
    "    online_train_val_split=True,\n",
    "    estimator=pipe,\n",
    "    param_grid=param_grid,\n",
    "    scoring=['accuracy'],\n",
    "    verbose=1,\n",
    "    refit=True,\n",
    "    n_jobs=8,\n",
    "    cv=ts\n",
    ")"
   ]
  },
  {
   "cell_type": "code",
   "execution_count": 61,
   "metadata": {
    "scrolled": true
   },
   "outputs": [
    {
     "name": "stdout",
     "output_type": "stream",
     "text": [
      "Fitting 5 folds for each of 4 candidates, totalling 20 fits\n",
      "report:  {'mean_fit_time': array([327.4951015 , 349.02462339, 310.02911925, 264.32844663]), 'std_fit_time': array([131.27117057, 178.26092279, 114.94021226,  71.90174177]), 'mean_score_time': array([7.68317513, 7.38647237, 6.42873378, 4.2857058 ]), 'std_score_time': array([0.17519425, 1.75292245, 2.65913357, 2.03981355]), 'param_batcher__wr__window_size': masked_array(data=[100, 100, 300, 300],\n",
      "             mask=[False, False, False, False],\n",
      "       fill_value='?',\n",
      "            dtype=object), 'param_sv_enc__encode': masked_array(data=['changepoint', 'raw+changepoint', 'changepoint',\n",
      "                   'raw+changepoint'],\n",
      "             mask=[False, False, False, False],\n",
      "       fill_value='?',\n",
      "            dtype=object), 'params': [{'batcher__wr__window_size': 100, 'sv_enc__encode': 'changepoint'}, {'batcher__wr__window_size': 100, 'sv_enc__encode': 'raw+changepoint'}, {'batcher__wr__window_size': 300, 'sv_enc__encode': 'changepoint'}, {'batcher__wr__window_size': 300, 'sv_enc__encode': 'raw+changepoint'}], 'split0_test_accuracy': array([0.16759777, 0.16759777, 0.16759777, 0.16759777]), 'split1_test_accuracy': array([0.25139665, 0.25139665, 0.25139665, 0.25139665]), 'split2_test_accuracy': array([0.26256983, 0.26256983, 0.26256983, 0.26256983]), 'split3_test_accuracy': array([0.20111732, 0.29050279, 0.20111732, 0.29050279]), 'split4_test_accuracy': array([0.25139665, 0.25139665, 0.36312849, 0.25139665]), 'mean_test_accuracy': array([0.22681564, 0.24469274, 0.24916201, 0.24469274]), 'std_test_accuracy': array([0.03648006, 0.04111367, 0.06653441, 0.04111367]), 'rank_test_accuracy': array([4, 2, 1, 2], dtype=int32)}\n"
     ]
    }
   ],
   "source": [
    "gscv = gscv.fit(X_train, y_train)\n",
    "print('report: ', gscv.cv_results_)"
   ]
  },
  {
   "cell_type": "code",
   "execution_count": 64,
   "metadata": {
    "scrolled": false
   },
   "outputs": [
    {
     "data": {
      "image/png": "[encoded data removed]",
      "text/plain": [
       "<Figure size 720x1080 with 1 Axes>"
      ]
     },
     "metadata": {
      "needs_background": "light"
     },
     "output_type": "display_data"
    }
   ],
   "source": [
    "from pyadlml.plot import plot_cv_impact_parameter\n",
    "plot_cv_impact_parameter(gscv, 'batcher__wr__window_size')"
   ]
  },
  {
   "cell_type": "code",
   "execution_count": null,
   "metadata": {},
   "outputs": [],
   "source": []
  }
 ],
 "metadata": {
  "kernelspec": {
   "display_name": "pyadlml",
   "language": "python",
   "name": "pyadlml"
  },
  "language_info": {
   "codemirror_mode": {
    "name": "ipython",
    "version": 3
   },
   "file_extension": ".py",
   "mimetype": "text/x-python",
   "name": "python",
   "nbconvert_exporter": "python",
   "pygments_lexer": "ipython3",
   "version": "3.9.5"
  }
 },
 "nbformat": 4,
 "nbformat_minor": 2
}
