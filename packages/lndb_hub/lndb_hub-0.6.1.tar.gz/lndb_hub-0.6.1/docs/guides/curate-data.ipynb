{
 "cells": [
  {
   "cell_type": "markdown",
   "id": "0a9571ac-9c68-437f-ba51-95d06e283cac",
   "metadata": {},
   "source": [
    "# How to curate data"
   ]
  },
  {
   "cell_type": "markdown",
   "id": "0abfc3c7",
   "metadata": {},
   "source": [
    "```{note}\n",
    "Any guide notebook is automatically run for testing! If a cell fails, the tests will fail! Try changing the assert statement below to observe.\n",
    "\n",
    "Note that task notebooks are neither tested, nor being built!\n",
    "```"
   ]
  },
  {
   "cell_type": "code",
   "execution_count": null,
   "id": "bcc0c374-0224-4935-b862-0b013c624375",
   "metadata": {},
   "outputs": [],
   "source": [
    "from lndb_hub import Entities"
   ]
  }
 ],
 "metadata": {
  "kernelspec": {
   "display_name": "Python 3.9.12 ('base')",
   "language": "python",
   "name": "python3"
  },
  "language_info": {
   "codemirror_mode": {
    "name": "ipython",
    "version": 3
   },
   "file_extension": ".py",
   "mimetype": "text/x-python",
   "name": "python",
   "nbconvert_exporter": "python",
   "pygments_lexer": "ipython3",
   "version": "3.9.12"
  },
  "vscode": {
   "interpreter": {
    "hash": "2841734f87827db3a7b3181a6051fe720e9968e703956c2bd6988b5a29362801"
   }
  }
 },
 "nbformat": 4,
 "nbformat_minor": 5
}
