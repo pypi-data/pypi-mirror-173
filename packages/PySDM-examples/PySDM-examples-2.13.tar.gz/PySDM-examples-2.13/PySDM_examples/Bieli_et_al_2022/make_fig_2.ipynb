{
 "cells": [
  {
   "cell_type": "markdown",
   "metadata": {},
   "source": [
    "## Figure 2: evolution of the first three moments for different values of coalescence efficiency\n",
    "https://www.essoar.org/doi/abs/10.1002/essoar.10510248.1"
   ]
  },
  {
   "cell_type": "code",
   "execution_count": 2,
   "metadata": {},
   "outputs": [],
   "source": [
    "from matplotlib import pyplot\n",
    "import numpy as np"
   ]
  },
  {
   "cell_type": "code",
   "execution_count": 3,
   "metadata": {},
   "outputs": [],
   "source": [
    "from PySDM_examples.Bieli_et_al_2022.settings import Settings\n",
    "from PySDM_examples.Bieli_et_al_2022.simulation import make_core\n",
    "from PySDM.physics import si\n",
    "from atmos_cloud_sim_uj_utils import show_plot"
   ]
  },
  {
   "cell_type": "code",
   "execution_count": 4,
   "metadata": {},
   "outputs": [
    {
     "data": {
      "image/png": "[encoded data removed]",
      "text/plain": [
       "<Figure size 576x216 with 3 Axes>"
      ]
     },
     "metadata": {
      "needs_background": "light"
     },
     "output_type": "display_data"
    },
    {
     "data": {
      "application/vnd.jupyter.widget-view+json": {
       "model_id": "4db459dfae6849beb83d1abd56267b6e",
       "version_major": 2,
       "version_minor": 0
      },
      "text/plain": [
       "HTML(value=\"<a href='./fig2.pdf' target='_blank'>./fig2.pdf</a><br>\")"
      ]
     },
     "metadata": {},
     "output_type": "display_data"
    }
   ],
   "source": [
    "settings = Settings()\n",
    "fig, ax = pyplot.subplots(nrows=1, ncols=3, figsize=(8,3))\n",
    "for i in range(3):\n",
    "    coal_eff = settings.coal_effs[i]\n",
    "    particulator = make_core(settings, coal_eff)\n",
    "    t = settings.output_steps\n",
    "    moments = np.zeros((3, len(t)))\n",
    "    j = 0\n",
    "    for step in settings.output_steps:\n",
    "        particulator.run(step - particulator.n_steps)\n",
    "        moments[:,j] = [particulator.products['M0'].get()[0], particulator.products['M1'].get()[0], \n",
    "            particulator.products['M2'].get()[0]]\n",
    "        j += 1\n",
    "    moments[1,:] *= moments[0,:]\n",
    "    moments[2,:] *= moments[0,:]\n",
    "    moments[1,:] *= settings.rho / si.g\n",
    "    moments[2,:] *= settings.rho**2 / si.g**2\n",
    "    moments *= 1/settings.dv*si.cm**3\n",
    "    ax[0].plot(t, moments[0,:])\n",
    "    ax[1].plot(t, moments[1,:])\n",
    "    ax[2].plot(t, moments[2,:])\n",
    "ax[0].set_xlabel('time (s)')\n",
    "ax[1].set_xlabel('time (s)')\n",
    "ax[2].set_xlabel('time (s)')\n",
    "ax[0].set_ylabel('$M_0$ (1/cm$^3$)')\n",
    "ax[1].set_ylabel('$M_1$ (g/cm$^3$)')\n",
    "ax[2].set_ylabel('$M_2$ (g$^2$/cm$^3$)')\n",
    "\n",
    "ax[0].set_ylim([0,2e4])\n",
    "ax[1].set_ylim([0,5e-6])\n",
    "ax[2].set_ylim([0,2e-14])\n",
    "pyplot.legend(['E_c=0.8','E_c=0.9','E_c=1.0'])\n",
    "pyplot.tight_layout()\n",
    "show_plot('fig2.pdf')\n"
   ]
  },
  {
   "cell_type": "code",
   "execution_count": null,
   "metadata": {},
   "outputs": [],
   "source": []
  }
 ],
 "metadata": {
  "interpreter": {
   "hash": "b43cf254c70d60c2e21a7f71ba113e70c1694742e72407132919c841d907074b"
  },
  "kernelspec": {
   "display_name": "Python 3.9.4 64-bit ('edjPySDM': conda)",
   "name": "python3"
  },
  "language_info": {
   "codemirror_mode": {
    "name": "ipython",
    "version": 3
   },
   "file_extension": ".py",
   "mimetype": "text/x-python",
   "name": "python",
   "nbconvert_exporter": "python",
   "pygments_lexer": "ipython3",
   "version": "3.9.4"
  }
 },
 "nbformat": 4,
 "nbformat_minor": 4
}
